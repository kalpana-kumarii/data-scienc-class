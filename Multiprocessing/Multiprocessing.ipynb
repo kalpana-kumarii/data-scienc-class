{
 "cells": [
  {
   "cell_type": "code",
   "execution_count": 1,
   "id": "0efd6b6d-8016-4557-a972-95ffb4c36233",
   "metadata": {},
   "outputs": [
    {
     "name": "stdout",
     "output_type": "stream",
     "text": [
      "this is my main program\n",
      "this is my multiprocessing program\n"
     ]
    }
   ],
   "source": [
    "import multiprocessing\n",
    "\n",
    "def test():\n",
    "    print(\"this is my multiprocessing program\")\n",
    "#process function    \n",
    "if __name__ == '__main__' :\n",
    "    \n",
    "    m=multiprocessing.Process(target=test)\n",
    "    print(\"this is my main program\")\n",
    "    m.start()\n",
    "    m.join()"
   ]
  },
  {
   "cell_type": "code",
   "execution_count": 2,
   "id": "aed29416-b911-4d94-843f-d7d04cfac904",
   "metadata": {},
   "outputs": [
    {
     "name": "stdout",
     "output_type": "stream",
     "text": [
      "this is my multiprocessing program\n"
     ]
    }
   ],
   "source": [
    "test()"
   ]
  },
  {
   "cell_type": "code",
   "execution_count": 3,
   "id": "6b7b783b-31a5-42f2-b557-f97ae056cdf5",
   "metadata": {},
   "outputs": [
    {
     "name": "stdout",
     "output_type": "stream",
     "text": [
      "[1, 4, 9, 16, 25, 36, 49, 64, 81]\n"
     ]
    }
   ],
   "source": [
    "#pool function\n",
    "def square(a):\n",
    "    return a**2\n",
    "if __name__ == '__main__':\n",
    "    with multiprocessing.Pool(processes=4) as pool :\n",
    "        out= pool.map(square, [1,2,3,4,5,6,7,8,9])\n",
    "        print(out)\n"
   ]
  },
  {
   "cell_type": "code",
   "execution_count": null,
   "id": "059cb38e-203d-42d8-888e-a26b49998750",
   "metadata": {},
   "outputs": [
    {
     "name": "stdout",
     "output_type": "stream",
     "text": [
      "0\n",
      "1\n",
      "2\n",
      "3\n",
      "4\n",
      "5\n",
      "6\n",
      "7\n",
      "8\n",
      "9\n",
      "sudh\n"
     ]
    }
   ],
   "source": [
    "def producer(q):\n",
    "    for i in range(10):\n",
    "        q.put(i)\n",
    "\n",
    "def consume(q):\n",
    "    while True :\n",
    "        \n",
    "        item=q.get()\n",
    "        if item is None :\n",
    "            break\n",
    "        print(item)\n",
    "\n",
    "if __name__ == '__main__' :\n",
    "    queue = multiprocessing.Queue()\n",
    "    m1= multiprocessing.Process(target=producer, args=(queue ,))\n",
    "    m2=multiprocessing.Process(target=consume, args=(queue,))\n",
    "    m1.start()\n",
    "    m2.start()\n",
    "    queue.put(\"sudh\")\n",
    "    m1.join()\n",
    "    m2.join()"
   ]
  },
  {
   "cell_type": "code",
   "execution_count": null,
   "id": "0503be00-2b37-4914-a4cf-c46df790a6a0",
   "metadata": {},
   "outputs": [
    {
     "name": "stdout",
     "output_type": "stream",
     "text": [
      "sudh\n",
      "kumar\n",
      "krish\n",
      "sudh\n"
     ]
    }
   ],
   "source": [
    "def producer(q):\n",
    "    for i in [\"sudh\" ,\"kumar\",\"krish\"]:\n",
    "        q.put(i)\n",
    "\n",
    "def consume(q):\n",
    "    while True :\n",
    "        \n",
    "        item=q.get()\n",
    "        if item is None :\n",
    "            break\n",
    "        print(item)\n",
    "\n",
    "if __name__ == '__main__' :\n",
    "    queue = multiprocessing.Queue()\n",
    "    m1= multiprocessing.Process(target=producer, args=(queue ,))\n",
    "    m2=multiprocessing.Process(target=consume, args=(queue,))\n",
    "    m1.start()\n",
    "    m2.start()\n",
    "    queue.put(\"sudh\")\n",
    "    m1.join()\n",
    "    m2.join()"
   ]
  },
  {
   "cell_type": "code",
   "execution_count": 5,
   "id": "9632fbd3-dd4e-411a-b0e6-3274a0e6432a",
   "metadata": {},
   "outputs": [
    {
     "name": "stdout",
     "output_type": "stream",
     "text": [
      "[4, 9, 16, 25, 36, 49, 64]\n"
     ]
    }
   ],
   "source": [
    "import multiprocessing\n",
    "def square1(index,value):\n",
    "    value[index]=value[index]**2\n",
    "    \n",
    "if __name__ =='__main__':\n",
    "    arr=multiprocessing.Array('i',[2,3,4,5,6,7,8])\n",
    "    process=[]\n",
    "    for i in range(7):\n",
    "        m=multiprocessing.Process(target=square1, args=(i,arr))\n",
    "        process.append(m)\n",
    "        m.start()\n",
    "    for m in process:\n",
    "        m.join()\n",
    "    print(list(arr))"
   ]
  },
  {
   "cell_type": "code",
   "execution_count": null,
   "id": "3df78293-ef71-4238-b188-57da09c2dad4",
   "metadata": {},
   "outputs": [
    {
     "name": "stdout",
     "output_type": "stream",
     "text": [
      "['my name is kalpana', 'this is my msg ']\n",
      "['my name is kalpana', 'this is my msg ']\n"
     ]
    }
   ],
   "source": [
    "import multiprocessing\n",
    "\n",
    "def sender(con,msg):\n",
    "    for i in msg:\n",
    "        con.send(i)\n",
    "    con.close()\n",
    "    \n",
    "def receiver(con):\n",
    "    while True:\n",
    "        try:\n",
    "            con.recv()\n",
    "        except Exception as e:\n",
    "            print(e)\n",
    "            break\n",
    "        print(msg)\n",
    "        \n",
    "if __name__ == '__main__':\n",
    "    msg=[\"my name is kalpana\",\"this is my msg \",]\n",
    "    parent_con, child_con=multiprocessing.Pipe()\n",
    "    m1=multiprocessing.Process(target=sender, args=(child_con,msg))\n",
    "    m2=multiprocessing.Process(target=receiver, args=(parent_con,))\n",
    "    m1.start()\n",
    "    m2.start()\n",
    "    m1.join()\n",
    "    child_con.close()\n",
    "    m2.join()\n",
    "    parent_con.close()\n",
    "   "
   ]
  },
  {
   "cell_type": "code",
   "execution_count": null,
   "id": "a422bfa4-ebe6-4b5a-9a08-cb7445ddab2a",
   "metadata": {},
   "outputs": [],
   "source": []
  },
  {
   "cell_type": "code",
   "execution_count": null,
   "id": "50d17dfc-21c5-4ce6-8a1d-ac4e1661999e",
   "metadata": {},
   "outputs": [],
   "source": []
  }
 ],
 "metadata": {
  "kernelspec": {
   "display_name": "Python 3 (ipykernel)",
   "language": "python",
   "name": "python3"
  },
  "language_info": {
   "codemirror_mode": {
    "name": "ipython",
    "version": 3
   },
   "file_extension": ".py",
   "mimetype": "text/x-python",
   "name": "python",
   "nbconvert_exporter": "python",
   "pygments_lexer": "ipython3",
   "version": "3.10.8"
  }
 },
 "nbformat": 4,
 "nbformat_minor": 5
}
