{
 "cells": [
  {
   "cell_type": "code",
   "execution_count": 1,
   "id": "2c3f3d31-6084-4df4-8d34-2d7bddadb3bd",
   "metadata": {},
   "outputs": [],
   "source": [
    "l= [4,56,7,4,5,'sudh',True, 3+6j,45.556]"
   ]
  },
  {
   "cell_type": "code",
   "execution_count": 2,
   "id": "eb1178d1-060d-4100-ab20-6e655e80709f",
   "metadata": {},
   "outputs": [
    {
     "data": {
      "text/plain": [
       "[4, 56, 7, 4, 5, 'sudh', True, (3+6j), 45.556]"
      ]
     },
     "execution_count": 2,
     "metadata": {},
     "output_type": "execute_result"
    }
   ],
   "source": [
    "l"
   ]
  },
  {
   "cell_type": "code",
   "execution_count": 3,
   "id": "de668d78-3ab5-4536-b053-3ec69e5eb820",
   "metadata": {},
   "outputs": [
    {
     "data": {
      "text/plain": [
       "list"
      ]
     },
     "execution_count": 3,
     "metadata": {},
     "output_type": "execute_result"
    }
   ],
   "source": [
    "type(l)"
   ]
  },
  {
   "cell_type": "code",
   "execution_count": 4,
   "id": "d10a5326-dde4-4aab-bd91-7137fe92b575",
   "metadata": {},
   "outputs": [
    {
     "data": {
      "text/plain": [
       "4"
      ]
     },
     "execution_count": 4,
     "metadata": {},
     "output_type": "execute_result"
    }
   ],
   "source": [
    "l[0]"
   ]
  },
  {
   "cell_type": "code",
   "execution_count": 5,
   "id": "b7353582-cd9d-4c3b-a8e0-8515e761cfc4",
   "metadata": {},
   "outputs": [
    {
     "data": {
      "text/plain": [
       "True"
      ]
     },
     "execution_count": 5,
     "metadata": {},
     "output_type": "execute_result"
    }
   ],
   "source": [
    "l[6]"
   ]
  },
  {
   "cell_type": "code",
   "execution_count": 6,
   "id": "a41bd903-1600-427f-ae00-cadac6f5fd1f",
   "metadata": {},
   "outputs": [
    {
     "data": {
      "text/plain": [
       "45.556"
      ]
     },
     "execution_count": 6,
     "metadata": {},
     "output_type": "execute_result"
    }
   ],
   "source": [
    "l[8]"
   ]
  },
  {
   "cell_type": "code",
   "execution_count": 7,
   "id": "4b103cd1-dbf0-4a4a-a837-7ecfcf8bd3e5",
   "metadata": {},
   "outputs": [
    {
     "ename": "IndexError",
     "evalue": "list index out of range",
     "output_type": "error",
     "traceback": [
      "\u001b[0;31m---------------------------------------------------------------------------\u001b[0m",
      "\u001b[0;31mIndexError\u001b[0m                                Traceback (most recent call last)",
      "Cell \u001b[0;32mIn[7], line 1\u001b[0m\n\u001b[0;32m----> 1\u001b[0m \u001b[43ml\u001b[49m\u001b[43m[\u001b[49m\u001b[38;5;241;43m9\u001b[39;49m\u001b[43m]\u001b[49m\n",
      "\u001b[0;31mIndexError\u001b[0m: list index out of range"
     ]
    }
   ],
   "source": [
    "l[9]"
   ]
  },
  {
   "cell_type": "code",
   "execution_count": 8,
   "id": "bd0bd6fd-db3f-45a0-a7ef-a80fea67a92b",
   "metadata": {},
   "outputs": [
    {
     "data": {
      "text/plain": [
       "9"
      ]
     },
     "execution_count": 8,
     "metadata": {},
     "output_type": "execute_result"
    }
   ],
   "source": [
    "len(l)"
   ]
  },
  {
   "cell_type": "code",
   "execution_count": 9,
   "id": "b2fbc8d2-9c1b-4f94-a778-552740efd705",
   "metadata": {},
   "outputs": [
    {
     "data": {
      "text/plain": [
       "[4, 56, 7]"
      ]
     },
     "execution_count": 9,
     "metadata": {},
     "output_type": "execute_result"
    }
   ],
   "source": [
    "l[0:3]"
   ]
  },
  {
   "cell_type": "code",
   "execution_count": 10,
   "id": "70cca982-eb14-41e6-924d-862264cd5354",
   "metadata": {},
   "outputs": [
    {
     "data": {
      "text/plain": [
       "[4, 56, 7, 4, 5, 'sudh', True, (3+6j), 45.556]"
      ]
     },
     "execution_count": 10,
     "metadata": {},
     "output_type": "execute_result"
    }
   ],
   "source": [
    "l[::]"
   ]
  },
  {
   "cell_type": "code",
   "execution_count": 11,
   "id": "896fc63c-0b64-4c41-a86b-1c496ca81f39",
   "metadata": {},
   "outputs": [
    {
     "data": {
      "text/plain": [
       "[45.556, (3+6j), True, 'sudh', 5, 4, 7, 56, 4]"
      ]
     },
     "execution_count": 11,
     "metadata": {},
     "output_type": "execute_result"
    }
   ],
   "source": [
    "l[::-1]"
   ]
  },
  {
   "cell_type": "code",
   "execution_count": 12,
   "id": "7067db7c-c612-4cb3-a4f4-1738a73b6fe4",
   "metadata": {},
   "outputs": [
    {
     "data": {
      "text/plain": [
       "45.556"
      ]
     },
     "execution_count": 12,
     "metadata": {},
     "output_type": "execute_result"
    }
   ],
   "source": [
    "l[-1]"
   ]
  },
  {
   "cell_type": "code",
   "execution_count": 13,
   "id": "08e92f38-bb3f-4ed4-8e50-e6a4174b19b2",
   "metadata": {},
   "outputs": [
    {
     "data": {
      "text/plain": [
       "[4, 7, 5, True, 45.556]"
      ]
     },
     "execution_count": 13,
     "metadata": {},
     "output_type": "execute_result"
    }
   ],
   "source": [
    "l[::2]"
   ]
  },
  {
   "cell_type": "code",
   "execution_count": 14,
   "id": "2dac2527-6bfb-4fd7-84ac-45448fac41fc",
   "metadata": {},
   "outputs": [],
   "source": [
    "s=\"pwskills\""
   ]
  },
  {
   "cell_type": "code",
   "execution_count": 15,
   "id": "d0e8d4c2-7ca1-4acd-a41f-468b7865fceb",
   "metadata": {},
   "outputs": [
    {
     "ename": "TypeError",
     "evalue": "can only concatenate list (not \"str\") to list",
     "output_type": "error",
     "traceback": [
      "\u001b[0;31m---------------------------------------------------------------------------\u001b[0m",
      "\u001b[0;31mTypeError\u001b[0m                                 Traceback (most recent call last)",
      "Cell \u001b[0;32mIn[15], line 1\u001b[0m\n\u001b[0;32m----> 1\u001b[0m \u001b[43ml\u001b[49m\u001b[38;5;241;43m+\u001b[39;49m\u001b[43ms\u001b[49m\n",
      "\u001b[0;31mTypeError\u001b[0m: can only concatenate list (not \"str\") to list"
     ]
    }
   ],
   "source": [
    "l+s"
   ]
  },
  {
   "cell_type": "code",
   "execution_count": 16,
   "id": "0fd69e52-5052-4717-9724-0140d98147a2",
   "metadata": {},
   "outputs": [
    {
     "data": {
      "text/plain": [
       "[4,\n",
       " 56,\n",
       " 7,\n",
       " 4,\n",
       " 5,\n",
       " 'sudh',\n",
       " True,\n",
       " (3+6j),\n",
       " 45.556,\n",
       " 'p',\n",
       " 'w',\n",
       " 's',\n",
       " 'k',\n",
       " 'i',\n",
       " 'l',\n",
       " 'l',\n",
       " 's']"
      ]
     },
     "execution_count": 16,
     "metadata": {},
     "output_type": "execute_result"
    }
   ],
   "source": [
    "l+list(s)\n"
   ]
  },
  {
   "cell_type": "code",
   "execution_count": 17,
   "id": "6b1ce059-58f3-4c9c-81d1-870511325812",
   "metadata": {},
   "outputs": [
    {
     "data": {
      "text/plain": [
       "['p',\n",
       " 'w',\n",
       " 's',\n",
       " 'k',\n",
       " 'i',\n",
       " 'l',\n",
       " 'l',\n",
       " 's',\n",
       " 4,\n",
       " 56,\n",
       " 7,\n",
       " 4,\n",
       " 5,\n",
       " 'sudh',\n",
       " True,\n",
       " (3+6j),\n",
       " 45.556]"
      ]
     },
     "execution_count": 17,
     "metadata": {},
     "output_type": "execute_result"
    }
   ],
   "source": [
    "list(s)+l"
   ]
  },
  {
   "cell_type": "code",
   "execution_count": 18,
   "id": "7c5ce588-39b0-4db1-a912-0caba441f0a6",
   "metadata": {},
   "outputs": [
    {
     "data": {
      "text/plain": [
       "[4, 56, 7, 4, 5, 'sudh', True, (3+6j), 45.556]"
      ]
     },
     "execution_count": 18,
     "metadata": {},
     "output_type": "execute_result"
    }
   ],
   "source": [
    "l"
   ]
  },
  {
   "cell_type": "code",
   "execution_count": 19,
   "id": "f49d8256-5ae3-4194-a71a-788465864bc1",
   "metadata": {},
   "outputs": [
    {
     "data": {
      "text/plain": [
       "'sudh'"
      ]
     },
     "execution_count": 19,
     "metadata": {},
     "output_type": "execute_result"
    }
   ],
   "source": [
    "l[5]"
   ]
  },
  {
   "cell_type": "code",
   "execution_count": 20,
   "id": "92be14b5-e526-4107-b88d-b8eee56cafe7",
   "metadata": {},
   "outputs": [
    {
     "data": {
      "text/plain": [
       "'su'"
      ]
     },
     "execution_count": 20,
     "metadata": {},
     "output_type": "execute_result"
    }
   ],
   "source": [
    "l[5][0:2]"
   ]
  },
  {
   "cell_type": "code",
   "execution_count": 21,
   "id": "a74bfb51-89b0-4b23-854e-c476f989c049",
   "metadata": {},
   "outputs": [
    {
     "data": {
      "text/plain": [
       "True"
      ]
     },
     "execution_count": 21,
     "metadata": {},
     "output_type": "execute_result"
    }
   ],
   "source": [
    "l[6]"
   ]
  },
  {
   "cell_type": "code",
   "execution_count": 22,
   "id": "7115f947-93b0-4621-ab3d-85bf008abb8e",
   "metadata": {},
   "outputs": [
    {
     "data": {
      "text/plain": [
       "'Tr'"
      ]
     },
     "execution_count": 22,
     "metadata": {},
     "output_type": "execute_result"
    }
   ],
   "source": [
    "str(l[6])[0:2]"
   ]
  },
  {
   "cell_type": "code",
   "execution_count": 23,
   "id": "6e4aabac-51b5-4fb3-b45a-52e0bc5830d5",
   "metadata": {},
   "outputs": [
    {
     "ename": "TypeError",
     "evalue": "can only concatenate list (not \"int\") to list",
     "output_type": "error",
     "traceback": [
      "\u001b[0;31m---------------------------------------------------------------------------\u001b[0m",
      "\u001b[0;31mTypeError\u001b[0m                                 Traceback (most recent call last)",
      "Cell \u001b[0;32mIn[23], line 1\u001b[0m\n\u001b[0;32m----> 1\u001b[0m \u001b[43ml\u001b[49m\u001b[38;5;241;43m+\u001b[39;49m\u001b[38;5;241;43m5\u001b[39;49m\n",
      "\u001b[0;31mTypeError\u001b[0m: can only concatenate list (not \"int\") to list"
     ]
    }
   ],
   "source": [
    "l+5"
   ]
  },
  {
   "cell_type": "code",
   "execution_count": 24,
   "id": "f0ef465e-3bd1-41c6-86b5-67b2d5d72c7e",
   "metadata": {},
   "outputs": [],
   "source": [
    "l1=[3,4,5]"
   ]
  },
  {
   "cell_type": "code",
   "execution_count": 25,
   "id": "0f2b9ade-cc93-4598-ac32-0c6c048b14c0",
   "metadata": {},
   "outputs": [
    {
     "data": {
      "text/plain": [
       "[4, 56, 7, 4, 5, 'sudh', True, (3+6j), 45.556, 3, 4, 5]"
      ]
     },
     "execution_count": 25,
     "metadata": {},
     "output_type": "execute_result"
    }
   ],
   "source": [
    "l+l1"
   ]
  },
  {
   "cell_type": "code",
   "execution_count": 26,
   "id": "9f670d3b-c833-4555-b099-ce036161759c",
   "metadata": {},
   "outputs": [
    {
     "data": {
      "text/plain": [
       "[3, 4, 5, 3, 4, 5, 3, 4, 5]"
      ]
     },
     "execution_count": 26,
     "metadata": {},
     "output_type": "execute_result"
    }
   ],
   "source": [
    "l1*3"
   ]
  },
  {
   "cell_type": "code",
   "execution_count": 27,
   "id": "842b47d6-07f5-461e-91b2-1f8d75fea1ae",
   "metadata": {},
   "outputs": [
    {
     "data": {
      "text/plain": [
       "[4, 56, 7, 4, 5, 'sudh', True, (3+6j), 45.556]"
      ]
     },
     "execution_count": 27,
     "metadata": {},
     "output_type": "execute_result"
    }
   ],
   "source": [
    "l"
   ]
  },
  {
   "cell_type": "code",
   "execution_count": 28,
   "id": "f9ca64ac-b1bb-4ccf-ba23-fefb6b789e27",
   "metadata": {},
   "outputs": [
    {
     "data": {
      "text/plain": [
       "9"
      ]
     },
     "execution_count": 28,
     "metadata": {},
     "output_type": "execute_result"
    }
   ],
   "source": [
    "len(l)"
   ]
  },
  {
   "cell_type": "code",
   "execution_count": 29,
   "id": "f7117e9c-e6eb-4d13-8ba4-3244f56304ca",
   "metadata": {},
   "outputs": [],
   "source": [
    "l.append(5)"
   ]
  },
  {
   "cell_type": "code",
   "execution_count": 30,
   "id": "7b3e273b-0a37-4096-8119-32c543b6f0b3",
   "metadata": {},
   "outputs": [
    {
     "data": {
      "text/plain": [
       "[4, 56, 7, 4, 5, 'sudh', True, (3+6j), 45.556, 5]"
      ]
     },
     "execution_count": 30,
     "metadata": {},
     "output_type": "execute_result"
    }
   ],
   "source": [
    "l"
   ]
  },
  {
   "cell_type": "code",
   "execution_count": 31,
   "id": "e14917ed-2ec6-436b-b970-a459be008e8f",
   "metadata": {},
   "outputs": [
    {
     "data": {
      "text/plain": [
       "'pwskills'"
      ]
     },
     "execution_count": 31,
     "metadata": {},
     "output_type": "execute_result"
    }
   ],
   "source": [
    "s"
   ]
  },
  {
   "cell_type": "code",
   "execution_count": 32,
   "id": "7d63f6c4-3802-459e-932c-315a5cc969ee",
   "metadata": {},
   "outputs": [],
   "source": [
    "l.append(s)"
   ]
  },
  {
   "cell_type": "code",
   "execution_count": 33,
   "id": "9d1d30da-025f-4725-8bdb-eb742f5869a4",
   "metadata": {},
   "outputs": [
    {
     "data": {
      "text/plain": [
       "[4, 56, 7, 4, 5, 'sudh', True, (3+6j), 45.556, 5, 'pwskills']"
      ]
     },
     "execution_count": 33,
     "metadata": {},
     "output_type": "execute_result"
    }
   ],
   "source": [
    "l"
   ]
  },
  {
   "cell_type": "code",
   "execution_count": 34,
   "id": "f5bbaae2-f8c9-4b70-a966-15b034498b7d",
   "metadata": {},
   "outputs": [],
   "source": [
    "l.append(l1)"
   ]
  },
  {
   "cell_type": "code",
   "execution_count": 35,
   "id": "1d32018b-9887-450a-bde0-bab92c2aa1ae",
   "metadata": {},
   "outputs": [
    {
     "data": {
      "text/plain": [
       "[4, 56, 7, 4, 5, 'sudh', True, (3+6j), 45.556, 5, 'pwskills', [3, 4, 5]]"
      ]
     },
     "execution_count": 35,
     "metadata": {},
     "output_type": "execute_result"
    }
   ],
   "source": [
    "l"
   ]
  },
  {
   "cell_type": "code",
   "execution_count": 36,
   "id": "e5a8381a-4f26-4256-8150-6d1b11e9beb8",
   "metadata": {},
   "outputs": [
    {
     "data": {
      "text/plain": [
       "12"
      ]
     },
     "execution_count": 36,
     "metadata": {},
     "output_type": "execute_result"
    }
   ],
   "source": [
    "len(l)"
   ]
  },
  {
   "cell_type": "code",
   "execution_count": 37,
   "id": "d7ea91fd-8cd4-4ba3-8a13-562a9684ad40",
   "metadata": {},
   "outputs": [
    {
     "ename": "IndexError",
     "evalue": "list index out of range",
     "output_type": "error",
     "traceback": [
      "\u001b[0;31m---------------------------------------------------------------------------\u001b[0m",
      "\u001b[0;31mIndexError\u001b[0m                                Traceback (most recent call last)",
      "Cell \u001b[0;32mIn[37], line 1\u001b[0m\n\u001b[0;32m----> 1\u001b[0m \u001b[43ml\u001b[49m\u001b[43m[\u001b[49m\u001b[38;5;241;43m12\u001b[39;49m\u001b[43m]\u001b[49m[\u001b[38;5;241m1\u001b[39m]\n",
      "\u001b[0;31mIndexError\u001b[0m: list index out of range"
     ]
    }
   ],
   "source": [
    "l[12][1]"
   ]
  },
  {
   "cell_type": "code",
   "execution_count": 38,
   "id": "7f3bbe7e-701e-42f7-9f03-ef7b7d0595df",
   "metadata": {},
   "outputs": [
    {
     "data": {
      "text/plain": [
       "4"
      ]
     },
     "execution_count": 38,
     "metadata": {},
     "output_type": "execute_result"
    }
   ],
   "source": [
    "l[-1][1]"
   ]
  },
  {
   "cell_type": "code",
   "execution_count": 39,
   "id": "d72bbe54-710e-460e-89cf-f63477daedbf",
   "metadata": {},
   "outputs": [
    {
     "ename": "TypeError",
     "evalue": "'int' object is not iterable",
     "output_type": "error",
     "traceback": [
      "\u001b[0;31m---------------------------------------------------------------------------\u001b[0m",
      "\u001b[0;31mTypeError\u001b[0m                                 Traceback (most recent call last)",
      "Cell \u001b[0;32mIn[39], line 1\u001b[0m\n\u001b[0;32m----> 1\u001b[0m \u001b[43ml\u001b[49m\u001b[38;5;241;43m.\u001b[39;49m\u001b[43mextend\u001b[49m\u001b[43m(\u001b[49m\u001b[38;5;241;43m4\u001b[39;49m\u001b[43m)\u001b[49m\n",
      "\u001b[0;31mTypeError\u001b[0m: 'int' object is not iterable"
     ]
    }
   ],
   "source": [
    "l.extend(4)"
   ]
  },
  {
   "cell_type": "code",
   "execution_count": 40,
   "id": "750a68ea-990f-417e-bcd9-44debcc25773",
   "metadata": {},
   "outputs": [],
   "source": [
    "l.extend(\"sudh\")"
   ]
  },
  {
   "cell_type": "code",
   "execution_count": 41,
   "id": "3c152675-fcba-4154-aab1-aad5858c751a",
   "metadata": {},
   "outputs": [
    {
     "data": {
      "text/plain": [
       "[4,\n",
       " 56,\n",
       " 7,\n",
       " 4,\n",
       " 5,\n",
       " 'sudh',\n",
       " True,\n",
       " (3+6j),\n",
       " 45.556,\n",
       " 5,\n",
       " 'pwskills',\n",
       " [3, 4, 5],\n",
       " 's',\n",
       " 'u',\n",
       " 'd',\n",
       " 'h']"
      ]
     },
     "execution_count": 41,
     "metadata": {},
     "output_type": "execute_result"
    }
   ],
   "source": [
    "l"
   ]
  },
  {
   "cell_type": "code",
   "execution_count": 42,
   "id": "69746dac-9e6f-44e4-abfe-c4561a1ea25a",
   "metadata": {},
   "outputs": [],
   "source": [
    "l.extend([3,6,7])"
   ]
  },
  {
   "cell_type": "code",
   "execution_count": 43,
   "id": "11cd8777-27eb-40c9-8aa6-8795ea21fe3f",
   "metadata": {},
   "outputs": [
    {
     "data": {
      "text/plain": [
       "[4,\n",
       " 56,\n",
       " 7,\n",
       " 4,\n",
       " 5,\n",
       " 'sudh',\n",
       " True,\n",
       " (3+6j),\n",
       " 45.556,\n",
       " 5,\n",
       " 'pwskills',\n",
       " [3, 4, 5],\n",
       " 's',\n",
       " 'u',\n",
       " 'd',\n",
       " 'h',\n",
       " 3,\n",
       " 6,\n",
       " 7]"
      ]
     },
     "execution_count": 43,
     "metadata": {},
     "output_type": "execute_result"
    }
   ],
   "source": [
    "l"
   ]
  },
  {
   "cell_type": "code",
   "execution_count": 44,
   "id": "975b070a-d38c-4796-a5a3-f24f6a0da5c6",
   "metadata": {},
   "outputs": [
    {
     "data": {
      "text/plain": [
       "[3, 4, 5]"
      ]
     },
     "execution_count": 44,
     "metadata": {},
     "output_type": "execute_result"
    }
   ],
   "source": [
    " l1"
   ]
  },
  {
   "cell_type": "code",
   "execution_count": 45,
   "id": "a11f902b-bcae-4c7f-ab84-e4468aad3b40",
   "metadata": {},
   "outputs": [],
   "source": [
    "l1.insert(1,4)"
   ]
  },
  {
   "cell_type": "code",
   "execution_count": 46,
   "id": "9128e43c-1860-454e-bc2e-4b94d0c72378",
   "metadata": {},
   "outputs": [
    {
     "data": {
      "text/plain": [
       "[3, 4, 4, 5]"
      ]
     },
     "execution_count": 46,
     "metadata": {},
     "output_type": "execute_result"
    }
   ],
   "source": [
    "l1"
   ]
  },
  {
   "cell_type": "code",
   "execution_count": 47,
   "id": "88106647-d0ad-4c2d-b06f-ae8ab26ebd03",
   "metadata": {},
   "outputs": [],
   "source": [
    "l1.insert(1,\"sudh\")"
   ]
  },
  {
   "cell_type": "code",
   "execution_count": 48,
   "id": "3a12cede-67a6-4fcc-b627-b2af7254e413",
   "metadata": {},
   "outputs": [
    {
     "data": {
      "text/plain": [
       "[3, 'sudh', 4, 4, 5]"
      ]
     },
     "execution_count": 48,
     "metadata": {},
     "output_type": "execute_result"
    }
   ],
   "source": [
    "l1"
   ]
  },
  {
   "cell_type": "code",
   "execution_count": 49,
   "id": "0f2cd3c1-0051-4f82-b81f-ef945a2c591f",
   "metadata": {},
   "outputs": [],
   "source": [
    "l1.insert(0,\"sudh\")"
   ]
  },
  {
   "cell_type": "code",
   "execution_count": 50,
   "id": "8d540c0f-e59d-4933-9193-e74c04f97d3b",
   "metadata": {},
   "outputs": [
    {
     "data": {
      "text/plain": [
       "['sudh', 3, 'sudh', 4, 4, 5]"
      ]
     },
     "execution_count": 50,
     "metadata": {},
     "output_type": "execute_result"
    }
   ],
   "source": [
    "l1\n"
   ]
  },
  {
   "cell_type": "code",
   "execution_count": 51,
   "id": "f75ef89f-c2d2-4d7c-8412-16018eef6ec2",
   "metadata": {},
   "outputs": [
    {
     "data": {
      "text/plain": [
       "[4,\n",
       " 56,\n",
       " 7,\n",
       " 4,\n",
       " 5,\n",
       " 'sudh',\n",
       " True,\n",
       " (3+6j),\n",
       " 45.556,\n",
       " 5,\n",
       " 'pwskills',\n",
       " ['sudh', 3, 'sudh', 4, 4, 5],\n",
       " 's',\n",
       " 'u',\n",
       " 'd',\n",
       " 'h',\n",
       " 3,\n",
       " 6,\n",
       " 7]"
      ]
     },
     "execution_count": 51,
     "metadata": {},
     "output_type": "execute_result"
    }
   ],
   "source": [
    "l"
   ]
  },
  {
   "cell_type": "code",
   "execution_count": 52,
   "id": "69ad1c62-2eaf-4730-8ddb-4ee29ba26303",
   "metadata": {},
   "outputs": [
    {
     "data": {
      "text/plain": [
       "['sudh', 3, 'sudh', 4, 4, 5]"
      ]
     },
     "execution_count": 52,
     "metadata": {},
     "output_type": "execute_result"
    }
   ],
   "source": [
    "l1"
   ]
  },
  {
   "cell_type": "code",
   "execution_count": 53,
   "id": "e598e943-216b-4e0e-a90d-406ed11ca4d7",
   "metadata": {},
   "outputs": [],
   "source": [
    "l1.insert(1,[2,3,4])"
   ]
  },
  {
   "cell_type": "code",
   "execution_count": 54,
   "id": "d5e7e677-5107-47ba-9757-cd30f8043a0c",
   "metadata": {},
   "outputs": [
    {
     "data": {
      "text/plain": [
       "['sudh', [2, 3, 4], 3, 'sudh', 4, 4, 5]"
      ]
     },
     "execution_count": 54,
     "metadata": {},
     "output_type": "execute_result"
    }
   ],
   "source": [
    "l1"
   ]
  },
  {
   "cell_type": "code",
   "execution_count": 55,
   "id": "6e778dba-af2c-47c2-a054-53a48239355c",
   "metadata": {},
   "outputs": [
    {
     "data": {
      "text/plain": [
       "['sudh', [2, 3, 4], 3, 'sudh', 4, 4, 5]"
      ]
     },
     "execution_count": 55,
     "metadata": {},
     "output_type": "execute_result"
    }
   ],
   "source": [
    "l1"
   ]
  },
  {
   "cell_type": "code",
   "execution_count": 56,
   "id": "29ffa283-f93d-4889-9d3f-6e72893c2b51",
   "metadata": {},
   "outputs": [],
   "source": [
    "l1.insert(-1,45)"
   ]
  },
  {
   "cell_type": "code",
   "execution_count": 57,
   "id": "6adc82cd-626f-450e-9155-1d2f25563db5",
   "metadata": {},
   "outputs": [
    {
     "data": {
      "text/plain": [
       "['sudh', [2, 3, 4], 3, 'sudh', 4, 4, 45, 5]"
      ]
     },
     "execution_count": 57,
     "metadata": {},
     "output_type": "execute_result"
    }
   ],
   "source": [
    "l1"
   ]
  },
  {
   "cell_type": "code",
   "execution_count": 58,
   "id": "36e9c313-da04-4009-9083-67b16f2e6250",
   "metadata": {},
   "outputs": [
    {
     "data": {
      "text/plain": [
       "5"
      ]
     },
     "execution_count": 58,
     "metadata": {},
     "output_type": "execute_result"
    }
   ],
   "source": [
    "l1.pop()"
   ]
  },
  {
   "cell_type": "code",
   "execution_count": 59,
   "id": "f9e867db-abbb-4387-9322-073488ea6a97",
   "metadata": {},
   "outputs": [
    {
     "data": {
      "text/plain": [
       "['sudh', [2, 3, 4], 3, 'sudh', 4, 4, 45]"
      ]
     },
     "execution_count": 59,
     "metadata": {},
     "output_type": "execute_result"
    }
   ],
   "source": [
    "l1"
   ]
  },
  {
   "cell_type": "code",
   "execution_count": 60,
   "id": "e588fd8a-9272-400f-8352-143814da2d61",
   "metadata": {},
   "outputs": [
    {
     "data": {
      "text/plain": [
       "45"
      ]
     },
     "execution_count": 60,
     "metadata": {},
     "output_type": "execute_result"
    }
   ],
   "source": [
    "l1.pop()"
   ]
  },
  {
   "cell_type": "code",
   "execution_count": 61,
   "id": "264d44c5-4456-4452-91d8-7babafc1be7f",
   "metadata": {},
   "outputs": [
    {
     "data": {
      "text/plain": [
       "['sudh', [2, 3, 4], 3, 'sudh', 4, 4]"
      ]
     },
     "execution_count": 61,
     "metadata": {},
     "output_type": "execute_result"
    }
   ],
   "source": [
    "l1"
   ]
  },
  {
   "cell_type": "code",
   "execution_count": 62,
   "id": "8c21ff80-21f9-4138-a161-82a231767a81",
   "metadata": {},
   "outputs": [
    {
     "data": {
      "text/plain": [
       "3"
      ]
     },
     "execution_count": 62,
     "metadata": {},
     "output_type": "execute_result"
    }
   ],
   "source": [
    "l1.pop(2)"
   ]
  },
  {
   "cell_type": "code",
   "execution_count": 63,
   "id": "45faa535-310a-4df3-bee4-a3607dfd450a",
   "metadata": {},
   "outputs": [
    {
     "data": {
      "text/plain": [
       "['sudh', [2, 3, 4], 'sudh', 4, 4]"
      ]
     },
     "execution_count": 63,
     "metadata": {},
     "output_type": "execute_result"
    }
   ],
   "source": [
    "l1"
   ]
  },
  {
   "cell_type": "code",
   "execution_count": 64,
   "id": "b3c3563e-c12e-4e49-98ff-ec28e6bc6a76",
   "metadata": {},
   "outputs": [
    {
     "data": {
      "text/plain": [
       "[2, 3, 4]"
      ]
     },
     "execution_count": 64,
     "metadata": {},
     "output_type": "execute_result"
    }
   ],
   "source": [
    "l1.pop(1)"
   ]
  },
  {
   "cell_type": "code",
   "execution_count": 65,
   "id": "84539d2b-6d6a-4325-8baf-0d6ceeeeec5e",
   "metadata": {},
   "outputs": [
    {
     "data": {
      "text/plain": [
       "['sudh', 'sudh', 4, 4]"
      ]
     },
     "execution_count": 65,
     "metadata": {},
     "output_type": "execute_result"
    }
   ],
   "source": [
    "l1"
   ]
  },
  {
   "cell_type": "code",
   "execution_count": 66,
   "id": "29aecc5f-9805-490f-9425-935343f19d9a",
   "metadata": {},
   "outputs": [],
   "source": [
    "l1.append([2, 3, 4])"
   ]
  },
  {
   "cell_type": "code",
   "execution_count": 67,
   "id": "7ed4e2b0-c143-454a-aace-6d01f6f41395",
   "metadata": {},
   "outputs": [
    {
     "data": {
      "text/plain": [
       "['sudh', 'sudh', 4, 4, [2, 3, 4]]"
      ]
     },
     "execution_count": 67,
     "metadata": {},
     "output_type": "execute_result"
    }
   ],
   "source": [
    "l1"
   ]
  },
  {
   "cell_type": "code",
   "execution_count": 68,
   "id": "f251aef2-2e7e-4694-9bee-323f3589e42e",
   "metadata": {},
   "outputs": [
    {
     "data": {
      "text/plain": [
       "4"
      ]
     },
     "execution_count": 68,
     "metadata": {},
     "output_type": "execute_result"
    }
   ],
   "source": [
    "l1[4].pop(2)"
   ]
  },
  {
   "cell_type": "code",
   "execution_count": 69,
   "id": "ebabf120-86dd-46af-9750-6d7d570576d7",
   "metadata": {},
   "outputs": [
    {
     "data": {
      "text/plain": [
       "['sudh', 'sudh', 4, 4, [2, 3]]"
      ]
     },
     "execution_count": 69,
     "metadata": {},
     "output_type": "execute_result"
    }
   ],
   "source": [
    "l1"
   ]
  },
  {
   "cell_type": "code",
   "execution_count": 70,
   "id": "9048ab9f-fad0-4cfc-a9a7-88cffed5109c",
   "metadata": {},
   "outputs": [
    {
     "data": {
      "text/plain": [
       "3"
      ]
     },
     "execution_count": 70,
     "metadata": {},
     "output_type": "execute_result"
    }
   ],
   "source": [
    "l1[4].pop()"
   ]
  },
  {
   "cell_type": "code",
   "execution_count": 71,
   "id": "dee07d7a-f255-4cb4-b916-ef9de94e979a",
   "metadata": {},
   "outputs": [
    {
     "data": {
      "text/plain": [
       "['sudh', 'sudh', 4, 4, [2]]"
      ]
     },
     "execution_count": 71,
     "metadata": {},
     "output_type": "execute_result"
    }
   ],
   "source": [
    "l1"
   ]
  },
  {
   "cell_type": "code",
   "execution_count": 72,
   "id": "805cce2d-d9f3-42e9-85e1-f41a93da7fcf",
   "metadata": {},
   "outputs": [
    {
     "ename": "ValueError",
     "evalue": "list.remove(x): x not in list",
     "output_type": "error",
     "traceback": [
      "\u001b[0;31m---------------------------------------------------------------------------\u001b[0m",
      "\u001b[0;31mValueError\u001b[0m                                Traceback (most recent call last)",
      "Cell \u001b[0;32mIn[72], line 1\u001b[0m\n\u001b[0;32m----> 1\u001b[0m \u001b[43ml1\u001b[49m\u001b[38;5;241;43m.\u001b[39;49m\u001b[43mremove\u001b[49m\u001b[43m(\u001b[49m\u001b[38;5;241;43m3\u001b[39;49m\u001b[43m)\u001b[49m\n",
      "\u001b[0;31mValueError\u001b[0m: list.remove(x): x not in list"
     ]
    }
   ],
   "source": [
    "l1.remove(3)"
   ]
  },
  {
   "cell_type": "code",
   "execution_count": 73,
   "id": "36724f2e-ffc0-4159-a32d-aafa6867c959",
   "metadata": {},
   "outputs": [],
   "source": [
    "l1.remove(4)"
   ]
  },
  {
   "cell_type": "code",
   "execution_count": 74,
   "id": "3f86422e-b214-4f06-b69c-cd6e1144524e",
   "metadata": {},
   "outputs": [
    {
     "data": {
      "text/plain": [
       "['sudh', 'sudh', 4, [2]]"
      ]
     },
     "execution_count": 74,
     "metadata": {},
     "output_type": "execute_result"
    }
   ],
   "source": [
    "l1"
   ]
  },
  {
   "cell_type": "code",
   "execution_count": 75,
   "id": "bd97898c-f46e-4873-b932-7a73bdf766aa",
   "metadata": {},
   "outputs": [],
   "source": [
    "l1.insert(1,3)"
   ]
  },
  {
   "cell_type": "code",
   "execution_count": 76,
   "id": "07ae81b9-fc40-4ccc-baa8-0e35a4b956d0",
   "metadata": {},
   "outputs": [
    {
     "data": {
      "text/plain": [
       "['sudh', 3, 'sudh', 4, [2]]"
      ]
     },
     "execution_count": 76,
     "metadata": {},
     "output_type": "execute_result"
    }
   ],
   "source": [
    "l1\n"
   ]
  },
  {
   "cell_type": "code",
   "execution_count": 77,
   "id": "50b33a7f-601b-4aa0-8674-08c007698489",
   "metadata": {},
   "outputs": [
    {
     "data": {
      "text/plain": [
       "['sudh', 3, 'sudh', 4, [2]]"
      ]
     },
     "execution_count": 77,
     "metadata": {},
     "output_type": "execute_result"
    }
   ],
   "source": [
    "l1"
   ]
  },
  {
   "cell_type": "code",
   "execution_count": 78,
   "id": "2a0ebea9-a2a7-4def-88d4-1e6064c477f8",
   "metadata": {},
   "outputs": [
    {
     "ename": "AttributeError",
     "evalue": "'int' object has no attribute 'remove'",
     "output_type": "error",
     "traceback": [
      "\u001b[0;31m---------------------------------------------------------------------------\u001b[0m",
      "\u001b[0;31mAttributeError\u001b[0m                            Traceback (most recent call last)",
      "Cell \u001b[0;32mIn[78], line 1\u001b[0m\n\u001b[0;32m----> 1\u001b[0m \u001b[43ml1\u001b[49m\u001b[43m[\u001b[49m\u001b[38;5;241;43m3\u001b[39;49m\u001b[43m]\u001b[49m\u001b[38;5;241;43m.\u001b[39;49m\u001b[43mremove\u001b[49m(\u001b[38;5;241m2\u001b[39m)\n",
      "\u001b[0;31mAttributeError\u001b[0m: 'int' object has no attribute 'remove'"
     ]
    }
   ],
   "source": [
    "l1[3].remove(2)"
   ]
  },
  {
   "cell_type": "code",
   "execution_count": 79,
   "id": "960ad052-0f34-4ba5-a50f-6a4bfb554e0e",
   "metadata": {},
   "outputs": [
    {
     "data": {
      "text/plain": [
       "['sudh', 3, 'sudh', 4, [2]]"
      ]
     },
     "execution_count": 79,
     "metadata": {},
     "output_type": "execute_result"
    }
   ],
   "source": [
    "l1"
   ]
  },
  {
   "cell_type": "code",
   "execution_count": 80,
   "id": "d8239654-55f0-455c-8a68-0dd73ef90d51",
   "metadata": {},
   "outputs": [],
   "source": [
    "l1.remove(\"sudh\")"
   ]
  },
  {
   "cell_type": "code",
   "execution_count": 81,
   "id": "5195bd8e-e2ec-4044-bf6b-8ae62d19c5f8",
   "metadata": {},
   "outputs": [
    {
     "data": {
      "text/plain": [
       "[3, 'sudh', 4, [2]]"
      ]
     },
     "execution_count": 81,
     "metadata": {},
     "output_type": "execute_result"
    }
   ],
   "source": [
    "l1"
   ]
  },
  {
   "cell_type": "code",
   "execution_count": 82,
   "id": "fed85d20-b447-4402-ab76-88b36ce04c07",
   "metadata": {},
   "outputs": [
    {
     "ename": "AttributeError",
     "evalue": "'str' object has no attribute 'remove'",
     "output_type": "error",
     "traceback": [
      "\u001b[0;31m---------------------------------------------------------------------------\u001b[0m",
      "\u001b[0;31mAttributeError\u001b[0m                            Traceback (most recent call last)",
      "Cell \u001b[0;32mIn[82], line 1\u001b[0m\n\u001b[0;32m----> 1\u001b[0m \u001b[43ml1\u001b[49m\u001b[43m[\u001b[49m\u001b[38;5;241;43m1\u001b[39;49m\u001b[43m]\u001b[49m\u001b[38;5;241;43m.\u001b[39;49m\u001b[43mremove\u001b[49m(\u001b[38;5;124m\"\u001b[39m\u001b[38;5;124mdh\u001b[39m\u001b[38;5;124m\"\u001b[39m)\n",
      "\u001b[0;31mAttributeError\u001b[0m: 'str' object has no attribute 'remove'"
     ]
    }
   ],
   "source": [
    "l1[1].remove(\"dh\")"
   ]
  },
  {
   "cell_type": "code",
   "execution_count": 83,
   "id": "5cb0ebb7-4969-4448-8509-ddf32854c1c0",
   "metadata": {},
   "outputs": [
    {
     "data": {
      "text/plain": [
       "[3, 'sudh', 4, [2]]"
      ]
     },
     "execution_count": 83,
     "metadata": {},
     "output_type": "execute_result"
    }
   ],
   "source": [
    "l1                               "
   ]
  },
  {
   "cell_type": "code",
   "execution_count": 84,
   "id": "afed4680-6b36-4ed2-9dac-e30e1899eebf",
   "metadata": {},
   "outputs": [
    {
     "data": {
      "text/plain": [
       "[[2], 4, 'sudh', 3]"
      ]
     },
     "execution_count": 84,
     "metadata": {},
     "output_type": "execute_result"
    }
   ],
   "source": [
    "l1[::-1]"
   ]
  },
  {
   "cell_type": "code",
   "execution_count": 85,
   "id": "b4ac7466-7d62-48e4-a690-438dff5293c5",
   "metadata": {},
   "outputs": [],
   "source": [
    "l1.reverse()"
   ]
  },
  {
   "cell_type": "code",
   "execution_count": 86,
   "id": "967c7a6e-2552-453e-91cb-2f78efc50ff8",
   "metadata": {},
   "outputs": [
    {
     "data": {
      "text/plain": [
       "[[2], 4, 'sudh', 3]"
      ]
     },
     "execution_count": 86,
     "metadata": {},
     "output_type": "execute_result"
    }
   ],
   "source": [
    "l1"
   ]
  },
  {
   "cell_type": "code",
   "execution_count": 87,
   "id": "09280544-d7e9-4021-acca-ac4ec2cb9d98",
   "metadata": {},
   "outputs": [],
   "source": [
    "l1=l1[::-1]"
   ]
  },
  {
   "cell_type": "code",
   "execution_count": 88,
   "id": "b34c9193-1bf5-476f-ac42-086efbc2354c",
   "metadata": {},
   "outputs": [
    {
     "data": {
      "text/plain": [
       "[3, 'sudh', 4, [2]]"
      ]
     },
     "execution_count": 88,
     "metadata": {},
     "output_type": "execute_result"
    }
   ],
   "source": [
    "l1"
   ]
  },
  {
   "cell_type": "code",
   "execution_count": 89,
   "id": "eb9c1e02-5852-4f27-8e87-552525429e1e",
   "metadata": {},
   "outputs": [
    {
     "ename": "TypeError",
     "evalue": "'<' not supported between instances of 'str' and 'int'",
     "output_type": "error",
     "traceback": [
      "\u001b[0;31m---------------------------------------------------------------------------\u001b[0m",
      "\u001b[0;31mTypeError\u001b[0m                                 Traceback (most recent call last)",
      "Cell \u001b[0;32mIn[89], line 1\u001b[0m\n\u001b[0;32m----> 1\u001b[0m \u001b[43ml1\u001b[49m\u001b[38;5;241;43m.\u001b[39;49m\u001b[43msort\u001b[49m\u001b[43m(\u001b[49m\u001b[43m)\u001b[49m\n",
      "\u001b[0;31mTypeError\u001b[0m: '<' not supported between instances of 'str' and 'int'"
     ]
    }
   ],
   "source": [
    "l1.sort()"
   ]
  },
  {
   "cell_type": "code",
   "execution_count": 90,
   "id": "ef14f964-04c2-4c63-aabe-b8023c3f8bd9",
   "metadata": {},
   "outputs": [
    {
     "data": {
      "text/plain": [
       "[3, 'sudh', 4, [2]]"
      ]
     },
     "execution_count": 90,
     "metadata": {},
     "output_type": "execute_result"
    }
   ],
   "source": [
    "l1"
   ]
  },
  {
   "cell_type": "code",
   "execution_count": 91,
   "id": "69186f64-74f8-42aa-bc47-86f48099995f",
   "metadata": {},
   "outputs": [],
   "source": [
    "l1=[4,23,5,3,5]"
   ]
  },
  {
   "cell_type": "code",
   "execution_count": 92,
   "id": "b213ea61-f59b-41ed-bd3e-4ed0bbf8f0e0",
   "metadata": {},
   "outputs": [],
   "source": [
    "l1.sort()"
   ]
  },
  {
   "cell_type": "code",
   "execution_count": 93,
   "id": "6529b403-7277-4721-aa08-a625c02b2a72",
   "metadata": {},
   "outputs": [
    {
     "data": {
      "text/plain": [
       "[3, 4, 5, 5, 23]"
      ]
     },
     "execution_count": 93,
     "metadata": {},
     "output_type": "execute_result"
    }
   ],
   "source": [
    "l1"
   ]
  },
  {
   "cell_type": "code",
   "execution_count": 94,
   "id": "b797686c-59a1-47bb-84eb-7ee58507d3b5",
   "metadata": {},
   "outputs": [],
   "source": [
    "l2=[\"abc\",\"fhg\",\"aay\",\"abc\"]"
   ]
  },
  {
   "cell_type": "code",
   "execution_count": 95,
   "id": "39f18fd4-1a28-4d6a-8e55-766e6b5d5969",
   "metadata": {},
   "outputs": [],
   "source": [
    "l2.sort()"
   ]
  },
  {
   "cell_type": "code",
   "execution_count": 96,
   "id": "4f939a00-86a4-4b37-9189-eac93bac0738",
   "metadata": {},
   "outputs": [
    {
     "data": {
      "text/plain": [
       "['aay', 'abc', 'abc', 'fhg']"
      ]
     },
     "execution_count": 96,
     "metadata": {},
     "output_type": "execute_result"
    }
   ],
   "source": [
    "l2"
   ]
  },
  {
   "cell_type": "code",
   "execution_count": 97,
   "id": "5928b91d-834e-4330-8ffa-94bfaad30fff",
   "metadata": {},
   "outputs": [],
   "source": [
    "l2.sort(reverse=True)"
   ]
  },
  {
   "cell_type": "code",
   "execution_count": 98,
   "id": "992d875f-ddc1-4d65-b4fe-4f065ecad9c5",
   "metadata": {},
   "outputs": [
    {
     "data": {
      "text/plain": [
       "['fhg', 'abc', 'abc', 'aay']"
      ]
     },
     "execution_count": 98,
     "metadata": {},
     "output_type": "execute_result"
    }
   ],
   "source": [
    "l2"
   ]
  },
  {
   "cell_type": "code",
   "execution_count": 99,
   "id": "26352da9-0847-4584-866e-14e544a12f0a",
   "metadata": {},
   "outputs": [
    {
     "data": {
      "text/plain": [
       "1"
      ]
     },
     "execution_count": 99,
     "metadata": {},
     "output_type": "execute_result"
    }
   ],
   "source": [
    "l2.index(\"abc\")"
   ]
  },
  {
   "cell_type": "code",
   "execution_count": 100,
   "id": "abd9277b-2b69-4a44-818f-a07beb5a7848",
   "metadata": {},
   "outputs": [
    {
     "ename": "ValueError",
     "evalue": "1 is not in list",
     "output_type": "error",
     "traceback": [
      "\u001b[0;31m---------------------------------------------------------------------------\u001b[0m",
      "\u001b[0;31mValueError\u001b[0m                                Traceback (most recent call last)",
      "Cell \u001b[0;32mIn[100], line 1\u001b[0m\n\u001b[0;32m----> 1\u001b[0m \u001b[43ml2\u001b[49m\u001b[38;5;241;43m.\u001b[39;49m\u001b[43mindex\u001b[49m\u001b[43m(\u001b[49m\u001b[38;5;241;43m1\u001b[39;49m\u001b[43m)\u001b[49m\n",
      "\u001b[0;31mValueError\u001b[0m: 1 is not in list"
     ]
    }
   ],
   "source": [
    "l2.index(1)"
   ]
  },
  {
   "cell_type": "code",
   "execution_count": 101,
   "id": "da29601a-ddb6-42e3-a26a-e7a9c22736bc",
   "metadata": {},
   "outputs": [
    {
     "data": {
      "text/plain": [
       "2"
      ]
     },
     "execution_count": 101,
     "metadata": {},
     "output_type": "execute_result"
    }
   ],
   "source": [
    "l2.count(\"abc\")"
   ]
  },
  {
   "cell_type": "code",
   "execution_count": 102,
   "id": "95c6cb36-3861-4dbc-b800-b99a5aa43d13",
   "metadata": {},
   "outputs": [],
   "source": [
    "s=\"sudh\""
   ]
  },
  {
   "cell_type": "code",
   "execution_count": 103,
   "id": "49280f90-3d86-438b-8089-e850ffb8ab8e",
   "metadata": {},
   "outputs": [],
   "source": [
    "l5=[3,4,5,6]"
   ]
  },
  {
   "cell_type": "code",
   "execution_count": 104,
   "id": "ad0bf4ea-2328-4e05-a606-6a0f18eae59b",
   "metadata": {},
   "outputs": [
    {
     "data": {
      "text/plain": [
       "'s'"
      ]
     },
     "execution_count": 104,
     "metadata": {},
     "output_type": "execute_result"
    }
   ],
   "source": [
    "s[0]"
   ]
  },
  {
   "cell_type": "code",
   "execution_count": 105,
   "id": "21df80a6-c86c-418f-8785-d636652de6b7",
   "metadata": {},
   "outputs": [
    {
     "ename": "TypeError",
     "evalue": "'str' object does not support item assignment",
     "output_type": "error",
     "traceback": [
      "\u001b[0;31m---------------------------------------------------------------------------\u001b[0m",
      "\u001b[0;31mTypeError\u001b[0m                                 Traceback (most recent call last)",
      "Cell \u001b[0;32mIn[105], line 1\u001b[0m\n\u001b[0;32m----> 1\u001b[0m \u001b[43ms\u001b[49m\u001b[43m[\u001b[49m\u001b[38;5;241;43m0\u001b[39;49m\u001b[43m]\u001b[49m\u001b[38;5;241m=\u001b[39m\u001b[38;5;124m'\u001b[39m\u001b[38;5;124ma\u001b[39m\u001b[38;5;124m'\u001b[39m\n",
      "\u001b[0;31mTypeError\u001b[0m: 'str' object does not support item assignment"
     ]
    }
   ],
   "source": [
    "s[0]='a'"
   ]
  },
  {
   "cell_type": "code",
   "execution_count": 106,
   "id": "b24d7e80-011a-4ee1-8cba-bf41caa02db0",
   "metadata": {},
   "outputs": [
    {
     "data": {
      "text/plain": [
       "'sudh'"
      ]
     },
     "execution_count": 106,
     "metadata": {},
     "output_type": "execute_result"
    }
   ],
   "source": [
    "s"
   ]
  },
  {
   "cell_type": "code",
   "execution_count": 107,
   "id": "34918920-e8de-4c9b-be32-d6b8f419d588",
   "metadata": {},
   "outputs": [],
   "source": [
    "l5[0]=30"
   ]
  },
  {
   "cell_type": "code",
   "execution_count": 108,
   "id": "2983acaa-323c-484c-99a4-0f185f947984",
   "metadata": {},
   "outputs": [
    {
     "data": {
      "text/plain": [
       "[30, 4, 5, 6]"
      ]
     },
     "execution_count": 108,
     "metadata": {},
     "output_type": "execute_result"
    }
   ],
   "source": [
    "l5"
   ]
  },
  {
   "cell_type": "code",
   "execution_count": 109,
   "id": "b3d95916-d4fd-49cc-a8f1-a53f71d9396e",
   "metadata": {},
   "outputs": [],
   "source": [
    "s=s.replace('s','a')"
   ]
  },
  {
   "cell_type": "code",
   "execution_count": 110,
   "id": "4a8faade-fe36-4745-a9ae-58e93baaec62",
   "metadata": {},
   "outputs": [
    {
     "data": {
      "text/plain": [
       "'audh'"
      ]
     },
     "execution_count": 110,
     "metadata": {},
     "output_type": "execute_result"
    }
   ],
   "source": [
    "s"
   ]
  },
  {
   "cell_type": "code",
   "execution_count": 111,
   "id": "bf477e23-a984-4a85-8c93-672919d0b873",
   "metadata": {},
   "outputs": [],
   "source": [
    "t= (3,34,3,45.5,False,\"sudh\",3+4j,[2,3,4])"
   ]
  },
  {
   "cell_type": "code",
   "execution_count": 112,
   "id": "a9ab346a-edb0-4fe2-9a42-857815dded6c",
   "metadata": {},
   "outputs": [
    {
     "ename": "SyntaxError",
     "evalue": "invalid syntax (730792680.py, line 1)",
     "output_type": "error",
     "traceback": [
      "\u001b[0;36m  Cell \u001b[0;32mIn[112], line 1\u001b[0;36m\u001b[0m\n\u001b[0;31m    t.\u001b[0m\n\u001b[0m      ^\u001b[0m\n\u001b[0;31mSyntaxError\u001b[0m\u001b[0;31m:\u001b[0m invalid syntax\n"
     ]
    }
   ],
   "source": [
    "t."
   ]
  },
  {
   "cell_type": "code",
   "execution_count": 113,
   "id": "0beffcb3-6189-4517-bb7c-e3cf1b3c123b",
   "metadata": {},
   "outputs": [
    {
     "data": {
      "text/plain": [
       "tuple"
      ]
     },
     "execution_count": 113,
     "metadata": {},
     "output_type": "execute_result"
    }
   ],
   "source": [
    "type(t)"
   ]
  },
  {
   "cell_type": "code",
   "execution_count": 114,
   "id": "b9c8fff2-47e4-4fae-a9d2-98ca778590ec",
   "metadata": {},
   "outputs": [
    {
     "data": {
      "text/plain": [
       "8"
      ]
     },
     "execution_count": 114,
     "metadata": {},
     "output_type": "execute_result"
    }
   ],
   "source": [
    "len(t)"
   ]
  },
  {
   "cell_type": "code",
   "execution_count": 115,
   "id": "976da186-1f2f-401e-a41f-d13426759dc0",
   "metadata": {},
   "outputs": [
    {
     "data": {
      "text/plain": [
       "3"
      ]
     },
     "execution_count": 115,
     "metadata": {},
     "output_type": "execute_result"
    }
   ],
   "source": [
    "t[0]"
   ]
  },
  {
   "cell_type": "code",
   "execution_count": 116,
   "id": "36c22f91-2d04-4692-9e03-fe8b1dbf49d3",
   "metadata": {},
   "outputs": [
    {
     "data": {
      "text/plain": [
       "[2, 3, 4]"
      ]
     },
     "execution_count": 116,
     "metadata": {},
     "output_type": "execute_result"
    }
   ],
   "source": [
    "t[-1]"
   ]
  },
  {
   "cell_type": "code",
   "execution_count": 117,
   "id": "65001ff5-a166-4fd9-a98c-077b8c796363",
   "metadata": {},
   "outputs": [
    {
     "data": {
      "text/plain": [
       "([2, 3, 4], (3+4j), 'sudh', False, 45.5, 3, 34, 3)"
      ]
     },
     "execution_count": 117,
     "metadata": {},
     "output_type": "execute_result"
    }
   ],
   "source": [
    "t[::-1]"
   ]
  },
  {
   "cell_type": "code",
   "execution_count": 118,
   "id": "3b44a78c-7921-4d8e-b179-baeee8f61cb3",
   "metadata": {},
   "outputs": [
    {
     "data": {
      "text/plain": [
       "['fhg', 'abc', 'abc', 'aay']"
      ]
     },
     "execution_count": 118,
     "metadata": {},
     "output_type": "execute_result"
    }
   ],
   "source": [
    "l2"
   ]
  },
  {
   "cell_type": "code",
   "execution_count": 119,
   "id": "d3e2074d-0a6a-4801-a251-1d11dfd977a2",
   "metadata": {},
   "outputs": [],
   "source": [
    "l2[0]=234"
   ]
  },
  {
   "cell_type": "code",
   "execution_count": 120,
   "id": "2531534a-44fd-4c42-901c-c602e6a7f03d",
   "metadata": {},
   "outputs": [
    {
     "data": {
      "text/plain": [
       "[234, 'abc', 'abc', 'aay']"
      ]
     },
     "execution_count": 120,
     "metadata": {},
     "output_type": "execute_result"
    }
   ],
   "source": [
    "l2"
   ]
  },
  {
   "cell_type": "code",
   "execution_count": 121,
   "id": "11297828-bf2f-47f0-9725-ebe3f269fd0a",
   "metadata": {},
   "outputs": [
    {
     "data": {
      "text/plain": [
       "3"
      ]
     },
     "execution_count": 121,
     "metadata": {},
     "output_type": "execute_result"
    }
   ],
   "source": [
    "t[0]"
   ]
  },
  {
   "cell_type": "code",
   "execution_count": 122,
   "id": "41c742f2-5908-497a-aa52-2e36e7d272db",
   "metadata": {},
   "outputs": [
    {
     "ename": "TypeError",
     "evalue": "'tuple' object does not support item assignment",
     "output_type": "error",
     "traceback": [
      "\u001b[0;31m---------------------------------------------------------------------------\u001b[0m",
      "\u001b[0;31mTypeError\u001b[0m                                 Traceback (most recent call last)",
      "Cell \u001b[0;32mIn[122], line 1\u001b[0m\n\u001b[0;32m----> 1\u001b[0m \u001b[43mt\u001b[49m\u001b[43m[\u001b[49m\u001b[38;5;241;43m0\u001b[39;49m\u001b[43m]\u001b[49m\u001b[38;5;241m=\u001b[39m\u001b[38;5;241m23\u001b[39m\n",
      "\u001b[0;31mTypeError\u001b[0m: 'tuple' object does not support item assignment"
     ]
    }
   ],
   "source": [
    "t[0]=23"
   ]
  },
  {
   "cell_type": "code",
   "execution_count": 123,
   "id": "6d6077f9-4e92-4317-9f89-d97b1d7add1c",
   "metadata": {},
   "outputs": [
    {
     "data": {
      "text/plain": [
       "(3, 34, 3, 45.5, False, 'sudh', (3+4j), [2, 3, 4])"
      ]
     },
     "execution_count": 123,
     "metadata": {},
     "output_type": "execute_result"
    }
   ],
   "source": [
    "t"
   ]
  },
  {
   "cell_type": "code",
   "execution_count": 124,
   "id": "02532633-fae4-4fbe-8e07-80f217d922d4",
   "metadata": {},
   "outputs": [
    {
     "data": {
      "text/plain": [
       "([2, 3, 4], (3+4j), 'sudh', False, 45.5, 3, 34, 3)"
      ]
     },
     "execution_count": 124,
     "metadata": {},
     "output_type": "execute_result"
    }
   ],
   "source": [
    "t[::-1]"
   ]
  },
  {
   "cell_type": "code",
   "execution_count": 125,
   "id": "79309a18-7c6c-46db-b3fa-829310f61783",
   "metadata": {},
   "outputs": [
    {
     "data": {
      "text/plain": [
       "0"
      ]
     },
     "execution_count": 125,
     "metadata": {},
     "output_type": "execute_result"
    }
   ],
   "source": [
    "t.count(50)"
   ]
  },
  {
   "cell_type": "code",
   "execution_count": 126,
   "id": "a9d8ae00-4f28-401d-aed3-bb42cfa6b157",
   "metadata": {},
   "outputs": [
    {
     "data": {
      "text/plain": [
       "0"
      ]
     },
     "execution_count": 126,
     "metadata": {},
     "output_type": "execute_result"
    }
   ],
   "source": [
    "t.count(5)"
   ]
  },
  {
   "cell_type": "code",
   "execution_count": 127,
   "id": "f92fd002-7b46-4c66-b09a-a203c06cb47f",
   "metadata": {},
   "outputs": [
    {
     "data": {
      "text/plain": [
       "4"
      ]
     },
     "execution_count": 127,
     "metadata": {},
     "output_type": "execute_result"
    }
   ],
   "source": [
    "t.index(False)"
   ]
  },
  {
   "cell_type": "code",
   "execution_count": 128,
   "id": "966cedfa-060f-4c7e-9b85-2f25440520d7",
   "metadata": {},
   "outputs": [],
   "source": [
    "s1={}"
   ]
  },
  {
   "cell_type": "code",
   "execution_count": 129,
   "id": "be54b636-a87c-4ba4-9ee3-e4e04be0ca5b",
   "metadata": {},
   "outputs": [
    {
     "data": {
      "text/plain": [
       "dict"
      ]
     },
     "execution_count": 129,
     "metadata": {},
     "output_type": "execute_result"
    }
   ],
   "source": [
    "type(s1)"
   ]
  },
  {
   "cell_type": "code",
   "execution_count": 130,
   "id": "edc8aac2-6b2c-4066-a7e5-063b2e680f80",
   "metadata": {},
   "outputs": [],
   "source": [
    "s2={2,3,4,56}"
   ]
  },
  {
   "cell_type": "code",
   "execution_count": 131,
   "id": "0697b0ab-fe39-4d46-a550-72777f896a81",
   "metadata": {},
   "outputs": [
    {
     "data": {
      "text/plain": [
       "set"
      ]
     },
     "execution_count": 131,
     "metadata": {},
     "output_type": "execute_result"
    }
   ],
   "source": [
    "type(s2)"
   ]
  },
  {
   "cell_type": "code",
   "execution_count": 132,
   "id": "c8fc8039-f76e-45e8-9d77-2539f4533774",
   "metadata": {},
   "outputs": [
    {
     "ename": "TypeError",
     "evalue": "unhashable type: 'list'",
     "output_type": "error",
     "traceback": [
      "\u001b[0;31m---------------------------------------------------------------------------\u001b[0m",
      "\u001b[0;31mTypeError\u001b[0m                                 Traceback (most recent call last)",
      "Cell \u001b[0;32mIn[132], line 1\u001b[0m\n\u001b[0;32m----> 1\u001b[0m s3\u001b[38;5;241m=\u001b[39m{\u001b[38;5;241m128\u001b[39m,\u001b[38;5;241m34\u001b[39m,\u001b[38;5;241m545\u001b[39m,\u001b[38;5;124m\"\u001b[39m\u001b[38;5;124msudh\u001b[39m\u001b[38;5;124m\"\u001b[39m,\u001b[38;5;241m5\u001b[39m\u001b[38;5;241m+\u001b[39m\u001b[38;5;241m7\u001b[39mj,\u001b[38;5;241m34.456\u001b[39m,[\u001b[38;5;241m2\u001b[39m,\u001b[38;5;241m3\u001b[39m,\u001b[38;5;241m4\u001b[39m]}\n",
      "\u001b[0;31mTypeError\u001b[0m: unhashable type: 'list'"
     ]
    }
   ],
   "source": [
    "s3={128,34,545,\"sudh\",5+7j,34.456,[2,3,4]}"
   ]
  },
  {
   "cell_type": "code",
   "execution_count": 133,
   "id": "a3c21ae7-e82e-4590-a0fa-7944f3bb8a98",
   "metadata": {},
   "outputs": [],
   "source": [
    "s3={128,34,545,\"sudh\",5+7j,34.456,(34,4,5)}"
   ]
  },
  {
   "cell_type": "code",
   "execution_count": 134,
   "id": "106ad6d5-95dc-4045-9887-7024afca088c",
   "metadata": {},
   "outputs": [],
   "source": [
    "#unordered collection of unique element\n",
    "s4={43,1,2,2,2,2,3,34,2,3,3,1,1,12,2,4,4,14,\"Sudh\",\"sudh\"} "
   ]
  },
  {
   "cell_type": "code",
   "execution_count": 135,
   "id": "67291104-5d84-4198-94fa-b90814c5e533",
   "metadata": {},
   "outputs": [
    {
     "data": {
      "text/plain": [
       "{1, 12, 14, 2, 3, 34, 4, 43, 'Sudh', 'sudh'}"
      ]
     },
     "execution_count": 135,
     "metadata": {},
     "output_type": "execute_result"
    }
   ],
   "source": [
    "s4"
   ]
  },
  {
   "cell_type": "code",
   "execution_count": 136,
   "id": "04f63bcf-462a-4590-88b4-a29c0f0c26c0",
   "metadata": {},
   "outputs": [],
   "source": [
    "l6=[43,1,2,2,2,2,3,34,2,3,3,1,1,12,2,4,4,14,\"Sudh\",\"sudh\"]"
   ]
  },
  {
   "cell_type": "code",
   "execution_count": 137,
   "id": "9d44a868-08ce-48ab-9a44-461f816ca273",
   "metadata": {},
   "outputs": [
    {
     "data": {
      "text/plain": [
       "[43, 1, 2, 2, 2, 2, 3, 34, 2, 3, 3, 1, 1, 12, 2, 4, 4, 14, 'Sudh', 'sudh']"
      ]
     },
     "execution_count": 137,
     "metadata": {},
     "output_type": "execute_result"
    }
   ],
   "source": [
    "l6"
   ]
  },
  {
   "cell_type": "code",
   "execution_count": 138,
   "id": "17431957-3cb8-4b0a-be67-f2995b4a0cf7",
   "metadata": {},
   "outputs": [],
   "source": [
    "l6=set(l6)"
   ]
  },
  {
   "cell_type": "code",
   "execution_count": 139,
   "id": "ade86413-56fd-4032-9afe-8e63ccfa6ca0",
   "metadata": {},
   "outputs": [
    {
     "data": {
      "text/plain": [
       "{1, 12, 14, 2, 3, 34, 4, 43, 'Sudh', 'sudh'}"
      ]
     },
     "execution_count": 139,
     "metadata": {},
     "output_type": "execute_result"
    }
   ],
   "source": [
    "l6"
   ]
  },
  {
   "cell_type": "code",
   "execution_count": 140,
   "id": "de4d63ec-0e43-4eda-bda1-bd74a383b50e",
   "metadata": {},
   "outputs": [],
   "source": [
    "l6=list(set(l6))"
   ]
  },
  {
   "cell_type": "code",
   "execution_count": 141,
   "id": "128e2295-d40f-4560-82ab-6332d0258a5a",
   "metadata": {},
   "outputs": [
    {
     "data": {
      "text/plain": [
       "[1, 2, 3, 34, 4, 43, 12, 14, 'Sudh', 'sudh']"
      ]
     },
     "execution_count": 141,
     "metadata": {},
     "output_type": "execute_result"
    }
   ],
   "source": [
    "l6"
   ]
  },
  {
   "cell_type": "code",
   "execution_count": 142,
   "id": "d0ae849d-1057-4f1f-91bb-649a2d6e1fef",
   "metadata": {},
   "outputs": [],
   "source": [
    "s5={234,45,56,554,4,65,4,5,\"abc\",35,5,64}"
   ]
  },
  {
   "cell_type": "code",
   "execution_count": 143,
   "id": "afeaf95e-0ff8-4599-b29b-d4268f3419b7",
   "metadata": {},
   "outputs": [
    {
     "data": {
      "text/plain": [
       "{234, 35, 4, 45, 5, 554, 56, 64, 65, 'abc'}"
      ]
     },
     "execution_count": 143,
     "metadata": {},
     "output_type": "execute_result"
    }
   ],
   "source": [
    "s5"
   ]
  },
  {
   "cell_type": "code",
   "execution_count": 144,
   "id": "9381cea2-dbd9-4694-a6a2-fe36d8bab513",
   "metadata": {},
   "outputs": [
    {
     "ename": "TypeError",
     "evalue": "'set' object is not subscriptable",
     "output_type": "error",
     "traceback": [
      "\u001b[0;31m---------------------------------------------------------------------------\u001b[0m",
      "\u001b[0;31mTypeError\u001b[0m                                 Traceback (most recent call last)",
      "Cell \u001b[0;32mIn[144], line 1\u001b[0m\n\u001b[0;32m----> 1\u001b[0m \u001b[43ms5\u001b[49m\u001b[43m[\u001b[49m\u001b[38;5;241;43m0\u001b[39;49m\u001b[43m]\u001b[49m\n",
      "\u001b[0;31mTypeError\u001b[0m: 'set' object is not subscriptable"
     ]
    }
   ],
   "source": [
    "s5[0]"
   ]
  },
  {
   "cell_type": "code",
   "execution_count": 145,
   "id": "925b8c18-9bb0-4fda-a33b-0c1350ac3cea",
   "metadata": {},
   "outputs": [
    {
     "ename": "TypeError",
     "evalue": "'set' object is not subscriptable",
     "output_type": "error",
     "traceback": [
      "\u001b[0;31m---------------------------------------------------------------------------\u001b[0m",
      "\u001b[0;31mTypeError\u001b[0m                                 Traceback (most recent call last)",
      "Cell \u001b[0;32mIn[145], line 1\u001b[0m\n\u001b[0;32m----> 1\u001b[0m \u001b[43ms5\u001b[49m\u001b[43m[\u001b[49m\u001b[43m:\u001b[49m\u001b[43m:\u001b[49m\u001b[38;5;241;43m-\u001b[39;49m\u001b[38;5;241;43m1\u001b[39;49m\u001b[43m]\u001b[49m\n",
      "\u001b[0;31mTypeError\u001b[0m: 'set' object is not subscriptable"
     ]
    }
   ],
   "source": [
    "s5[::-1]"
   ]
  },
  {
   "cell_type": "code",
   "execution_count": 146,
   "id": "dd3598dd-c050-4652-93c1-e68ea9d8f308",
   "metadata": {},
   "outputs": [],
   "source": [
    "s5.add(54)"
   ]
  },
  {
   "cell_type": "code",
   "execution_count": 147,
   "id": "332324fe-0b6b-45e1-98f4-0cdb0ee23800",
   "metadata": {},
   "outputs": [
    {
     "data": {
      "text/plain": [
       "{234, 35, 4, 45, 5, 54, 554, 56, 64, 65, 'abc'}"
      ]
     },
     "execution_count": 147,
     "metadata": {},
     "output_type": "execute_result"
    }
   ],
   "source": [
    "s5"
   ]
  },
  {
   "cell_type": "code",
   "execution_count": 148,
   "id": "3d9c7c13-de44-4f25-b8fb-6c6644c4b334",
   "metadata": {},
   "outputs": [],
   "source": [
    "s5.remove(4)"
   ]
  },
  {
   "cell_type": "code",
   "execution_count": 149,
   "id": "5b7111a4-bd17-438f-bc89-b8bce35b3c9d",
   "metadata": {},
   "outputs": [
    {
     "data": {
      "text/plain": [
       "{234, 35, 45, 5, 54, 554, 56, 64, 65, 'abc'}"
      ]
     },
     "execution_count": 149,
     "metadata": {},
     "output_type": "execute_result"
    }
   ],
   "source": [
    "s5"
   ]
  },
  {
   "cell_type": "code",
   "execution_count": 150,
   "id": "f1d2b72f-0827-446b-b828-2cee5e287de9",
   "metadata": {},
   "outputs": [],
   "source": [
    "s5.add(54)"
   ]
  },
  {
   "cell_type": "code",
   "execution_count": 151,
   "id": "9e1b440b-f40b-4550-afb5-de0d2c01eb85",
   "metadata": {},
   "outputs": [
    {
     "data": {
      "text/plain": [
       "{234, 35, 45, 5, 54, 554, 56, 64, 65, 'abc'}"
      ]
     },
     "execution_count": 151,
     "metadata": {},
     "output_type": "execute_result"
    }
   ],
   "source": [
    "s5."
   ]
  },
  {
   "cell_type": "code",
   "execution_count": 152,
   "id": "a1c0f4f6-2a51-4199-81f1-f083d5bbb5cb",
   "metadata": {},
   "outputs": [
    {
     "data": {
      "text/plain": [
       "(3, 34, 3, 45.5, False, 'sudh', (3+4j), [2, 3, 4])"
      ]
     },
     "execution_count": 152,
     "metadata": {},
     "output_type": "execute_result"
    }
   ],
   "source": [
    "   t.\n"
   ]
  },
  {
   "cell_type": "code",
   "execution_count": 157,
   "id": "0d46f8b5-5bdf-4289-8572-e67342db14ef",
   "metadata": {},
   "outputs": [
    {
     "data": {
      "text/plain": [
       "{234, 35, 45, 5, 54, 554, 56, 64, 65, 'abc'}"
      ]
     },
     "execution_count": 157,
     "metadata": {},
     "output_type": "execute_result"
    }
   ],
   "source": [
    "s5."
   ]
  },
  {
   "cell_type": "code",
   "execution_count": null,
   "id": "fcd8de1f-3690-44c0-9550-1ce856fbe774",
   "metadata": {},
   "outputs": [],
   "source": [
    "s5."
   ]
  },
  {
   "cell_type": "code",
   "execution_count": 158,
   "id": "41044e48-ac54-442b-bcfc-5efc753d25b1",
   "metadata": {},
   "outputs": [
    {
     "data": {
      "text/plain": [
       "[4,\n",
       " 56,\n",
       " 7,\n",
       " 4,\n",
       " 5,\n",
       " 'sudh',\n",
       " True,\n",
       " (3+6j),\n",
       " 45.556,\n",
       " 5,\n",
       " 'pwskills',\n",
       " [[2], 4, 'sudh', 3],\n",
       " 's',\n",
       " 'u',\n",
       " 'd',\n",
       " 'h',\n",
       " 3,\n",
       " 6,\n",
       " 7]"
      ]
     },
     "execution_count": 158,
     "metadata": {},
     "output_type": "execute_result"
    }
   ],
   "source": [
    "l."
   ]
  },
  {
   "cell_type": "code",
   "execution_count": null,
   "id": "22bf5835-e07b-490b-9eab-7904afecd96a",
   "metadata": {},
   "outputs": [],
   "source": []
  }
 ],
 "metadata": {
  "kernelspec": {
   "display_name": "Python 3 (ipykernel)",
   "language": "python",
   "name": "python3"
  },
  "language_info": {
   "codemirror_mode": {
    "name": "ipython",
    "version": 3
   },
   "file_extension": ".py",
   "mimetype": "text/x-python",
   "name": "python",
   "nbconvert_exporter": "python",
   "pygments_lexer": "ipython3",
   "version": "3.10.8"
  }
 },
 "nbformat": 4,
 "nbformat_minor": 5
}
