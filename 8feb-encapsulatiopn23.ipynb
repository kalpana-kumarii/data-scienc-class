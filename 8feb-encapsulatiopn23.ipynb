{
 "cells": [
  {
   "cell_type": "code",
   "execution_count": 1,
   "id": "7c0bc406-887c-4412-ac57-4b83eadca4d4",
   "metadata": {},
   "outputs": [],
   "source": [
    "class test:\n",
    "    \n",
    "    def __init__(self,a,b):\n",
    "        self.a=a\n",
    "        self.b=b"
   ]
  },
  {
   "cell_type": "code",
   "execution_count": 2,
   "id": "74a1fadf-b622-4e62-ba10-c3ef80aaeda6",
   "metadata": {},
   "outputs": [],
   "source": [
    "t=test(23,34)"
   ]
  },
  {
   "cell_type": "code",
   "execution_count": 3,
   "id": "834ba00d-54ca-4d08-a784-f0a806caf8eb",
   "metadata": {},
   "outputs": [],
   "source": [
    "t.a=2443"
   ]
  },
  {
   "cell_type": "code",
   "execution_count": 4,
   "id": "5f2bbabd-52f8-4c0d-8ad6-5777643e5e33",
   "metadata": {},
   "outputs": [
    {
     "data": {
      "text/plain": [
       "2443"
      ]
     },
     "execution_count": 4,
     "metadata": {},
     "output_type": "execute_result"
    }
   ],
   "source": [
    "t.a"
   ]
  },
  {
   "cell_type": "code",
   "execution_count": 13,
   "id": "03513c3a-7b36-4621-aeca-ab978cba20fe",
   "metadata": {},
   "outputs": [],
   "source": [
    "class car:\n",
    "    def __init__(self,year,make,model,speed):\n",
    "        self.__year=year\n",
    "        self.__mak=make\n",
    "        self.__model=model\n",
    "        self.__speed=0\n",
    "    \n",
    "    def set_speed(self,speed):\n",
    "        self.__speed= 0 if speed<0 else speed\n",
    "        \n",
    "    def get_speed(self):\n",
    "        return self.__speed"
   ]
  },
  {
   "cell_type": "code",
   "execution_count": 14,
   "id": "ce6ef63f-c9b4-4bf9-8a0e-f65cdc5341eb",
   "metadata": {},
   "outputs": [],
   "source": [
    "c= car(2021,\"toyata\",\"enova\",12)"
   ]
  },
  {
   "cell_type": "code",
   "execution_count": 9,
   "id": "cc90ef07-d8e8-46a1-8d24-fae08869af57",
   "metadata": {},
   "outputs": [
    {
     "ename": "AttributeError",
     "evalue": "'car' object has no attribute 'year'",
     "output_type": "error",
     "traceback": [
      "\u001b[0;31m---------------------------------------------------------------------------\u001b[0m",
      "\u001b[0;31mAttributeError\u001b[0m                            Traceback (most recent call last)",
      "Cell \u001b[0;32mIn[9], line 1\u001b[0m\n\u001b[0;32m----> 1\u001b[0m \u001b[43mc\u001b[49m\u001b[38;5;241;43m.\u001b[39;49m\u001b[43myear\u001b[49m\n",
      "\u001b[0;31mAttributeError\u001b[0m: 'car' object has no attribute 'year'"
     ]
    }
   ],
   "source": [
    "c.year"
   ]
  },
  {
   "cell_type": "code",
   "execution_count": 10,
   "id": "57e45b97-4674-4cb2-a489-41fb6fa44e45",
   "metadata": {},
   "outputs": [
    {
     "ename": "AttributeError",
     "evalue": "'car' object has no attribute '__year'",
     "output_type": "error",
     "traceback": [
      "\u001b[0;31m---------------------------------------------------------------------------\u001b[0m",
      "\u001b[0;31mAttributeError\u001b[0m                            Traceback (most recent call last)",
      "Cell \u001b[0;32mIn[10], line 1\u001b[0m\n\u001b[0;32m----> 1\u001b[0m \u001b[43mc\u001b[49m\u001b[38;5;241;43m.\u001b[39;49m\u001b[43m__year\u001b[49m\n",
      "\u001b[0;31mAttributeError\u001b[0m: 'car' object has no attribute '__year'"
     ]
    }
   ],
   "source": [
    "c.__year"
   ]
  },
  {
   "cell_type": "code",
   "execution_count": 12,
   "id": "bffde269-de29-41ce-82a6-0430b7f47f9f",
   "metadata": {},
   "outputs": [
    {
     "data": {
      "text/plain": [
       "2021"
      ]
     },
     "execution_count": 12,
     "metadata": {},
     "output_type": "execute_result"
    }
   ],
   "source": [
    "c._car__year"
   ]
  },
  {
   "cell_type": "code",
   "execution_count": 18,
   "id": "b9925e67-342d-4369-a65c-891864aa1f9f",
   "metadata": {},
   "outputs": [],
   "source": [
    "c.set_speed(-56)"
   ]
  },
  {
   "cell_type": "code",
   "execution_count": 19,
   "id": "329e7525-3c90-4129-ab90-86950a060d2a",
   "metadata": {},
   "outputs": [
    {
     "data": {
      "text/plain": [
       "0"
      ]
     },
     "execution_count": 19,
     "metadata": {},
     "output_type": "execute_result"
    }
   ],
   "source": [
    "c.get_speed()"
   ]
  },
  {
   "cell_type": "code",
   "execution_count": 23,
   "id": "65c99db1-ca3e-46f2-9b4c-4336767b801f",
   "metadata": {},
   "outputs": [],
   "source": [
    "c.set_speed(70)"
   ]
  },
  {
   "cell_type": "code",
   "execution_count": 24,
   "id": "df8d496a-d350-40a6-b439-1cdbe0301dda",
   "metadata": {},
   "outputs": [
    {
     "data": {
      "text/plain": [
       "70"
      ]
     },
     "execution_count": 24,
     "metadata": {},
     "output_type": "execute_result"
    }
   ],
   "source": [
    "c.get_speed()"
   ]
  },
  {
   "cell_type": "code",
   "execution_count": 35,
   "id": "ec843cfb-fbfe-4cb0-9054-9aa6994e354b",
   "metadata": {},
   "outputs": [],
   "source": [
    "class bank_account:\n",
    "    def __init__(self,balance):\n",
    "        self.__balance=balance\n",
    "    def deposit(self,amount):\n",
    "        self.__balance+=amount\n",
    "    def withraw(self,amount):\n",
    "        if self.__balance>=amount:\n",
    "            self.__balance-=amount\n",
    "            return True\n",
    "        else :\n",
    "            return False\n",
    "    def get_balance(self):\n",
    "        return self.__balance"
   ]
  },
  {
   "cell_type": "code",
   "execution_count": 40,
   "id": "1045e9e9-243d-44ba-b1b7-dd5083f063dd",
   "metadata": {},
   "outputs": [],
   "source": [
    "k= bank_account(100)"
   ]
  },
  {
   "cell_type": "code",
   "execution_count": 41,
   "id": "d93abfba-485f-4747-b553-e1217c4d4019",
   "metadata": {},
   "outputs": [
    {
     "data": {
      "text/plain": [
       "100"
      ]
     },
     "execution_count": 41,
     "metadata": {},
     "output_type": "execute_result"
    }
   ],
   "source": [
    "k.get_balance()"
   ]
  },
  {
   "cell_type": "code",
   "execution_count": 48,
   "id": "37a9d408-d4fa-4f96-8b37-93af1683fae7",
   "metadata": {},
   "outputs": [],
   "source": [
    "k.deposit(90)"
   ]
  },
  {
   "cell_type": "code",
   "execution_count": 49,
   "id": "e246dfc5-b4ad-4842-be94-c2f48bc470f9",
   "metadata": {},
   "outputs": [
    {
     "data": {
      "text/plain": [
       "190"
      ]
     },
     "execution_count": 49,
     "metadata": {},
     "output_type": "execute_result"
    }
   ],
   "source": [
    "k.get_balance()"
   ]
  },
  {
   "cell_type": "code",
   "execution_count": 50,
   "id": "9003541f-1799-4223-9a32-0f3ce8368074",
   "metadata": {},
   "outputs": [
    {
     "data": {
      "text/plain": [
       "False"
      ]
     },
     "execution_count": 50,
     "metadata": {},
     "output_type": "execute_result"
    }
   ],
   "source": [
    "k.withraw(900)"
   ]
  },
  {
   "cell_type": "code",
   "execution_count": 51,
   "id": "54d2fd61-f738-4484-b597-a1d26f043565",
   "metadata": {},
   "outputs": [
    {
     "data": {
      "text/plain": [
       "190"
      ]
     },
     "execution_count": 51,
     "metadata": {},
     "output_type": "execute_result"
    }
   ],
   "source": [
    "k.get_balance()"
   ]
  },
  {
   "cell_type": "code",
   "execution_count": 52,
   "id": "6dc8b779-52a5-4c43-939d-1773bc05d956",
   "metadata": {},
   "outputs": [
    {
     "data": {
      "text/plain": [
       "True"
      ]
     },
     "execution_count": 52,
     "metadata": {},
     "output_type": "execute_result"
    }
   ],
   "source": [
    "k.withraw(90)"
   ]
  },
  {
   "cell_type": "code",
   "execution_count": 53,
   "id": "396e2cd5-1a33-444d-a0f8-7d3cc64c78f3",
   "metadata": {},
   "outputs": [
    {
     "data": {
      "text/plain": [
       "100"
      ]
     },
     "execution_count": 53,
     "metadata": {},
     "output_type": "execute_result"
    }
   ],
   "source": [
    "k.get_balance()"
   ]
  },
  {
   "cell_type": "code",
   "execution_count": null,
   "id": "b3f72064-7067-4d53-864c-4850e56df97c",
   "metadata": {},
   "outputs": [],
   "source": []
  }
 ],
 "metadata": {
  "kernelspec": {
   "display_name": "Python 3 (ipykernel)",
   "language": "python",
   "name": "python3"
  },
  "language_info": {
   "codemirror_mode": {
    "name": "ipython",
    "version": 3
   },
   "file_extension": ".py",
   "mimetype": "text/x-python",
   "name": "python",
   "nbconvert_exporter": "python",
   "pygments_lexer": "ipython3",
   "version": "3.10.8"
  }
 },
 "nbformat": 4,
 "nbformat_minor": 5
}
