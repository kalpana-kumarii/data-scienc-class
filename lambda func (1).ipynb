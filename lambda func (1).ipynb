{
 "cells": [
  {
   "cell_type": "code",
   "execution_count": 1,
   "id": "c64631f4-c1c1-441f-b6af-4a0dd1f39e54",
   "metadata": {},
   "outputs": [],
   "source": [
    "n=3\n",
    "p=2"
   ]
  },
  {
   "cell_type": "code",
   "execution_count": 2,
   "id": "f8187d02-57c2-45ee-93eb-3af3caa8f187",
   "metadata": {},
   "outputs": [],
   "source": [
    "def test(n,p):\n",
    "    return n**p"
   ]
  },
  {
   "cell_type": "code",
   "execution_count": 3,
   "id": "ac917dca-2c9b-471f-8754-3466ff99bf6a",
   "metadata": {},
   "outputs": [
    {
     "data": {
      "text/plain": [
       "9"
      ]
     },
     "execution_count": 3,
     "metadata": {},
     "output_type": "execute_result"
    }
   ],
   "source": [
    "test(3,2)"
   ]
  },
  {
   "cell_type": "code",
   "execution_count": 8,
   "id": "9c2b488f-bf4e-4ebb-af33-ec9bb1a0de1f",
   "metadata": {},
   "outputs": [],
   "source": [
    " #one liner function \n",
    "#anonymous function \n",
    "#lambda function\n",
    "a=lambda n,p : n**p"
   ]
  },
  {
   "cell_type": "code",
   "execution_count": 9,
   "id": "f003ee33-f5a1-4695-9b73-2f2eb6d05748",
   "metadata": {},
   "outputs": [
    {
     "data": {
      "text/plain": [
       "9"
      ]
     },
     "execution_count": 9,
     "metadata": {},
     "output_type": "execute_result"
    }
   ],
   "source": [
    "a(3,2)"
   ]
  },
  {
   "cell_type": "code",
   "execution_count": 10,
   "id": "2fad0a18-b6f4-4cd7-a237-9882419b3de6",
   "metadata": {},
   "outputs": [],
   "source": [
    "add =lambda x,y :x+y"
   ]
  },
  {
   "cell_type": "code",
   "execution_count": 11,
   "id": "b44fad2a-30f3-4607-af96-cbd58068f16f",
   "metadata": {},
   "outputs": [
    {
     "data": {
      "text/plain": [
       "9"
      ]
     },
     "execution_count": 11,
     "metadata": {},
     "output_type": "execute_result"
    }
   ],
   "source": [
    "add(4,5)"
   ]
  },
  {
   "cell_type": "code",
   "execution_count": 12,
   "id": "2db1a542-59fa-4785-bc82-77b018df5151",
   "metadata": {},
   "outputs": [],
   "source": [
    "c_to_f = lambda c: (9/5)*c+32"
   ]
  },
  {
   "cell_type": "code",
   "execution_count": 13,
   "id": "e635ae1a-cf50-4e7c-9e3f-3d6ba5a02390",
   "metadata": {},
   "outputs": [
    {
     "data": {
      "text/plain": [
       "194.0"
      ]
     },
     "execution_count": 13,
     "metadata": {},
     "output_type": "execute_result"
    }
   ],
   "source": [
    "c_to_f(90)"
   ]
  },
  {
   "cell_type": "code",
   "execution_count": 14,
   "id": "b08becf5-c5fa-4f7c-b804-49f7b6eeabc4",
   "metadata": {},
   "outputs": [
    {
     "data": {
      "text/plain": [
       "113.0"
      ]
     },
     "execution_count": 14,
     "metadata": {},
     "output_type": "execute_result"
    }
   ],
   "source": [
    "c_to_f(45)"
   ]
  },
  {
   "cell_type": "code",
   "execution_count": 15,
   "id": "a322c138-8039-45ee-9d7b-d0faf3323e37",
   "metadata": {},
   "outputs": [],
   "source": [
    "find_max = lambda x,y : x if x>y else y"
   ]
  },
  {
   "cell_type": "code",
   "execution_count": 16,
   "id": "b7d34241-1cca-4e0b-a8f6-5a5572b91ab6",
   "metadata": {},
   "outputs": [
    {
     "data": {
      "text/plain": [
       "5"
      ]
     },
     "execution_count": 16,
     "metadata": {},
     "output_type": "execute_result"
    }
   ],
   "source": [
    "find_max(4,5)"
   ]
  },
  {
   "cell_type": "code",
   "execution_count": 17,
   "id": "fcf45ac9-91b0-424c-aa67-a84dc1de3cea",
   "metadata": {},
   "outputs": [],
   "source": [
    "s= \"pwskills\""
   ]
  },
  {
   "cell_type": "code",
   "execution_count": 18,
   "id": "10862a6e-e89d-461b-93b4-912b0751c57e",
   "metadata": {},
   "outputs": [],
   "source": [
    "find_len= lambda s :len(s)"
   ]
  },
  {
   "cell_type": "code",
   "execution_count": 19,
   "id": "141a993f-18cd-4022-a1a5-bcb07b1294ee",
   "metadata": {},
   "outputs": [
    {
     "data": {
      "text/plain": [
       "8"
      ]
     },
     "execution_count": 19,
     "metadata": {},
     "output_type": "execute_result"
    }
   ],
   "source": [
    "find_len(s)"
   ]
  },
  {
   "cell_type": "code",
   "execution_count": null,
   "id": "a29145bc-a1ab-4bab-b88b-2d605019ac27",
   "metadata": {},
   "outputs": [],
   "source": []
  }
 ],
 "metadata": {
  "kernelspec": {
   "display_name": "Python 3 (ipykernel)",
   "language": "python",
   "name": "python3"
  },
  "language_info": {
   "codemirror_mode": {
    "name": "ipython",
    "version": 3
   },
   "file_extension": ".py",
   "mimetype": "text/x-python",
   "name": "python",
   "nbconvert_exporter": "python",
   "pygments_lexer": "ipython3",
   "version": "3.10.8"
  }
 },
 "nbformat": 4,
 "nbformat_minor": 5
}
