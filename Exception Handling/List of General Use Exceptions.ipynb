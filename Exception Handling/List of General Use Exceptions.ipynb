{
 "cells": [
  {
   "cell_type": "code",
   "execution_count": null,
   "id": "310fa630-1751-4dcd-9c10-6ba88ee8fbee",
   "metadata": {},
   "outputs": [],
   "source": [
    "# Different type of Exceptions "
   ]
  },
  {
   "cell_type": "code",
   "execution_count": 1,
   "id": "29aecdf8-9bf7-4738-9418-635cc3ab21e8",
   "metadata": {},
   "outputs": [
    {
     "name": "stdout",
     "output_type": "stream",
     "text": [
      "division by zero\n"
     ]
    }
   ],
   "source": [
    "try :\n",
    "    a=10/0\n",
    "except ZeroDivisionError as e:\n",
    "    print(e)"
   ]
  },
  {
   "cell_type": "code",
   "execution_count": 2,
   "id": "00a269bb-c4f5-456b-a4d2-398881dab2f8",
   "metadata": {},
   "outputs": [
    {
     "name": "stdout",
     "output_type": "stream",
     "text": [
      "invalid literal for int() with base 10: 'sudh'\n"
     ]
    }
   ],
   "source": [
    "try:\n",
    "    int(\"sudh\")\n",
    "except (ValueError, TypeError) as e:\n",
    "    print(e)"
   ]
  },
  {
   "cell_type": "code",
   "execution_count": 3,
   "id": "4767ff02-4574-4842-8d78-4f035c44125a",
   "metadata": {},
   "outputs": [
    {
     "name": "stdout",
     "output_type": "stream",
     "text": [
      "this will catch an error\n"
     ]
    }
   ],
   "source": [
    "try:\n",
    "    int(\"sudh\")\n",
    "except:\n",
    "    print(\"this will catch an error\")"
   ]
  },
  {
   "cell_type": "code",
   "execution_count": 6,
   "id": "da51810b-e7a1-43a4-a5e0-62cc51554a3e",
   "metadata": {},
   "outputs": [
    {
     "name": "stdout",
     "output_type": "stream",
     "text": [
      "No module named 'sudh'\n"
     ]
    },
    {
     "data": {
      "text/plain": [
       "5.0"
      ]
     },
     "execution_count": 6,
     "metadata": {},
     "output_type": "execute_result"
    }
   ],
   "source": [
    "try:\n",
    "    import sudh\n",
    "except ImportError as e:\n",
    "    print(e)\n",
    "10/2"
   ]
  },
  {
   "cell_type": "code",
   "execution_count": 8,
   "id": "76e76e67-0633-403b-99a7-e479c9738036",
   "metadata": {},
   "outputs": [
    {
     "name": "stdout",
     "output_type": "stream",
     "text": [
      "'key2'\n"
     ]
    }
   ],
   "source": [
    "try:\n",
    "    d={\"key\":\"sudh\",1:[1,2,3,4]}\n",
    "    print(d[\"key2\"])\n",
    "except KeyError as e:\n",
    "    print(e)"
   ]
  },
  {
   "cell_type": "code",
   "execution_count": 10,
   "id": "a11ab190-5f6c-4935-81ba-d6a1eaeef15e",
   "metadata": {},
   "outputs": [
    {
     "name": "stdout",
     "output_type": "stream",
     "text": [
      "'str' object has no attribute 'test'\n"
     ]
    }
   ],
   "source": [
    "try:\n",
    "    \"Sudh\".test()\n",
    "except AttributeError as e:\n",
    "    print(e)"
   ]
  },
  {
   "cell_type": "code",
   "execution_count": 11,
   "id": "072cbe9b-9ce7-4882-b418-46e69db6149b",
   "metadata": {},
   "outputs": [
    {
     "name": "stdout",
     "output_type": "stream",
     "text": [
      "list index out of range\n"
     ]
    }
   ],
   "source": [
    "try:\n",
    "    l=[1,2,3,4]\n",
    "    l[6]\n",
    "except IndexError as e:\n",
    "    print(e)"
   ]
  },
  {
   "cell_type": "code",
   "execution_count": 12,
   "id": "464e3280-c744-47c2-bf86-647b3a70ac2b",
   "metadata": {},
   "outputs": [
    {
     "name": "stdout",
     "output_type": "stream",
     "text": [
      "unsupported operand type(s) for +: 'int' and 'str'\n"
     ]
    }
   ],
   "source": [
    "try:\n",
    "    123+\"Sudh\"\n",
    "except TypeError as e:\n",
    "    print(e)"
   ]
  },
  {
   "cell_type": "code",
   "execution_count": 17,
   "id": "0797f293-75f5-443d-98e4-162ccbb9d916",
   "metadata": {},
   "outputs": [
    {
     "name": "stdout",
     "output_type": "stream",
     "text": [
      "[Errno 2] No such file or directory: 'test3.txt'\n"
     ]
    }
   ],
   "source": [
    "try:\n",
    "    with open(\"test3.txt\",'r') as f:\n",
    "        f.read()\n",
    "except FileNotFoundError as e:\n",
    "    print(e)"
   ]
  },
  {
   "cell_type": "code",
   "execution_count": 19,
   "id": "00276e16-f686-4871-a0d1-a8505f71f4ff",
   "metadata": {},
   "outputs": [
    {
     "name": "stdout",
     "output_type": "stream",
     "text": [
      "[Errno 2] No such file or directory: 'test3.txt'\n"
     ]
    }
   ],
   "source": [
    "# super class always write as last exception\n",
    "#if no one exception handle the case then super class \"Exception\" will handle it\n",
    "#if we super class Exception as a first exception then other exception will not be executed\n",
    "try:\n",
    "    with open(\"test3.txt\",'r') as f:\n",
    "        f.read()\n",
    "except Exception as e:\n",
    "    print(e)\n",
    "except FileNotFoundError as e:\n",
    "    print(\"test\",e)"
   ]
  },
  {
   "cell_type": "code",
   "execution_count": 22,
   "id": "96e5038c-375e-42dc-a225-8fe2a0080f7d",
   "metadata": {},
   "outputs": [
    {
     "name": "stdout",
     "output_type": "stream",
     "text": [
      "except 1 run   [Errno 2] No such file or directory: 'test3.txt'\n"
     ]
    }
   ],
   "source": [
    "try:\n",
    "    with open(\"test3.txt\",'r') as f:\n",
    "        f.read()\n",
    "except FileNotFoundError as e:\n",
    "    print(\"except 1 run  \",e)\n",
    "except Exception as e:\n",
    "    print(\"exp\",e)"
   ]
  },
  {
   "cell_type": "code",
   "execution_count": 25,
   "id": "c0750c17-0e7c-4e72-a092-6516601f3280",
   "metadata": {},
   "outputs": [],
   "source": [
    "def test(file):\n",
    "    try:\n",
    "        with open(\"test3.txt\",'r') as f:\n",
    "            f.read()\n",
    "    except Exception as e:        \n",
    "        print(e)\n",
    "    except FileNotFoundError as e:\n",
    "        print(\"test\",e) \n",
    "    "
   ]
  },
  {
   "cell_type": "code",
   "execution_count": null,
   "id": "3c5a3ea5-4261-4984-a176-cd49782f3a4b",
   "metadata": {},
   "outputs": [],
   "source": []
  }
 ],
 "metadata": {
  "kernelspec": {
   "display_name": "Python 3 (ipykernel)",
   "language": "python",
   "name": "python3"
  },
  "language_info": {
   "codemirror_mode": {
    "name": "ipython",
    "version": 3
   },
   "file_extension": ".py",
   "mimetype": "text/x-python",
   "name": "python",
   "nbconvert_exporter": "python",
   "pygments_lexer": "ipython3",
   "version": "3.10.8"
  }
 },
 "nbformat": 4,
 "nbformat_minor": 5
}
