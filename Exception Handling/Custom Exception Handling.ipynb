{
 "cells": [
  {
   "cell_type": "code",
   "execution_count": 1,
   "id": "bf37bd25-cb3f-4d58-a0c2-a4499dfd237f",
   "metadata": {},
   "outputs": [
    {
     "name": "stdin",
     "output_type": "stream",
     "text": [
      "enter your age 43\n"
     ]
    }
   ],
   "source": [
    "age=int(input(\"enter your age\"))\n"
   ]
  },
  {
   "cell_type": "code",
   "execution_count": 8,
   "id": "919bdaec-cb77-490e-95ea-782545fe2b0a",
   "metadata": {},
   "outputs": [],
   "source": [
    "#validateage class inherit properties of Exception class\n",
    "class validateage(Exception):    \n",
    "    def __init__(self,msg):\n",
    "        self.msg=msg\n",
    "        "
   ]
  },
  {
   "cell_type": "code",
   "execution_count": 9,
   "id": "4ea44c8c-1d72-4f67-937e-ba50a273696e",
   "metadata": {},
   "outputs": [],
   "source": [
    "#raise is a keyword to throw an exception\n",
    "def validateagefunc(age):\n",
    "    if age < 0:\n",
    "        raise validateage(\"entered age is negative please make sure to enter positve age\")\n",
    "    elif age > 200:\n",
    "        raise validateage(\"entered age is very high\")\n",
    "    else:\n",
    "        print(\"age is valid\")"
   ]
  },
  {
   "cell_type": "code",
   "execution_count": 7,
   "id": "e891167c-800b-4f83-9514-146d39c7ecb4",
   "metadata": {},
   "outputs": [
    {
     "name": "stdin",
     "output_type": "stream",
     "text": [
      "enter your age -34\n"
     ]
    },
    {
     "name": "stdout",
     "output_type": "stream",
     "text": [
      "entered age is negative please make sure to enter positve age\n"
     ]
    }
   ],
   "source": [
    "try:\n",
    "    age=int(input(\"enter your age\"))\n",
    "    validateagefunc(age)\n",
    "except validateage as e :\n",
    "    print(e)"
   ]
  },
  {
   "cell_type": "code",
   "execution_count": null,
   "id": "f3df83ad-51b1-4840-918c-a91f188b22ad",
   "metadata": {},
   "outputs": [],
   "source": []
  }
 ],
 "metadata": {
  "kernelspec": {
   "display_name": "Python 3 (ipykernel)",
   "language": "python",
   "name": "python3"
  },
  "language_info": {
   "codemirror_mode": {
    "name": "ipython",
    "version": 3
   },
   "file_extension": ".py",
   "mimetype": "text/x-python",
   "name": "python",
   "nbconvert_exporter": "python",
   "pygments_lexer": "ipython3",
   "version": "3.10.8"
  }
 },
 "nbformat": 4,
 "nbformat_minor": 5
}
