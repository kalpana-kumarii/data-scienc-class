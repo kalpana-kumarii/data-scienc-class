{
 "cells": [
  {
   "cell_type": "code",
   "execution_count": 5,
   "id": "f73be6aa-c1db-40d1-972b-01f6789e71a4",
   "metadata": {},
   "outputs": [
    {
     "name": "stdout",
     "output_type": "stream",
     "text": [
      "division by zero\n"
     ]
    }
   ],
   "source": [
    "#Always try to use a specific exception\n",
    "try:\n",
    "    10/0\n",
    "except ZeroDivisionError as e:\n",
    "    print(e)"
   ]
  },
  {
   "cell_type": "code",
   "execution_count": 6,
   "id": "5cb7e3fc-78b8-4a87-925b-d1e2674e50e2",
   "metadata": {},
   "outputs": [
    {
     "name": "stdout",
     "output_type": "stream",
     "text": [
      "I am trying to handle zero division error division by zero\n"
     ]
    }
   ],
   "source": [
    "#print always a proper message\n",
    "try:\n",
    "    10/0\n",
    "except ZeroDivisionError as e:\n",
    "    print(\"I am trying to handle zero division error\",e)"
   ]
  },
  {
   "cell_type": "code",
   "execution_count": 12,
   "id": "5e4844af-be95-418f-931b-90b783675b45",
   "metadata": {},
   "outputs": [],
   "source": [
    "#always try to log your error\n",
    "#Instead of using print function use logging\n",
    "import logging\n",
    "logging.basicConfig(filename=\"error.log\",level=logging.ERROR)\n",
    "try:\n",
    "    10/0\n",
    "except ZeroDivisionError as e:\n",
    "    logging.error(\"I am trying to handle zero division error {}\".format(e))"
   ]
  },
  {
   "cell_type": "code",
   "execution_count": 13,
   "id": "ec0afc1d-9a21-4ff3-8933-d3a127975872",
   "metadata": {},
   "outputs": [],
   "source": [
    "#always avoid to write multiple exception handling\n",
    "try:\n",
    "    10/0\n",
    "except FileNotFoundError as e:\n",
    "    logging.error(\"I am handling file not found error{}\".format(e))\n",
    "    \n",
    "except AttributeError as e:\n",
    "     logging.error(\"I am handling Attribue error {}\".format(e))\n",
    "        \n",
    "except ZeroDivisionError as e:\n",
    "    logging.error(\"I am trying to handle zero division error {}\".format(e))"
   ]
  },
  {
   "cell_type": "code",
   "execution_count": 14,
   "id": "3abaa318-5e6c-46c7-a315-64cfe316b309",
   "metadata": {},
   "outputs": [],
   "source": [
    "# Document all the error\n",
    "# Cleanup all the resources to reduce momory consumption\n",
    "\n",
    "try:\n",
    "    with open(\"test1.txt\",'w')as f:\n",
    "        f.write(\"this is my data to file\")\n",
    "except FileNotFoundError as e:\n",
    "    logging.error(\"I am handling file not found error{}\".format(e))\n",
    "finally :\n",
    "    f.close()"
   ]
  },
  {
   "cell_type": "code",
   "execution_count": null,
   "id": "d2ce0cf5-31f1-476d-98d6-ce10de7baee5",
   "metadata": {},
   "outputs": [],
   "source": []
  }
 ],
 "metadata": {
  "kernelspec": {
   "display_name": "Python 3 (ipykernel)",
   "language": "python",
   "name": "python3"
  },
  "language_info": {
   "codemirror_mode": {
    "name": "ipython",
    "version": 3
   },
   "file_extension": ".py",
   "mimetype": "text/x-python",
   "name": "python",
   "nbconvert_exporter": "python",
   "pygments_lexer": "ipython3",
   "version": "3.10.8"
  }
 },
 "nbformat": 4,
 "nbformat_minor": 5
}
