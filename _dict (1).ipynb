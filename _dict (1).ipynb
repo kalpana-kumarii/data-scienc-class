{
 "cells": [
  {
   "cell_type": "code",
   "execution_count": 1,
   "id": "c1405d9a-442e-4cd3-8894-5c3026ea108b",
   "metadata": {},
   "outputs": [],
   "source": [
    "dict={}"
   ]
  },
  {
   "cell_type": "code",
   "execution_count": 2,
   "id": "351d0aa7-0733-4c5f-8bab-a8f06d92233e",
   "metadata": {},
   "outputs": [],
   "source": [
    "d1={\"key\":\"sudh\"}"
   ]
  },
  {
   "cell_type": "code",
   "execution_count": 3,
   "id": "1789f31a-1c97-4b13-a1db-222e2fd584e4",
   "metadata": {},
   "outputs": [
    {
     "data": {
      "text/plain": [
       "{'key': 'sudh'}"
      ]
     },
     "execution_count": 3,
     "metadata": {},
     "output_type": "execute_result"
    }
   ],
   "source": [
    "d1"
   ]
  },
  {
   "cell_type": "code",
   "execution_count": 4,
   "id": "7804471c-0104-4901-afff-c4b714cc5b85",
   "metadata": {},
   "outputs": [],
   "source": [
    "d2 ={'name': \"kalpana\", 'email': \"abba@gmail.com\", \"number\":\"26346674\"}"
   ]
  },
  {
   "cell_type": "code",
   "execution_count": 2,
   "id": "4254d38d-7d6c-4158-9596-2abe8b361edf",
   "metadata": {},
   "outputs": [
    {
     "data": {
      "text/plain": [
       "{'name': 'kalpana', 'email': 'abba@gmail.com', 'number': '26346674'}"
      ]
     },
     "execution_count": 2,
     "metadata": {},
     "output_type": "execute_result"
    }
   ],
   "source": [
    "d2"
   ]
  },
  {
   "cell_type": "code",
   "execution_count": 5,
   "id": "6b4ef4b3-8da6-496f-9b00-dca336c98294",
   "metadata": {},
   "outputs": [
    {
     "ename": "NameError",
     "evalue": "name '_wer' is not defined",
     "output_type": "error",
     "traceback": [
      "\u001b[0;31m---------------------------------------------------------------------------\u001b[0m",
      "\u001b[0;31mNameError\u001b[0m                                 Traceback (most recent call last)",
      "Cell \u001b[0;32mIn[5], line 1\u001b[0m\n\u001b[0;32m----> 1\u001b[0m d3 \u001b[38;5;241m=\u001b[39m{\u001b[38;5;241m234\u001b[39m:\u001b[38;5;124m\"\u001b[39m\u001b[38;5;124msudhj\u001b[39m\u001b[38;5;124m\"\u001b[39m,\u001b[43m_wer\u001b[49m :\u001b[38;5;124m\"\u001b[39m\u001b[38;5;124mkumar\u001b[39m\u001b[38;5;124m\"\u001b[39m, \u001b[38;5;28;01mTrue\u001b[39;00m:\u001b[38;5;241m32764\u001b[39m}\n",
      "\u001b[0;31mNameError\u001b[0m: name '_wer' is not defined"
     ]
    }
   ],
   "source": [
    "d3 ={234:\"sudhj\",_wer :\"kumar\", True:32764}"
   ]
  },
  {
   "cell_type": "code",
   "execution_count": 2,
   "id": "bd5c48b9-b39c-4187-8f3b-c52748344fc7",
   "metadata": {},
   "outputs": [],
   "source": [
    "d3 ={234:\"sudhj\",\"_@wer\" :\"kumar\", True:32764}"
   ]
  },
  {
   "cell_type": "code",
   "execution_count": 1,
   "id": "7f2d0bcc-0f5d-4a1d-9eb2-8573bc1f266e",
   "metadata": {},
   "outputs": [
    {
     "ename": "SyntaxError",
     "evalue": "invalid syntax (2980656595.py, line 1)",
     "output_type": "error",
     "traceback": [
      "\u001b[0;36m  Cell \u001b[0;32mIn[1], line 1\u001b[0;36m\u001b[0m\n\u001b[0;31m    d3.\u001b[0m\n\u001b[0m       ^\u001b[0m\n\u001b[0;31mSyntaxError\u001b[0m\u001b[0;31m:\u001b[0m invalid syntax\n"
     ]
    }
   ],
   "source": [
    "d3"
   ]
  },
  {
   "cell_type": "code",
   "execution_count": 19,
   "id": "31ab8712-f95b-451e-82c1-5d69b1950bf7",
   "metadata": {},
   "outputs": [
    {
     "data": {
      "text/plain": [
       "'sudhj'"
      ]
     },
     "execution_count": 19,
     "metadata": {},
     "output_type": "execute_result"
    }
   ],
   "source": [
    "d3[234]"
   ]
  },
  {
   "cell_type": "code",
   "execution_count": 20,
   "id": "8a10f41b-b689-4ad5-b12a-ea21acc98c5d",
   "metadata": {},
   "outputs": [
    {
     "data": {
      "text/plain": [
       "32764"
      ]
     },
     "execution_count": 20,
     "metadata": {},
     "output_type": "execute_result"
    }
   ],
   "source": [
    "d3[True]"
   ]
  },
  {
   "cell_type": "code",
   "execution_count": 21,
   "id": "44deb529-f6f3-42c4-8049-dd32a606e135",
   "metadata": {},
   "outputs": [
    {
     "data": {
      "text/plain": [
       "32764"
      ]
     },
     "execution_count": 21,
     "metadata": {},
     "output_type": "execute_result"
    }
   ],
   "source": [
    "d3[1]"
   ]
  },
  {
   "cell_type": "code",
   "execution_count": 23,
   "id": "69cbf2c2-0a3b-4341-9f8b-202b28e89a1f",
   "metadata": {},
   "outputs": [],
   "source": [
    "d4={'name': \"sudh\",'mail_id':\"ab@gmail.com\",\"name\":\"shd\"}"
   ]
  },
  {
   "cell_type": "code",
   "execution_count": 24,
   "id": "2a3e53f2-859b-49c3-9123-00c175aa8e9b",
   "metadata": {},
   "outputs": [
    {
     "data": {
      "text/plain": [
       "'shd'"
      ]
     },
     "execution_count": 24,
     "metadata": {},
     "output_type": "execute_result"
    }
   ],
   "source": [
    "d4['name']"
   ]
  },
  {
   "cell_type": "code",
   "execution_count": 30,
   "id": "f843e679-358f-4e3f-9fec-5e07ec263dbf",
   "metadata": {},
   "outputs": [],
   "source": [
    "d5={\"company\":\"pwskills\", \"course\":[\"web dev\",\"data science\",\"java\"]}"
   ]
  },
  {
   "cell_type": "code",
   "execution_count": 33,
   "id": "fabe7cbd-bcf9-449b-a609-21df500444a9",
   "metadata": {},
   "outputs": [
    {
     "data": {
      "text/plain": [
       "['web dev', 'data science', 'java']"
      ]
     },
     "execution_count": 33,
     "metadata": {},
     "output_type": "execute_result"
    }
   ],
   "source": [
    "d5[\"course\"]"
   ]
  },
  {
   "cell_type": "code",
   "execution_count": 38,
   "id": "7ca1222a-a185-463f-8b65-6063214ae740",
   "metadata": {},
   "outputs": [
    {
     "data": {
      "text/plain": [
       "'java'"
      ]
     },
     "execution_count": 38,
     "metadata": {},
     "output_type": "execute_result"
    }
   ],
   "source": [
    "d5[\"course\"][2]"
   ]
  },
  {
   "cell_type": "code",
   "execution_count": 4,
   "id": "04cc9631-c935-4f98-9e60-725245bd921c",
   "metadata": {},
   "outputs": [],
   "source": [
    "d6={\"number\": [3,4,6,65,67],\"assignment\":(1,2,4,5,6),\"launch_date\":{28,12,13},\n",
    "    \"class_time\":{'web_dev':8,\"data_science\":8,\"java with system design\":8}}"
   ]
  },
  {
   "cell_type": "code",
   "execution_count": 6,
   "id": "841c6a95-500c-4cf3-a61b-1e04df0bcb71",
   "metadata": {},
   "outputs": [
    {
     "data": {
      "text/plain": [
       "{'number': [3, 4, 6, 65, 67],\n",
       " 'assignment': (1, 2, 4, 5, 6),\n",
       " 'launch_date': {12, 13, 28},\n",
       " 'class_time': {'web_dev': 8, 'data_science': 8, 'java with system design': 8}}"
      ]
     },
     "execution_count": 6,
     "metadata": {},
     "output_type": "execute_result"
    }
   ],
   "source": [
    "d6"
   ]
  },
  {
   "cell_type": "code",
   "execution_count": 7,
   "id": "279f3891-987a-4915-8939-7fceb0d7e92a",
   "metadata": {},
   "outputs": [
    {
     "data": {
      "text/plain": [
       "{'web_dev': 8, 'data_science': 8, 'java with system design': 8}"
      ]
     },
     "execution_count": 7,
     "metadata": {},
     "output_type": "execute_result"
    }
   ],
   "source": [
    "d6[\"class_time\"]"
   ]
  },
  {
   "cell_type": "code",
   "execution_count": 44,
   "id": "18cd1718-f618-40ff-ba6b-869f60688617",
   "metadata": {},
   "outputs": [
    {
     "data": {
      "text/plain": [
       "8"
      ]
     },
     "execution_count": 44,
     "metadata": {},
     "output_type": "execute_result"
    }
   ],
   "source": [
    "d6[\"class_time\"][\"web_dev\"]"
   ]
  },
  {
   "cell_type": "code",
   "execution_count": 10,
   "id": "aadb112e-0a24-4a13-9f40-16fc5e4075ef",
   "metadata": {},
   "outputs": [],
   "source": [
    "d6[\"mentor\"]=[\"sudh\", \"krish\",\"anurag\"]"
   ]
  },
  {
   "cell_type": "code",
   "execution_count": 11,
   "id": "0bbc2c0a-b82e-40d3-a5e9-5643d9684976",
   "metadata": {},
   "outputs": [
    {
     "data": {
      "text/plain": [
       "{'number': [3, 4, 6, 65, 67],\n",
       " 'assignment': (1, 2, 4, 5, 6),\n",
       " 'launch_date': {12, 13, 28},\n",
       " 'class_time': {'web_dev': 8, 'data_science': 8, 'java with system design': 8},\n",
       " 'mentor': ['sudh', 'krish', 'anurag']}"
      ]
     },
     "execution_count": 11,
     "metadata": {},
     "output_type": "execute_result"
    }
   ],
   "source": [
    "d6\n"
   ]
  },
  {
   "cell_type": "code",
   "execution_count": 16,
   "id": "e25501a1-2091-44a0-b65c-036754e2577e",
   "metadata": {},
   "outputs": [
    {
     "ename": "KeyError",
     "evalue": "'mentor'",
     "output_type": "error",
     "traceback": [
      "\u001b[0;31m---------------------------------------------------------------------------\u001b[0m",
      "\u001b[0;31mKeyError\u001b[0m                                  Traceback (most recent call last)",
      "Cell \u001b[0;32mIn[16], line 1\u001b[0m\n\u001b[0;32m----> 1\u001b[0m \u001b[38;5;28;01mdel\u001b[39;00m d6[\u001b[38;5;124m\"\u001b[39m\u001b[38;5;124mmentor\u001b[39m\u001b[38;5;124m\"\u001b[39m]\n",
      "\u001b[0;31mKeyError\u001b[0m: 'mentor'"
     ]
    }
   ],
   "source": [
    "del d6[\"mentor\"]"
   ]
  },
  {
   "cell_type": "code",
   "execution_count": 17,
   "id": "e0e8fe01-43af-4cd0-8644-1f9be9ba1821",
   "metadata": {},
   "outputs": [
    {
     "data": {
      "text/plain": [
       "{'number': [3, 4, 6, 65, 67],\n",
       " 'launch_date': {12, 13, 28},\n",
       " 'class_time': {'web_dev': 8, 'data_science': 8, 'java with system design': 8}}"
      ]
     },
     "execution_count": 17,
     "metadata": {},
     "output_type": "execute_result"
    }
   ],
   "source": [
    "d6"
   ]
  },
  {
   "cell_type": "code",
   "execution_count": 18,
   "id": "e3183a36-1bb0-464e-bc80-6edf8bc48543",
   "metadata": {},
   "outputs": [
    {
     "data": {
      "text/plain": [
       "dict_keys(['number', 'launch_date', 'class_time'])"
      ]
     },
     "execution_count": 18,
     "metadata": {},
     "output_type": "execute_result"
    }
   ],
   "source": [
    "d6.keys()"
   ]
  },
  {
   "cell_type": "code",
   "execution_count": 5,
   "id": "7f365f0d-2471-4328-8076-f0d97dd6ddfa",
   "metadata": {},
   "outputs": [
    {
     "data": {
      "text/plain": [
       "dict_keys"
      ]
     },
     "execution_count": 5,
     "metadata": {},
     "output_type": "execute_result"
    }
   ],
   "source": [
    "type(d6.keys())"
   ]
  },
  {
   "cell_type": "code",
   "execution_count": 19,
   "id": "549fab77-ba73-4882-9e67-52eee7985de1",
   "metadata": {},
   "outputs": [
    {
     "data": {
      "text/plain": [
       "dict_values([[3, 4, 6, 65, 67], {12, 28, 13}, {'web_dev': 8, 'data_science': 8, 'java with system design': 8}])"
      ]
     },
     "execution_count": 19,
     "metadata": {},
     "output_type": "execute_result"
    }
   ],
   "source": [
    "d6.values()"
   ]
  },
  {
   "cell_type": "code",
   "execution_count": 20,
   "id": "0bf9bdc8-1794-4cec-b261-45350925d2be",
   "metadata": {},
   "outputs": [
    {
     "data": {
      "text/plain": [
       "[[3, 4, 6, 65, 67],\n",
       " {12, 13, 28},\n",
       " {'web_dev': 8, 'data_science': 8, 'java with system design': 8}]"
      ]
     },
     "execution_count": 20,
     "metadata": {},
     "output_type": "execute_result"
    }
   ],
   "source": [
    "list(d6.values())"
   ]
  },
  {
   "cell_type": "markdown",
   "id": "ad4eff6f-9e49-4868-80ee-a5aca9fa46b2",
   "metadata": {},
   "source": []
  },
  {
   "cell_type": "code",
   "execution_count": 21,
   "id": "3c4e1c57-271a-4105-8161-fb041d7e8eee",
   "metadata": {},
   "outputs": [
    {
     "data": {
      "text/plain": [
       "[('number', [3, 4, 6, 65, 67]),\n",
       " ('launch_date', {12, 13, 28}),\n",
       " ('class_time',\n",
       "  {'web_dev': 8, 'data_science': 8, 'java with system design': 8})]"
      ]
     },
     "execution_count": 21,
     "metadata": {},
     "output_type": "execute_result"
    }
   ],
   "source": [
    "list(d6.items())"
   ]
  },
  {
   "cell_type": "code",
   "execution_count": 25,
   "id": "be6a7721-3ad4-40d4-9dfe-d882409801d4",
   "metadata": {},
   "outputs": [
    {
     "ename": "TypeError",
     "evalue": "pop expected at least 1 argument, got 0",
     "output_type": "error",
     "traceback": [
      "\u001b[0;31m---------------------------------------------------------------------------\u001b[0m",
      "\u001b[0;31mTypeError\u001b[0m                                 Traceback (most recent call last)",
      "Cell \u001b[0;32mIn[25], line 1\u001b[0m\n\u001b[0;32m----> 1\u001b[0m \u001b[43md6\u001b[49m\u001b[38;5;241;43m.\u001b[39;49m\u001b[43mpop\u001b[49m\u001b[43m(\u001b[49m\u001b[43m)\u001b[49m\n",
      "\u001b[0;31mTypeError\u001b[0m: pop expected at least 1 argument, got 0"
     ]
    }
   ],
   "source": [
    "d6.pop()"
   ]
  },
  {
   "cell_type": "code",
   "execution_count": 26,
   "id": "45e6a2ca-5694-4224-82e3-6a2137124882",
   "metadata": {},
   "outputs": [
    {
     "data": {
      "text/plain": [
       "(1, 2, 4, 5, 6)"
      ]
     },
     "execution_count": 26,
     "metadata": {},
     "output_type": "execute_result"
    }
   ],
   "source": [
    "d6.pop(\"assignment\")"
   ]
  },
  {
   "cell_type": "code",
   "execution_count": 15,
   "id": "84c8e19e-4a01-4c2a-9718-e64d28a9d4d0",
   "metadata": {},
   "outputs": [
    {
     "data": {
      "text/plain": [
       "{'number': [3, 4, 6, 65, 67],\n",
       " 'launch_date': {12, 13, 28},\n",
       " 'class_time': {'web_dev': 8, 'data_science': 8, 'java with system design': 8}}"
      ]
     },
     "execution_count": 15,
     "metadata": {},
     "output_type": "execute_result"
    }
   ],
   "source": [
    "d6"
   ]
  },
  {
   "cell_type": "code",
   "execution_count": 60,
   "id": "fb43f367-be7c-4b02-b445-64a79e7634f2",
   "metadata": {},
   "outputs": [
    {
     "ename": "TypeError",
     "evalue": "pop expected at least 1 argument, got 0",
     "output_type": "error",
     "traceback": [
      "\u001b[0;31m---------------------------------------------------------------------------\u001b[0m",
      "\u001b[0;31mTypeError\u001b[0m                                 Traceback (most recent call last)",
      "Cell \u001b[0;32mIn[60], line 1\u001b[0m\n\u001b[0;32m----> 1\u001b[0m \u001b[43md6\u001b[49m\u001b[38;5;241;43m.\u001b[39;49m\u001b[43mpop\u001b[49m\u001b[43m(\u001b[49m\u001b[43m)\u001b[49m\n",
      "\u001b[0;31mTypeError\u001b[0m: pop expected at least 1 argument, got 0"
     ]
    }
   ],
   "source": [
    "d6.pop()"
   ]
  },
  {
   "cell_type": "code",
   "execution_count": 75,
   "id": "8aabc18c-0e1e-4049-9596-5ad40a23ff94",
   "metadata": {},
   "outputs": [
    {
     "name": "stdin",
     "output_type": "stream",
     "text": [
      "enter your marks 445\n"
     ]
    }
   ],
   "source": [
    "# marks = int(input(\"enter your marks\"))"
   ]
  },
  {
   "cell_type": "code",
   "execution_count": 78,
   "id": "19df6d8a-0c2a-47c1-a919-406ae9a9fe26",
   "metadata": {},
   "outputs": [
    {
     "name": "stdin",
     "output_type": "stream",
     "text": [
      "enter your marks 90\n"
     ]
    },
    {
     "name": "stdout",
     "output_type": "stream",
     "text": [
      "you will be a part of A0 batch\n"
     ]
    }
   ],
   "source": [
    "#marks=10\n",
    "marks = int(input(\"enter your marks\"))\n",
    "if marks >= 80 :\n",
    "    print(\"you will be a part of A0 batch\")\n",
    "elif marks >=60 and marks <= 80 :\n",
    "     print(\"you will be a part of A1 batch\")\n",
    "elif marks >=40 and marks <= 60 :\n",
    "     print(\"you will be a part of A2 batch\")\n",
    "else :\n",
    "     print(\"you will be a part of A3 batch\")\n"
   ]
  },
  {
   "cell_type": "code",
   "execution_count": 71,
   "id": "51246f7f-3fdf-4440-8421-ba99862ce5f4",
   "metadata": {},
   "outputs": [
    {
     "data": {
      "text/plain": [
       "False"
      ]
     },
     "execution_count": 71,
     "metadata": {},
     "output_type": "execute_result"
    }
   ],
   "source": [
    "10 >=80"
   ]
  },
  {
   "cell_type": "code",
   "execution_count": 79,
   "id": "079335b1-989b-44e4-ae26-4c41f441cac0",
   "metadata": {},
   "outputs": [
    {
     "data": {
      "text/plain": [
       "int"
      ]
     },
     "execution_count": 79,
     "metadata": {},
     "output_type": "execute_result"
    }
   ],
   "source": [
    "type(marks)"
   ]
  },
  {
   "cell_type": "code",
   "execution_count": 36,
   "id": "211d369b-ea27-4dd9-a383-e5387ef6045b",
   "metadata": {},
   "outputs": [
    {
     "name": "stdin",
     "output_type": "stream",
     "text": [
      "enter price 1500\n"
     ]
    },
    {
     "name": "stdout",
     "output_type": "stream",
     "text": [
      "i will not purchage\n",
      "its ok\n"
     ]
    }
   ],
   "source": [
    "price = int(input(\"enter price\"))\n",
    "if price > 1000 :\n",
    "    print(\"i will not purchage\")\n",
    "    if price > 5000 :\n",
    "        print(\"this is too much\")\n",
    "    elif price < 2000:\n",
    "        print(\"its ok\")\n",
    "elif price <1000:\n",
    "    print(\"i will purchase\")\n",
    "else :\n",
    "    print(\"not interested\")\n",
    "    if price > 5000 :\n",
    "        print(\"this is too much\")\n",
    "    elif price < 2000:\n",
    "        print(\"its ok\")\n",
    "    "
   ]
  },
  {
   "cell_type": "code",
   "execution_count": 49,
   "id": "495ac597-3f14-4cbb-a999-124411fd286b",
   "metadata": {},
   "outputs": [],
   "source": [
    "l = [1,2,3,4,5,6,7]"
   ]
  },
  {
   "cell_type": "code",
   "execution_count": 50,
   "id": "4e0537de-e89a-4bc5-9f32-ac4003f52ce6",
   "metadata": {},
   "outputs": [
    {
     "data": {
      "text/plain": [
       "2"
      ]
     },
     "execution_count": 50,
     "metadata": {},
     "output_type": "execute_result"
    }
   ],
   "source": [
    "l[0]+1"
   ]
  },
  {
   "cell_type": "code",
   "execution_count": 51,
   "id": "b6d982bd-4b43-47d0-b988-05212b1fbd34",
   "metadata": {},
   "outputs": [],
   "source": [
    "l1=[]"
   ]
  },
  {
   "cell_type": "code",
   "execution_count": 52,
   "id": "b7bfdd3a-84bb-470c-a2d3-bf0345c145a8",
   "metadata": {},
   "outputs": [],
   "source": [
    "l1.append(l[0]+1)"
   ]
  },
  {
   "cell_type": "code",
   "execution_count": 53,
   "id": "68d94d36-17d1-4748-81a8-7678809b4a81",
   "metadata": {},
   "outputs": [
    {
     "data": {
      "text/plain": [
       "[2]"
      ]
     },
     "execution_count": 53,
     "metadata": {},
     "output_type": "execute_result"
    }
   ],
   "source": [
    "l1"
   ]
  },
  {
   "cell_type": "code",
   "execution_count": 56,
   "id": "e2ad1a22-445d-452f-8205-e9915ea3b6ab",
   "metadata": {},
   "outputs": [
    {
     "name": "stdout",
     "output_type": "stream",
     "text": [
      "1\n",
      "2\n",
      "3\n",
      "4\n",
      "5\n",
      "6\n",
      "7\n"
     ]
    }
   ],
   "source": [
    "for i in l :\n",
    "    print(i)"
   ]
  },
  {
   "cell_type": "code",
   "execution_count": 57,
   "id": "95540578-4a91-4116-a106-b00f3b741186",
   "metadata": {},
   "outputs": [],
   "source": [
    "l1=[]\n",
    "for i in l :\n",
    "    l1.append(i+1)"
   ]
  },
  {
   "cell_type": "code",
   "execution_count": 58,
   "id": "2ca31d3a-54c6-4210-92ac-b1d2a429f31f",
   "metadata": {},
   "outputs": [
    {
     "data": {
      "text/plain": [
       "[2, 3, 4, 5, 6, 7, 8]"
      ]
     },
     "execution_count": 58,
     "metadata": {},
     "output_type": "execute_result"
    }
   ],
   "source": [
    "l1"
   ]
  },
  {
   "cell_type": "code",
   "execution_count": 59,
   "id": "fbdf7148-3a0c-41d2-95b9-bfe19c24b077",
   "metadata": {},
   "outputs": [],
   "source": [
    "l= [\"sudh\",\"kumar\",\"pwskills\",\"course\"]"
   ]
  },
  {
   "cell_type": "code",
   "execution_count": 60,
   "id": "b06fac30-aeee-4436-8d02-83978bed71f6",
   "metadata": {},
   "outputs": [
    {
     "data": {
      "text/plain": [
       "['sudh', 'kumar', 'pwskills', 'course']"
      ]
     },
     "execution_count": 60,
     "metadata": {},
     "output_type": "execute_result"
    }
   ],
   "source": [
    "l"
   ]
  },
  {
   "cell_type": "code",
   "execution_count": 63,
   "id": "837c8d11-8897-40a9-aa30-d20ac63e1cc3",
   "metadata": {},
   "outputs": [
    {
     "name": "stdout",
     "output_type": "stream",
     "text": [
      "sudh\n",
      "kumar\n",
      "pwskills\n",
      "course\n"
     ]
    }
   ],
   "source": [
    " for i in l:\n",
    "        print(i)\n",
    "        l1.append(i.upper())"
   ]
  },
  {
   "cell_type": "code",
   "execution_count": 65,
   "id": "1cb89ee4-5b24-4f3a-a192-a46f2d6c3794",
   "metadata": {},
   "outputs": [
    {
     "data": {
      "text/plain": [
       "[2, 3, 4, 5, 6, 7, 8, 'SUDH', 'KUMAR', 'PWSKILLS', 'COURSE']"
      ]
     },
     "execution_count": 65,
     "metadata": {},
     "output_type": "execute_result"
    }
   ],
   "source": [
    "l1"
   ]
  },
  {
   "cell_type": "code",
   "execution_count": 67,
   "id": "97c5a163-7e3b-426b-9f0b-8e28b54bfdae",
   "metadata": {},
   "outputs": [],
   "source": [
    "l=[1,2,3,4,\"sudh\",\"kumar\",34,56.67,'abc']"
   ]
  },
  {
   "cell_type": "code",
   "execution_count": 68,
   "id": "5eb35211-b51d-4ea0-9305-be543263cf62",
   "metadata": {},
   "outputs": [
    {
     "data": {
      "text/plain": [
       "[1, 2, 3, 4, 'sudh', 'kumar', 34, 56.67, 'abc']"
      ]
     },
     "execution_count": 68,
     "metadata": {},
     "output_type": "execute_result"
    }
   ],
   "source": [
    "l"
   ]
  },
  {
   "cell_type": "code",
   "execution_count": 81,
   "id": "381dad6b-9acb-4829-9bb5-de19483d6dc3",
   "metadata": {},
   "outputs": [],
   "source": [
    "l1=[]\n",
    "l2=[]\n",
    "for i in l :\n",
    "    if type(i) == str :\n",
    "        l2.append(i)\n",
    "    else :\n",
    "        l1.append(i)"
   ]
  },
  {
   "cell_type": "code",
   "execution_count": 82,
   "id": "35252014-1f79-4ef6-aea4-ff678a204c4c",
   "metadata": {},
   "outputs": [
    {
     "data": {
      "text/plain": [
       "[1, 2, 3, 4, 34, 56.67]"
      ]
     },
     "execution_count": 82,
     "metadata": {},
     "output_type": "execute_result"
    }
   ],
   "source": [
    "l1"
   ]
  },
  {
   "cell_type": "code",
   "execution_count": 83,
   "id": "a028acd3-ed23-45c1-82f6-ab2827faa0dd",
   "metadata": {},
   "outputs": [
    {
     "data": {
      "text/plain": [
       "['sudh', 'kumar', 'abc']"
      ]
     },
     "execution_count": 83,
     "metadata": {},
     "output_type": "execute_result"
    }
   ],
   "source": [
    "l2"
   ]
  },
  {
   "cell_type": "code",
   "execution_count": null,
   "id": "6b5dfd02-27b7-4f88-9a14-b93a6ac4a12e",
   "metadata": {},
   "outputs": [],
   "source": []
  },
  {
   "cell_type": "code",
   "execution_count": null,
   "id": "313d4208-6471-412e-b7c4-83a47067b8b5",
   "metadata": {},
   "outputs": [],
   "source": []
  }
 ],
 "metadata": {
  "kernelspec": {
   "display_name": "Python 3 (ipykernel)",
   "language": "python",
   "name": "python3"
  },
  "language_info": {
   "codemirror_mode": {
    "name": "ipython",
    "version": 3
   },
   "file_extension": ".py",
   "mimetype": "text/x-python",
   "name": "python",
   "nbconvert_exporter": "python",
   "pygments_lexer": "ipython3",
   "version": "3.10.8"
  }
 },
 "nbformat": 4,
 "nbformat_minor": 5
}
