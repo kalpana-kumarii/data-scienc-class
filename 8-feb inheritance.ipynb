{
 "cells": [
  {
   "cell_type": "code",
   "execution_count": null,
   "id": "4b7bd399-9a7b-4a93-a6d7-cd1882a7981c",
   "metadata": {},
   "outputs": [],
   "source": []
  },
  {
   "cell_type": "code",
   "execution_count": 9,
   "id": "b4119053-75d5-43e4-8e44-9a2553b2027a",
   "metadata": {},
   "outputs": [],
   "source": [
    "class parent:\n",
    "    def test_meth(self):\n",
    "        return \"this is my first class\""
   ]
  },
  {
   "cell_type": "code",
   "execution_count": 10,
   "id": "9e950fc0-9ef7-4362-9548-c18acdb27117",
   "metadata": {},
   "outputs": [],
   "source": [
    "class child_test(parent):\n",
    "    pass"
   ]
  },
  {
   "cell_type": "code",
   "execution_count": 11,
   "id": "2db6f06c-a781-4585-8aca-cb70fc816ff4",
   "metadata": {},
   "outputs": [],
   "source": [
    "child_test_obj=child_test()"
   ]
  },
  {
   "cell_type": "code",
   "execution_count": 12,
   "id": "1de6eadc-5954-4b00-bb18-d6a9fe5c0f67",
   "metadata": {},
   "outputs": [
    {
     "data": {
      "text/plain": [
       "'this is my first class'"
      ]
     },
     "execution_count": 12,
     "metadata": {},
     "output_type": "execute_result"
    }
   ],
   "source": [
    "child_test_obj.test_meth()"
   ]
  },
  {
   "cell_type": "code",
   "execution_count": 13,
   "id": "59451b1f-f4c4-4bbe-96e9-8da846cbe215",
   "metadata": {},
   "outputs": [],
   "source": [
    "class child_test2(child_test):\n",
    "    pass"
   ]
  },
  {
   "cell_type": "code",
   "execution_count": 14,
   "id": "1e36f1f6-e95c-4bf9-9b86-21450a7a72ca",
   "metadata": {},
   "outputs": [],
   "source": [
    "child_test2_obj=child_test2()"
   ]
  },
  {
   "cell_type": "code",
   "execution_count": 16,
   "id": "76fcba67-2c43-4396-b699-6d62b45035d8",
   "metadata": {},
   "outputs": [
    {
     "data": {
      "text/plain": [
       "'this is my first class'"
      ]
     },
     "execution_count": 16,
     "metadata": {},
     "output_type": "execute_result"
    }
   ],
   "source": [
    "child_test2_obj.test_meth()"
   ]
  },
  {
   "cell_type": "code",
   "execution_count": 40,
   "id": "b14823e3-ee7b-4c7e-9193-e06fe6ce3f6a",
   "metadata": {},
   "outputs": [],
   "source": [
    "\n",
    "\n",
    "# multilevel inheritance?\n",
    "class class1:\n",
    "    def test_class1(self):\n",
    "        return \"this is my first class1\""
   ]
  },
  {
   "cell_type": "code",
   "execution_count": 41,
   "id": "e61a9997-887d-44d5-9e48-d71da4ef0449",
   "metadata": {},
   "outputs": [],
   "source": [
    "class class2(class1):\n",
    "    def test_class2(self):\n",
    "       \n",
    "        return \"this is my class2\""
   ]
  },
  {
   "cell_type": "code",
   "execution_count": 42,
   "id": "0c4dd8af-7d64-48c2-9bce-78bbec59d835",
   "metadata": {},
   "outputs": [],
   "source": [
    "class class3(class2):\n",
    "    pass"
   ]
  },
  {
   "cell_type": "code",
   "execution_count": 43,
   "id": "fae43d07-1c13-4c8d-b988-0723695d640a",
   "metadata": {},
   "outputs": [],
   "source": [
    "obj_class3=class3()"
   ]
  },
  {
   "cell_type": "code",
   "execution_count": 44,
   "id": "9e7cd843-e4df-4f11-ac47-a757dc20d2d5",
   "metadata": {},
   "outputs": [
    {
     "data": {
      "text/plain": [
       "'this is my first class1'"
      ]
     },
     "execution_count": 44,
     "metadata": {},
     "output_type": "execute_result"
    }
   ],
   "source": [
    "obj_class3.test_class1()"
   ]
  },
  {
   "cell_type": "code",
   "execution_count": 45,
   "id": "627374b2-4124-4eb6-942f-bc0a0e3940ce",
   "metadata": {},
   "outputs": [
    {
     "data": {
      "text/plain": [
       "'this is my class2'"
      ]
     },
     "execution_count": 45,
     "metadata": {},
     "output_type": "execute_result"
    }
   ],
   "source": [
    "obj_class3.test_class2()"
   ]
  },
  {
   "cell_type": "code",
   "execution_count": 52,
   "id": "ea81d63f-26a2-4bfc-97e4-a0bf70fd255e",
   "metadata": {},
   "outputs": [],
   "source": [
    "#multiple inmheritance\n",
    "class class1:\n",
    "    def test_class1(self):\n",
    "        return \"this is a class 1\""
   ]
  },
  {
   "cell_type": "code",
   "execution_count": 53,
   "id": "02127a9f-41b1-4707-93ff-43f7d63fce08",
   "metadata": {},
   "outputs": [],
   "source": [
    "class class2:\n",
    "    def test_class2(slef):\n",
    "        return \"this is my class2\""
   ]
  },
  {
   "cell_type": "code",
   "execution_count": 54,
   "id": "7151523c-abd4-45e2-ad96-c0bb1924e6aa",
   "metadata": {},
   "outputs": [],
   "source": [
    "class class3(class1,class2):\n",
    "    pass"
   ]
  },
  {
   "cell_type": "code",
   "execution_count": 55,
   "id": "ba4637e8-8655-4462-af6a-c4d0af73f8df",
   "metadata": {},
   "outputs": [],
   "source": [
    "obj_cl3=class3()"
   ]
  },
  {
   "cell_type": "code",
   "execution_count": 56,
   "id": "a87b27fb-e1c3-40a3-8bc6-6f310a572f46",
   "metadata": {},
   "outputs": [
    {
     "data": {
      "text/plain": [
       "'this is a class 1'"
      ]
     },
     "execution_count": 56,
     "metadata": {},
     "output_type": "execute_result"
    }
   ],
   "source": [
    "obj_cl3.test_class1()"
   ]
  },
  {
   "cell_type": "code",
   "execution_count": 57,
   "id": "7b067ab4-831c-4361-af22-344a29a7ee7a",
   "metadata": {},
   "outputs": [
    {
     "data": {
      "text/plain": [
       "'this is my class2'"
      ]
     },
     "execution_count": 57,
     "metadata": {},
     "output_type": "execute_result"
    }
   ],
   "source": [
    "obj_cl3.test_class2()"
   ]
  },
  {
   "cell_type": "code",
   "execution_count": null,
   "id": "3d6bd6a1-cf99-4e3f-8dc0-90393a6fbfdd",
   "metadata": {},
   "outputs": [],
   "source": []
  }
 ],
 "metadata": {
  "kernelspec": {
   "display_name": "Python 3 (ipykernel)",
   "language": "python",
   "name": "python3"
  },
  "language_info": {
   "codemirror_mode": {
    "name": "ipython",
    "version": 3
   },
   "file_extension": ".py",
   "mimetype": "text/x-python",
   "name": "python",
   "nbconvert_exporter": "python",
   "pygments_lexer": "ipython3",
   "version": "3.10.8"
  }
 },
 "nbformat": 4,
 "nbformat_minor": 5
}
