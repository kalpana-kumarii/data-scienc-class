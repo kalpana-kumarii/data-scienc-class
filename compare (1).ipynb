{
 "cells": [
  {
   "cell_type": "code",
   "execution_count": 2,
   "id": "e09c32bc-7dce-45d1-9b51-5f4adf84fbc8",
   "metadata": {},
   "outputs": [],
   "source": [
    "l= [1,2,3,4,5]"
   ]
  },
  {
   "cell_type": "code",
   "execution_count": 3,
   "id": "cbfacfb6-9438-4bde-b8e0-bc2d596acd26",
   "metadata": {},
   "outputs": [],
   "source": [
    "l1=[]\n",
    "for i in l:\n",
    "    l1.append(i**2)"
   ]
  },
  {
   "cell_type": "code",
   "execution_count": 4,
   "id": "6e60889d-042e-4db2-895c-f5fdcae5480e",
   "metadata": {},
   "outputs": [
    {
     "data": {
      "text/plain": [
       "[1, 4, 9, 16, 25]"
      ]
     },
     "execution_count": 4,
     "metadata": {},
     "output_type": "execute_result"
    }
   ],
   "source": [
    "l1"
   ]
  },
  {
   "cell_type": "code",
   "execution_count": 5,
   "id": "e2861ba0-0585-4ba2-a4df-c9b748deba51",
   "metadata": {},
   "outputs": [
    {
     "data": {
      "text/plain": [
       "[1, 4, 9, 16, 25]"
      ]
     },
     "execution_count": 5,
     "metadata": {},
     "output_type": "execute_result"
    }
   ],
   "source": [
    "[i**2 for i in l]"
   ]
  },
  {
   "cell_type": "code",
   "execution_count": 6,
   "id": "97d833dd-62ca-4da0-ac7a-e84cface7131",
   "metadata": {},
   "outputs": [],
   "source": [
    "l3=[i**2 for i in l]"
   ]
  },
  {
   "cell_type": "code",
   "execution_count": 7,
   "id": "d70bae3b-3636-44df-a15b-42cf5dbb8403",
   "metadata": {},
   "outputs": [
    {
     "data": {
      "text/plain": [
       "[1, 4, 9, 16, 25]"
      ]
     },
     "execution_count": 7,
     "metadata": {},
     "output_type": "execute_result"
    }
   ],
   "source": [
    "l3"
   ]
  },
  {
   "cell_type": "code",
   "execution_count": 9,
   "id": "dcd53668-0663-4b35-8098-10287884b1a9",
   "metadata": {},
   "outputs": [
    {
     "data": {
      "text/plain": [
       "[2, 4]"
      ]
     },
     "execution_count": 9,
     "metadata": {},
     "output_type": "execute_result"
    }
   ],
   "source": [
    "[i for i in l if i%2 == 0]"
   ]
  },
  {
   "cell_type": "code",
   "execution_count": 10,
   "id": "bb6d5c41-16c4-4a52-868d-6843c53fb5a0",
   "metadata": {},
   "outputs": [],
   "source": [
    "l1=[\"sudh\",\"pwskills\",\"kuamr\",\"data science masters\"]"
   ]
  },
  {
   "cell_type": "code",
   "execution_count": 12,
   "id": "d764c8d5-2749-4462-a654-147d0aaf5ed7",
   "metadata": {},
   "outputs": [
    {
     "data": {
      "text/plain": [
       "['SUDH', 'PWSKILLS', 'KUAMR', 'DATA SCIENCE MASTERS']"
      ]
     },
     "execution_count": 12,
     "metadata": {},
     "output_type": "execute_result"
    }
   ],
   "source": [
    "[i.upper() for i in l1]"
   ]
  },
  {
   "cell_type": "code",
   "execution_count": 17,
   "id": "a2454a7b-1d5a-432b-848f-cc2082ea33ed",
   "metadata": {},
   "outputs": [
    {
     "data": {
      "text/plain": [
       "[1, 4, 9, 16, 25]"
      ]
     },
     "execution_count": 17,
     "metadata": {},
     "output_type": "execute_result"
    }
   ],
   "source": [
    "list((i**2 for i in l))"
   ]
  },
  {
   "cell_type": "code",
   "execution_count": 18,
   "id": "627aaee8-6afb-4222-9171-a4c3268ba907",
   "metadata": {},
   "outputs": [],
   "source": [
    "t=(1,2,3,4,56,6)"
   ]
  },
  {
   "cell_type": "code",
   "execution_count": 19,
   "id": "19fa1000-a50a-42ab-bd50-1b372d06ffee",
   "metadata": {},
   "outputs": [
    {
     "data": {
      "text/plain": [
       "[1, 4, 9, 16, 3136, 36]"
      ]
     },
     "execution_count": 19,
     "metadata": {},
     "output_type": "execute_result"
    }
   ],
   "source": [
    "list((i**2 for i in t))"
   ]
  },
  {
   "cell_type": "code",
   "execution_count": 20,
   "id": "7aafdfca-0fd3-4154-ae39-5ed8bff6d183",
   "metadata": {},
   "outputs": [],
   "source": [
    "d={\"key1\":1,\"key2\":2,\"key3\":3,\"key4\":4}"
   ]
  },
  {
   "cell_type": "code",
   "execution_count": 24,
   "id": "de98b9dc-57b2-4b05-ae1b-e8fd21c0b811",
   "metadata": {},
   "outputs": [
    {
     "data": {
      "text/plain": [
       "{'key1': 2, 'key2': 4, 'key3': 6, 'key4': 8}"
      ]
     },
     "execution_count": 24,
     "metadata": {},
     "output_type": "execute_result"
    }
   ],
   "source": [
    "{k:v*2 for k , v in d.items()}"
   ]
  },
  {
   "cell_type": "code",
   "execution_count": 22,
   "id": "b0ecbab2-ad08-40f5-8074-96f774c5c01b",
   "metadata": {},
   "outputs": [
    {
     "data": {
      "text/plain": [
       "dict_items([('key1', 1), ('key2', 2), ('key3', 3), ('key4', 4)])"
      ]
     },
     "execution_count": 22,
     "metadata": {},
     "output_type": "execute_result"
    }
   ],
   "source": [
    "d.items()"
   ]
  },
  {
   "cell_type": "code",
   "execution_count": 25,
   "id": "a801e642-240a-44b9-a78a-2adf4f0d64f8",
   "metadata": {},
   "outputs": [
    {
     "data": {
      "text/plain": [
       "{'key1': 1, 'key2': 2, 'key3': 3, 'key4': 4}"
      ]
     },
     "execution_count": 25,
     "metadata": {},
     "output_type": "execute_result"
    }
   ],
   "source": [
    "d"
   ]
  },
  {
   "cell_type": "code",
   "execution_count": 26,
   "id": "908fdd4b-9fc5-4a37-bf27-57ea204702a3",
   "metadata": {},
   "outputs": [
    {
     "data": {
      "text/plain": [
       "{'key2': 2, 'key3': 3, 'key4': 4}"
      ]
     },
     "execution_count": 26,
     "metadata": {},
     "output_type": "execute_result"
    }
   ],
   "source": [
    "{k:v for k,v in d.items() if v>1} "
   ]
  },
  {
   "cell_type": "code",
   "execution_count": null,
   "id": "333ca174-78ae-45bd-90b8-705fe8915c79",
   "metadata": {},
   "outputs": [],
   "source": []
  }
 ],
 "metadata": {
  "kernelspec": {
   "display_name": "Python 3 (ipykernel)",
   "language": "python",
   "name": "python3"
  },
  "language_info": {
   "codemirror_mode": {
    "name": "ipython",
    "version": 3
   },
   "file_extension": ".py",
   "mimetype": "text/x-python",
   "name": "python",
   "nbconvert_exporter": "python",
   "pygments_lexer": "ipython3",
   "version": "3.10.8"
  }
 },
 "nbformat": 4,
 "nbformat_minor": 5
}
