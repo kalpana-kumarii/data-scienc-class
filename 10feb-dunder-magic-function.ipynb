{
 "cells": [
  {
   "cell_type": "code",
   "execution_count": 5,
   "id": "36f48396-7444-46ed-9f13-374c6d4072d5",
   "metadata": {},
   "outputs": [],
   "source": [
    "a=100"
   ]
  },
  {
   "cell_type": "code",
   "execution_count": 6,
   "id": "1a83be98-a245-4c38-9b0b-40e80315aa16",
   "metadata": {},
   "outputs": [
    {
     "data": {
      "text/plain": [
       "107"
      ]
     },
     "execution_count": 6,
     "metadata": {},
     "output_type": "execute_result"
    }
   ],
   "source": [
    "a+7"
   ]
  },
  {
   "cell_type": "code",
   "execution_count": 10,
   "id": "bdf69e54-f9a3-4757-97c8-567d5007fcf5",
   "metadata": {},
   "outputs": [
    {
     "data": {
      "text/plain": [
       "106"
      ]
     },
     "execution_count": 10,
     "metadata": {},
     "output_type": "execute_result"
    }
   ],
   "source": [
    "\n",
    "#dunder/magic mathod\n",
    "a.__add__(6)"
   ]
  },
  {
   "cell_type": "code",
   "execution_count": 8,
   "id": "c785f741-f1ff-49d2-9c91-b952fcb2019a",
   "metadata": {},
   "outputs": [],
   "source": [
    "# dir(int)"
   ]
  },
  {
   "cell_type": "code",
   "execution_count": 9,
   "id": "e5f7fa8a-400f-4bb6-bb54-87281239d349",
   "metadata": {},
   "outputs": [],
   "source": [
    "#dir(str)"
   ]
  },
  {
   "cell_type": "code",
   "execution_count": 47,
   "id": "54103b73-1c25-4b0b-adc9-4746f0d9d1d0",
   "metadata": {},
   "outputs": [],
   "source": [
    "class pwskills:\n",
    "    def __new__(cls):\n",
    "        print(\"this is my new\")\n",
    "        \n",
    "    def __init__(self):\n",
    "        print(\"this is my init\")        \n",
    "        self.mobile_num=92874598756\n",
    "        "
   ]
  },
  {
   "cell_type": "code",
   "execution_count": 48,
   "id": "65e02137-98f6-4bcf-be70-94a7f74b1c59",
   "metadata": {},
   "outputs": [
    {
     "name": "stdout",
     "output_type": "stream",
     "text": [
      "this is my new\n"
     ]
    }
   ],
   "source": [
    "pw=pwskills()"
   ]
  },
  {
   "cell_type": "code",
   "execution_count": 46,
   "id": "2f779fec-adc6-4d75-8c47-607d567eed29",
   "metadata": {},
   "outputs": [
    {
     "data": {
      "text/plain": [
       "92874598756"
      ]
     },
     "execution_count": 46,
     "metadata": {},
     "output_type": "execute_result"
    }
   ],
   "source": [
    "pw.mobile_num"
   ]
  },
  {
   "cell_type": "code",
   "execution_count": 57,
   "id": "1a28d395-89f4-4981-bcaa-407c649571d2",
   "metadata": {},
   "outputs": [],
   "source": [
    "class pwskills1:\n",
    "#     def __new__(cls):\n",
    "#         print(\"this is my new\")\n",
    "        \n",
    "    def __init__(self):\n",
    "        print(\"this is my init\")        \n",
    "        self.mobile_num=92874598756\n",
    "    \n",
    "    def __str__(self):\n",
    "        return \"this is my magic call of str\""
   ]
  },
  {
   "cell_type": "code",
   "execution_count": 58,
   "id": "bf266071-c95c-4c73-a718-bdc9398b5b56",
   "metadata": {},
   "outputs": [
    {
     "name": "stdout",
     "output_type": "stream",
     "text": [
      "this is my init\n"
     ]
    }
   ],
   "source": [
    "pw1=pwskills1()"
   ]
  },
  {
   "cell_type": "code",
   "execution_count": 59,
   "id": "389fdaf3-6f53-436f-a659-9ee1dbce89bb",
   "metadata": {},
   "outputs": [
    {
     "data": {
      "text/plain": [
       "92874598756"
      ]
     },
     "execution_count": 59,
     "metadata": {},
     "output_type": "execute_result"
    }
   ],
   "source": [
    "pw1.mobile_num"
   ]
  },
  {
   "cell_type": "code",
   "execution_count": 60,
   "id": "bec7fb8f-d39f-411f-9593-4fd8dcd1ee93",
   "metadata": {},
   "outputs": [
    {
     "data": {
      "text/plain": [
       "<__main__.pwskills1 at 0x7f2f30769c30>"
      ]
     },
     "execution_count": 60,
     "metadata": {},
     "output_type": "execute_result"
    }
   ],
   "source": [
    "pw1"
   ]
  },
  {
   "cell_type": "code",
   "execution_count": 61,
   "id": "ae2358c3-f136-4283-b030-1781b9bdbd61",
   "metadata": {},
   "outputs": [
    {
     "name": "stdout",
     "output_type": "stream",
     "text": [
      "this is my magic call of str\n"
     ]
    }
   ],
   "source": [
    "print(pw1)"
   ]
  },
  {
   "cell_type": "code",
   "execution_count": null,
   "id": "536a3531-f412-415f-9f50-971792d65e69",
   "metadata": {},
   "outputs": [],
   "source": []
  }
 ],
 "metadata": {
  "kernelspec": {
   "display_name": "Python 3 (ipykernel)",
   "language": "python",
   "name": "python3"
  },
  "language_info": {
   "codemirror_mode": {
    "name": "ipython",
    "version": 3
   },
   "file_extension": ".py",
   "mimetype": "text/x-python",
   "name": "python",
   "nbconvert_exporter": "python",
   "pygments_lexer": "ipython3",
   "version": "3.10.8"
  }
 },
 "nbformat": 4,
 "nbformat_minor": 5
}
