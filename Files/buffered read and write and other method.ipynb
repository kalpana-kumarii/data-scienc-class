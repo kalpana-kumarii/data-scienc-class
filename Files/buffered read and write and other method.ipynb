{
 "cells": [
  {
   "cell_type": "code",
   "execution_count": null,
   "id": "c1171b1d-0375-44ad-b076-de535b835342",
   "metadata": {},
   "outputs": [],
   "source": [
    "#when we Buffer for read and write operation,  divide a large file into chunks then write to file."
   ]
  },
  {
   "cell_type": "code",
   "execution_count": 1,
   "id": "ec7c8720-f0a5-4b86-8aad-2a1f2a9778b5",
   "metadata": {},
   "outputs": [],
   "source": [
    "import io"
   ]
  },
  {
   "cell_type": "code",
   "execution_count": 4,
   "id": "19b068bb-26f8-4396-8191-3dad48270505",
   "metadata": {},
   "outputs": [],
   "source": [
    "\n",
    "with open(\"test1.txt\",\"wb\") as f:\n",
    "    file= io.BufferedWriter(f)\n",
    "    \n",
    "    file.write(b\"Java is a class-based, object-oriented programming language that is designed to have as few implementation dependencies as possible. It is intended to let application developers write once, and run anywhere (WORA), meaning that compiled Java code can run on all platforms that support Java without the need for recompilation. Java was first released in 1995 and is widely used for developing applications for desktop, web, and mobile devices. Java is known for its simplicity, robustness, and security features, making it a popular choice for enterprise-level applications.\\n\")\n",
    "    file.write(b\"this is my second line\\n\")\n",
    "    file.flush()"
   ]
  },
  {
   "cell_type": "code",
   "execution_count": 6,
   "id": "37311d90-9b60-4d89-9107-0a021cfe1b7b",
   "metadata": {},
   "outputs": [
    {
     "name": "stdout",
     "output_type": "stream",
     "text": [
      "b'Java is a class-based, object-oriented programming language that is designed to have as few implementation dependencies as possible. It is intended to let application developers write once, and run anywhere (WORA), meaning that compiled Java code can run on all platforms that support Java without the need for recompilation. Java was first released in 1995 and is widely used for developing applications for desktop, web, and mobile devices. Java is known for its simplicity, robustness, and security features, making it a popular choice for enterprise-level applications.\\nthis is my second line\\n'\n"
     ]
    }
   ],
   "source": [
    "with open(\"test1.txt\",\"rb\") as f:\n",
    "    file=io.BufferedReader(f)\n",
    "    \n",
    "    print(file.read())"
   ]
  },
  {
   "cell_type": "code",
   "execution_count": 7,
   "id": "7f5b5e89-59fc-4fe4-999e-19799d7820d7",
   "metadata": {},
   "outputs": [
    {
     "name": "stdout",
     "output_type": "stream",
     "text": [
      "b'Java is a class-based, object-oriented programming language that is designed to have as few implemen'\n"
     ]
    }
   ],
   "source": [
    "with open(\"test1.txt\",\"rb\") as f:\n",
    "    file=io.BufferedReader(f)\n",
    "    \n",
    "    print(file.read(100)) #100 byte size"
   ]
  },
  {
   "cell_type": "code",
   "execution_count": null,
   "id": "feb63306-b31e-40b6-a42d-a73536598067",
   "metadata": {},
   "outputs": [],
   "source": []
  }
 ],
 "metadata": {
  "kernelspec": {
   "display_name": "Python 3 (ipykernel)",
   "language": "python",
   "name": "python3"
  },
  "language_info": {
   "codemirror_mode": {
    "name": "ipython",
    "version": 3
   },
   "file_extension": ".py",
   "mimetype": "text/x-python",
   "name": "python",
   "nbconvert_exporter": "python",
   "pygments_lexer": "ipython3",
   "version": "3.10.8"
  }
 },
 "nbformat": 4,
 "nbformat_minor": 5
}
