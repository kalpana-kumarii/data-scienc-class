{
 "cells": [
  {
   "cell_type": "code",
   "execution_count": 9,
   "id": "32907c44-4b2f-4677-814c-95fb0f8116a9",
   "metadata": {},
   "outputs": [
    {
     "name": "stdout",
     "output_type": "stream",
     "text": [
      "this is my print\n"
     ]
    }
   ],
   "source": [
    "print(\"this is my print\")"
   ]
  },
  {
   "cell_type": "code",
   "execution_count": 10,
   "id": "e5a0a167-779f-41c9-b414-92993564a1e1",
   "metadata": {},
   "outputs": [],
   "source": [
    "import logging"
   ]
  },
  {
   "cell_type": "code",
   "execution_count": 11,
   "id": "face12fd-31d5-4553-8125-cb0d45b94945",
   "metadata": {},
   "outputs": [],
   "source": [
    "logging.basicConfig(filename=\"test.log\", level=logging.INFO)"
   ]
  },
  {
   "cell_type": "code",
   "execution_count": 12,
   "id": "2a54e29e-50a5-4fd0-a496-a09a6958b50f",
   "metadata": {},
   "outputs": [],
   "source": [
    "logging.info(\"log this line of execution\")"
   ]
  },
  {
   "cell_type": "code",
   "execution_count": 13,
   "id": "ee3d7de4-29a8-4fca-b699-842b573cb9b7",
   "metadata": {},
   "outputs": [],
   "source": [
    "logging.info(\"this is my print\")"
   ]
  },
  {
   "cell_type": "code",
   "execution_count": 14,
   "id": "4c1f676f-c34b-4a7e-88d9-e43b8204bbf2",
   "metadata": {},
   "outputs": [],
   "source": [
    "# LOGGING LEVEL\n",
    "# 1. NOTSET\n",
    "# 2. DEBUG\n",
    "# 3. INFO\n",
    "# 4. WARNING\n",
    "# 5. ERROR \n",
    "# 6. CRTICAL"
   ]
  },
  {
   "cell_type": "code",
   "execution_count": 18,
   "id": "d70aa111-7613-4ede-8a2e-be72ba980f8a",
   "metadata": {},
   "outputs": [],
   "source": [
    "logging.debug(\"this is my debug\")"
   ]
  },
  {
   "cell_type": "code",
   "execution_count": 19,
   "id": "83fa036a-9d03-4ee2-aaa8-c79a16eb494f",
   "metadata": {},
   "outputs": [],
   "source": [
    "logging.warning(\"this is my warning msg\")"
   ]
  },
  {
   "cell_type": "code",
   "execution_count": 20,
   "id": "47b26809-3e64-49e0-86b6-fff96012ba66",
   "metadata": {},
   "outputs": [],
   "source": [
    "logging.error(\"this is my error\")"
   ]
  },
  {
   "cell_type": "code",
   "execution_count": 21,
   "id": "9c6b3688-8ead-4bb3-872d-2f71f14ce01d",
   "metadata": {},
   "outputs": [],
   "source": [
    "logging.critical(\"this is my critical msg\")"
   ]
  },
  {
   "cell_type": "code",
   "execution_count": 26,
   "id": "db5f2475-4370-46a4-afce-56a7af2223cc",
   "metadata": {},
   "outputs": [],
   "source": [
    "logging.shutdown()"
   ]
  },
  {
   "cell_type": "code",
   "execution_count": 1,
   "id": "35afa54f-562a-408b-8629-31a4b8280285",
   "metadata": {},
   "outputs": [],
   "source": [
    "import logging"
   ]
  },
  {
   "cell_type": "code",
   "execution_count": 2,
   "id": "6969ecd4-d996-4047-80fb-cb266679d64e",
   "metadata": {},
   "outputs": [],
   "source": [
    "logging.basicConfig(filename=\"test1.log\", level=logging.DEBUG , format='%(asctime)s %(message)s')"
   ]
  },
  {
   "cell_type": "code",
   "execution_count": 3,
   "id": "e5410d79-d543-4bda-9448-397624d3a0e8",
   "metadata": {},
   "outputs": [],
   "source": [
    "logging.info(\"this is my info logging\")\n",
    "logging.error(\"this is my error msg\")\n",
    "logging.critical(\"this is my critical\")"
   ]
  },
  {
   "cell_type": "code",
   "execution_count": 4,
   "id": "b65f1b06-acfd-4918-8987-b3eed2541f67",
   "metadata": {},
   "outputs": [],
   "source": [
    "logging.shutdown()"
   ]
  },
  {
   "cell_type": "code",
   "execution_count": 1,
   "id": "a0de3b82-5f8d-47b0-90db-ef5e660f69fa",
   "metadata": {},
   "outputs": [],
   "source": [
    "import logging"
   ]
  },
  {
   "cell_type": "code",
   "execution_count": 2,
   "id": "9e6139c4-c454-4a1f-871a-b1aaa8012933",
   "metadata": {},
   "outputs": [],
   "source": [
    "logging.basicConfig(filename=\"test2.log\", level=logging.DEBUG,format='%(asctime)s %(name)s %(levelname)s %(message)s',  )"
   ]
  },
  {
   "cell_type": "code",
   "execution_count": 3,
   "id": "3a57b3af-48f4-4f35-afa9-75b810ed6ce9",
   "metadata": {},
   "outputs": [],
   "source": [
    "logging.info(\"this is my info logging\")\n",
    "logging.error(\"this is my error msg\")\n",
    "logging.critical(\"this is my critical\")"
   ]
  },
  {
   "cell_type": "code",
   "execution_count": 4,
   "id": "a0c3c816-3d7e-47d8-a5b2-a72c45d3a1c2",
   "metadata": {},
   "outputs": [],
   "source": [
    "l=[1,2,3,4,5,7,[2,3,4],\"sudh\",\"kumar\"]"
   ]
  },
  {
   "cell_type": "code",
   "execution_count": 9,
   "id": "d76dd450-554d-4993-913f-27e47a6fcc6f",
   "metadata": {},
   "outputs": [],
   "source": [
    "l1_int=[]\n",
    "l2_str=[]\n",
    "for i in l:\n",
    "    logging.info(\"we are iterating through our list and our local variable as i {}\".format(l))\n",
    "    if type(i)==list:\n",
    "        logging.info(\"i am inside if statement and i am trying to check list type\"+str(i))\n",
    "        for j in i:\n",
    "            logging.info(\"i am in another for loop list inside list element\"+str(i))\n",
    "            if type(j)== int:\n",
    "                logging.info(\"i am inside if statement\")\n",
    "                l1_int.append(j)\n",
    "    elif type(i)==int:\n",
    "        l1_int.append(i)\n",
    "    else:\n",
    "        if type(i)==str:\n",
    "            l2_str.append(i)\n",
    "        \n",
    "logging.info(\"my final result for int is {l1} and str is {l2}\".format(l1=l1_int, l2=l2_str))        "
   ]
  },
  {
   "cell_type": "code",
   "execution_count": 10,
   "id": "0674c0af-0951-4800-a1b9-9b1b4ffede7b",
   "metadata": {},
   "outputs": [
    {
     "data": {
      "text/plain": [
       "[1, 2, 3, 4, 5, 7, 2, 3, 4]"
      ]
     },
     "execution_count": 10,
     "metadata": {},
     "output_type": "execute_result"
    }
   ],
   "source": [
    "l1_int"
   ]
  },
  {
   "cell_type": "code",
   "execution_count": 11,
   "id": "3911698a-17ec-4e31-87a7-cf432bb1d9da",
   "metadata": {},
   "outputs": [
    {
     "data": {
      "text/plain": [
       "['sudh', 'kumar']"
      ]
     },
     "execution_count": 11,
     "metadata": {},
     "output_type": "execute_result"
    }
   ],
   "source": [
    "l2_str"
   ]
  },
  {
   "cell_type": "code",
   "execution_count": null,
   "id": "b5843a12-5da7-422c-8512-d7b41c54863f",
   "metadata": {},
   "outputs": [],
   "source": []
  }
 ],
 "metadata": {
  "kernelspec": {
   "display_name": "Python 3 (ipykernel)",
   "language": "python",
   "name": "python3"
  },
  "language_info": {
   "codemirror_mode": {
    "name": "ipython",
    "version": 3
   },
   "file_extension": ".py",
   "mimetype": "text/x-python",
   "name": "python",
   "nbconvert_exporter": "python",
   "pygments_lexer": "ipython3",
   "version": "3.10.8"
  }
 },
 "nbformat": 4,
 "nbformat_minor": 5
}
