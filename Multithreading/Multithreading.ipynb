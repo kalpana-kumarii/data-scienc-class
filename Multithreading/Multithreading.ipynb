{
 "cells": [
  {
   "cell_type": "code",
   "execution_count": 1,
   "id": "8a7a5dcc-5462-400f-a669-df6723a6e800",
   "metadata": {},
   "outputs": [],
   "source": [
    "import threading"
   ]
  },
  {
   "cell_type": "code",
   "execution_count": 2,
   "id": "26176cc7-921c-40b9-abd7-17a8ee7e3126",
   "metadata": {},
   "outputs": [],
   "source": [
    "def test(id):\n",
    "    print(\"program starts %d\"% id)"
   ]
  },
  {
   "cell_type": "code",
   "execution_count": 3,
   "id": "656fe1b8-4746-4ed4-8b6c-d4932ac038d6",
   "metadata": {},
   "outputs": [
    {
     "name": "stdout",
     "output_type": "stream",
     "text": [
      "program starts 45\n"
     ]
    }
   ],
   "source": [
    "test(45)"
   ]
  },
  {
   "cell_type": "code",
   "execution_count": 4,
   "id": "46294b9f-86f4-4ffa-9591-d3b0f7a2a498",
   "metadata": {},
   "outputs": [],
   "source": [
    "thread= [threading.Thread(target=test, args=(i,)) for i in range(10)]"
   ]
  },
  {
   "cell_type": "code",
   "execution_count": 5,
   "id": "a5d96fa8-97ac-4a94-9596-0084ccaa9cac",
   "metadata": {},
   "outputs": [
    {
     "data": {
      "text/plain": [
       "[<Thread(Thread-5 (test), initial)>,\n",
       " <Thread(Thread-6 (test), initial)>,\n",
       " <Thread(Thread-7 (test), initial)>,\n",
       " <Thread(Thread-8 (test), initial)>,\n",
       " <Thread(Thread-9 (test), initial)>,\n",
       " <Thread(Thread-10 (test), initial)>,\n",
       " <Thread(Thread-11 (test), initial)>,\n",
       " <Thread(Thread-12 (test), initial)>,\n",
       " <Thread(Thread-13 (test), initial)>,\n",
       " <Thread(Thread-14 (test), initial)>]"
      ]
     },
     "execution_count": 5,
     "metadata": {},
     "output_type": "execute_result"
    }
   ],
   "source": [
    "thread"
   ]
  },
  {
   "cell_type": "code",
   "execution_count": 6,
   "id": "783fcb5e-a1ae-4535-97c5-6f8cc2533f6e",
   "metadata": {},
   "outputs": [
    {
     "name": "stdout",
     "output_type": "stream",
     "text": [
      "program starts 0\n",
      "program starts 1\n",
      "program starts 2\n",
      "program starts 3\n",
      "program starts 4\n",
      "program starts 5\n",
      "program starts 6\n",
      "program starts 7\n",
      "program starts 8\n",
      "program starts 9\n"
     ]
    }
   ],
   "source": [
    "for t in thread :\n",
    "    t.start()"
   ]
  },
  {
   "cell_type": "code",
   "execution_count": 7,
   "id": "8e3c1206-01e2-4571-9550-6c8a22d56af2",
   "metadata": {},
   "outputs": [
    {
     "data": {
      "text/plain": [
       "[<Thread(Thread-5 (test), stopped 140272784614976)>,\n",
       " <Thread(Thread-6 (test), stopped 140272784614976)>,\n",
       " <Thread(Thread-7 (test), stopped 140272784614976)>,\n",
       " <Thread(Thread-8 (test), stopped 140272784614976)>,\n",
       " <Thread(Thread-9 (test), stopped 140272784614976)>,\n",
       " <Thread(Thread-10 (test), stopped 140272784614976)>,\n",
       " <Thread(Thread-11 (test), stopped 140272784614976)>,\n",
       " <Thread(Thread-12 (test), stopped 140272784614976)>,\n",
       " <Thread(Thread-13 (test), stopped 140272784614976)>,\n",
       " <Thread(Thread-14 (test), stopped 140272784614976)>]"
      ]
     },
     "execution_count": 7,
     "metadata": {},
     "output_type": "execute_result"
    }
   ],
   "source": [
    "thread"
   ]
  },
  {
   "cell_type": "code",
   "execution_count": 8,
   "id": "1e0a9277-b2a5-4a5b-8fef-128d05e1fbc9",
   "metadata": {},
   "outputs": [
    {
     "data": {
      "text/plain": [
       "140273035223424"
      ]
     },
     "execution_count": 8,
     "metadata": {},
     "output_type": "execute_result"
    }
   ],
   "source": [
    "id(thread)"
   ]
  },
  {
   "cell_type": "code",
   "execution_count": 9,
   "id": "a5bdb7ac-f223-416b-83e0-82b98b722e1d",
   "metadata": {},
   "outputs": [],
   "source": [
    "import threading\n",
    "import urllib.request\n",
    "\n",
    "def file_download(url, filename) :\n",
    "    urllib.request.urlretrieve(url, filename)"
   ]
  },
  {
   "cell_type": "code",
   "execution_count": 10,
   "id": "7bc0d790-08cd-4fed-b5af-c72e3143a3fe",
   "metadata": {},
   "outputs": [],
   "source": [
    "file_download(\"https://github.com/kalpana-kumarii/data-scienc-class/blob/main/5-feb%20oops1.ipynb\",\"test.txt\")"
   ]
  },
  {
   "cell_type": "code",
   "execution_count": 11,
   "id": "1bf9a2e4-62cd-4b59-aa83-2f601c464907",
   "metadata": {},
   "outputs": [],
   "source": [
    "url_list=[\"https://github.com/kalpana-kumarii/jobready-bootcamp-solution/blob/main/assignment%20c%20programming/assignment20/q.txt\",\"https://github.com/kalpana-kumarii/jobready-bootcamp-solution/blob/main/assignment%20c%20programming/assignment9/q.txt\",\"https://github.com/kalpana-kumarii/jobready-bootcamp-solution/blob/main/assignment%20c%20programming/assignment17/q.txt\"]"
   ]
  },
  {
   "cell_type": "code",
   "execution_count": 12,
   "id": "91e31f89-38d5-4571-9c00-489f6668a3a8",
   "metadata": {},
   "outputs": [
    {
     "data": {
      "text/plain": [
       "['https://github.com/kalpana-kumarii/jobready-bootcamp-solution/blob/main/assignment%20c%20programming/assignment20/q.txt',\n",
       " 'https://github.com/kalpana-kumarii/jobready-bootcamp-solution/blob/main/assignment%20c%20programming/assignment9/q.txt',\n",
       " 'https://github.com/kalpana-kumarii/jobready-bootcamp-solution/blob/main/assignment%20c%20programming/assignment17/q.txt']"
      ]
     },
     "execution_count": 12,
     "metadata": {},
     "output_type": "execute_result"
    }
   ],
   "source": [
    "url_list"
   ]
  },
  {
   "cell_type": "code",
   "execution_count": 13,
   "id": "35d9aa07-e521-4bf2-9302-2a301b080ba0",
   "metadata": {},
   "outputs": [],
   "source": [
    "file_name_list=[\"data1.txt\",\"data2.txt\",\"data3.txt\"]"
   ]
  },
  {
   "cell_type": "code",
   "execution_count": 14,
   "id": "819130be-cdf9-4680-820a-7e257c53a342",
   "metadata": {},
   "outputs": [
    {
     "data": {
      "text/plain": [
       "['data1.txt', 'data2.txt', 'data3.txt']"
      ]
     },
     "execution_count": 14,
     "metadata": {},
     "output_type": "execute_result"
    }
   ],
   "source": [
    "file_name_list"
   ]
  },
  {
   "cell_type": "code",
   "execution_count": 15,
   "id": "534c9108-4231-4816-8afb-3a298a125bf4",
   "metadata": {},
   "outputs": [],
   "source": [
    "th=[threading.Thread(target=file_download, args=(url_list[i],file_name_list[i])) for i in range(len(url_list))]"
   ]
  },
  {
   "cell_type": "code",
   "execution_count": 16,
   "id": "2bd16d8b-cbfe-463d-93e0-8e77d998de09",
   "metadata": {},
   "outputs": [
    {
     "data": {
      "text/plain": [
       "[<Thread(Thread-15 (file_download), initial)>,\n",
       " <Thread(Thread-16 (file_download), initial)>,\n",
       " <Thread(Thread-17 (file_download), initial)>]"
      ]
     },
     "execution_count": 16,
     "metadata": {},
     "output_type": "execute_result"
    }
   ],
   "source": [
    "th"
   ]
  },
  {
   "cell_type": "code",
   "execution_count": 17,
   "id": "86250424-5a0c-45e5-86f0-393e71c3a034",
   "metadata": {},
   "outputs": [],
   "source": [
    "for t in th:\n",
    "    t.start()"
   ]
  },
  {
   "cell_type": "code",
   "execution_count": 18,
   "id": "13aec2b9-6493-4823-9fc1-7caf3fd7f2a8",
   "metadata": {},
   "outputs": [
    {
     "data": {
      "text/plain": [
       "[<Thread(Thread-15 (file_download), started 140272784614976)>,\n",
       " <Thread(Thread-16 (file_download), started 140272776222272)>,\n",
       " <Thread(Thread-17 (file_download), started 140272222598720)>]"
      ]
     },
     "execution_count": 18,
     "metadata": {},
     "output_type": "execute_result"
    }
   ],
   "source": [
    "th"
   ]
  },
  {
   "cell_type": "code",
   "execution_count": 19,
   "id": "cc1ae429-959f-4e08-9c67-dbf55110f17f",
   "metadata": {},
   "outputs": [],
   "source": [
    "import time"
   ]
  },
  {
   "cell_type": "code",
   "execution_count": 20,
   "id": "3622f813-204c-4931-8baf-9f41533afae3",
   "metadata": {},
   "outputs": [],
   "source": [
    "def test1(id):\n",
    "    for i in range(10):\n",
    "        print(\"test1 %d printing %d time= %s\" %(id,i,time.ctime()))\n",
    "        time.sleep(1)"
   ]
  },
  {
   "cell_type": "code",
   "execution_count": 21,
   "id": "acf73039-9711-436d-a7c2-001e413a869a",
   "metadata": {},
   "outputs": [
    {
     "name": "stdout",
     "output_type": "stream",
     "text": [
      "test1 1 printing 0 time= Sun Feb 26 16:39:40 2023\n",
      "test1 1 printing 1 time= Sun Feb 26 16:39:41 2023\n",
      "test1 1 printing 2 time= Sun Feb 26 16:39:42 2023\n",
      "test1 1 printing 3 time= Sun Feb 26 16:39:43 2023\n",
      "test1 1 printing 4 time= Sun Feb 26 16:39:44 2023\n",
      "test1 1 printing 5 time= Sun Feb 26 16:39:45 2023\n",
      "test1 1 printing 6 time= Sun Feb 26 16:39:46 2023\n",
      "test1 1 printing 7 time= Sun Feb 26 16:39:47 2023\n",
      "test1 1 printing 8 time= Sun Feb 26 16:39:48 2023\n",
      "test1 1 printing 9 time= Sun Feb 26 16:39:49 2023\n"
     ]
    }
   ],
   "source": [
    "test1(1)"
   ]
  },
  {
   "cell_type": "code",
   "execution_count": 22,
   "id": "5df16e75-4a35-464f-920c-e6f254be3448",
   "metadata": {},
   "outputs": [],
   "source": [
    "timeThread=[threading.Thread(target=test1, args= (i,)) for i in range(3)]"
   ]
  },
  {
   "cell_type": "code",
   "execution_count": 23,
   "id": "46a1b90e-ee92-4246-bf19-7edef56563d9",
   "metadata": {},
   "outputs": [
    {
     "name": "stdout",
     "output_type": "stream",
     "text": [
      "test1 0 printing 0 time= Sun Feb 26 16:39:50 2023test1 1 printing 0 time= Sun Feb 26 16:39:50 2023\n",
      "\n",
      "test1 2 printing 0 time= Sun Feb 26 16:39:50 2023\n"
     ]
    }
   ],
   "source": [
    "for t in timeThread:\n",
    "    t.start()"
   ]
  },
  {
   "cell_type": "code",
   "execution_count": 24,
   "id": "59220aec-abcb-42c9-a9bf-88692b917d74",
   "metadata": {},
   "outputs": [],
   "source": [
    "def test2(id):\n",
    "    for i in range(10):\n",
    "        print(\"test1 %d printing %d\" %(id,i))\n",
    "        #time.sleep(1)"
   ]
  },
  {
   "cell_type": "code",
   "execution_count": 25,
   "id": "cd7ce8e3-48d3-4a9d-904c-3b2301ca1425",
   "metadata": {},
   "outputs": [
    {
     "name": "stdout",
     "output_type": "stream",
     "text": [
      "test1 1 printing 0\n",
      "test1 1 printing 1\n",
      "test1 1 printing 2\n",
      "test1 1 printing 3\n",
      "test1 1 printing 4\n",
      "test1 1 printing 5\n",
      "test1 1 printing 6\n",
      "test1 1 printing 7\n",
      "test1 1 printing 8\n",
      "test1 1 printing 9\n"
     ]
    }
   ],
   "source": [
    "test2(1)"
   ]
  },
  {
   "cell_type": "code",
   "execution_count": 26,
   "id": "a4d191a4-eadb-407f-ac72-7c6d268615ff",
   "metadata": {},
   "outputs": [],
   "source": [
    "timeThread=[threading.Thread(target=test2, args= (i,)) for i in range(3)]"
   ]
  },
  {
   "cell_type": "code",
   "execution_count": 27,
   "id": "c7d28869-9c48-4ae9-acd8-00551fc9f519",
   "metadata": {},
   "outputs": [
    {
     "name": "stdout",
     "output_type": "stream",
     "text": [
      "test1 0 printing 0\n",
      "test1 0 printing 1\n",
      "test1 0 printing 2\n",
      "test1 0 printing 3\n",
      "test1 0 printing 4\n",
      "test1 0 printing 5\n",
      "test1 0 printing 6\n",
      "test1 0 printing 7\n",
      "test1 0 printing 8\n",
      "test1 0 printing 9\n",
      "test1 1 printing 0\n",
      "test1 1 printing 1\n",
      "test1 1 printing 2\n",
      "test1 1 printing 3\n",
      "test1 1 printing 4\n",
      "test1 1 printing 5\n",
      "test1 1 printing 6\n",
      "test1 1 printing 7\n",
      "test1 1 printing 8\n",
      "test1 1 printing 9\n",
      "test1 2 printing 0\n",
      "test1 2 printing 1\n",
      "test1 2 printing 2\n",
      "test1 2 printing 3\n",
      "test1 2 printing 4\n",
      "test1 2 printing 5\n",
      "test1 2 printing 6\n",
      "test1 2 printing 7\n",
      "test1 2 printing 8\n",
      "test1 2 printing 9\n"
     ]
    }
   ],
   "source": [
    "for t in timeThread:\n",
    "    t.start()"
   ]
  },
  {
   "cell_type": "code",
   "execution_count": 28,
   "id": "c13b6935-d994-4bde-8f64-8f380a15d4a8",
   "metadata": {},
   "outputs": [],
   "source": [
    "#for shared resources\n",
    "shared_var=0\n",
    "lock_var=threading.Lock()"
   ]
  },
  {
   "cell_type": "code",
   "execution_count": 38,
   "id": "2c46ff05-f083-4361-ab3b-a3c25f6468f2",
   "metadata": {},
   "outputs": [],
   "source": [
    "def test3(id):\n",
    "    global shared_var\n",
    "    with lock_var:\n",
    "        shared_var = shared_var+1\n",
    "        print(\"test3 id is %d has increased the shared variable by %d\"%(id,shared_var))\n",
    "        time.sleep(1)"
   ]
  },
  {
   "cell_type": "code",
   "execution_count": 39,
   "id": "10563191-a772-4158-b6e3-17ae15ec2756",
   "metadata": {},
   "outputs": [
    {
     "name": "stdout",
     "output_type": "stream",
     "text": [
      "test3 id is 0 has increased the shared variable by 8\n"
     ]
    }
   ],
   "source": [
    "test3(0)"
   ]
  },
  {
   "cell_type": "code",
   "execution_count": 40,
   "id": "140efcab-188c-4c06-a35e-24c987c80515",
   "metadata": {},
   "outputs": [],
   "source": [
    "test3Thread=[threading.Thread(target=test3, args=(i,) )for i in range(3)]"
   ]
  },
  {
   "cell_type": "code",
   "execution_count": 41,
   "id": "eb6d4069-e869-4cb1-9d27-ebec23ac8bac",
   "metadata": {},
   "outputs": [
    {
     "data": {
      "text/plain": [
       "[<Thread(Thread-30 (test3), initial)>,\n",
       " <Thread(Thread-31 (test3), initial)>,\n",
       " <Thread(Thread-32 (test3), initial)>]"
      ]
     },
     "execution_count": 41,
     "metadata": {},
     "output_type": "execute_result"
    }
   ],
   "source": [
    "test3Thread"
   ]
  },
  {
   "cell_type": "code",
   "execution_count": 42,
   "id": "8aa29b51-68e6-4789-8d9f-3362da1f5073",
   "metadata": {},
   "outputs": [
    {
     "name": "stdout",
     "output_type": "stream",
     "text": [
      "test3 id is 0 has increased the shared variable by 9\n",
      "test3 id is 1 has increased the shared variable by 10\n",
      "test3 id is 2 has increased the shared variable by 11\n"
     ]
    }
   ],
   "source": [
    "for t in test3Thread:\n",
    "    t.start()"
   ]
  },
  {
   "cell_type": "code",
   "execution_count": null,
   "id": "d3956a97-087d-40b0-9cfc-0d08f33b8175",
   "metadata": {},
   "outputs": [],
   "source": []
  },
  {
   "cell_type": "code",
   "execution_count": null,
   "id": "4b75ba02-2012-493c-a42f-af035d875cec",
   "metadata": {},
   "outputs": [],
   "source": []
  },
  {
   "cell_type": "code",
   "execution_count": null,
   "id": "0e587b5d-c34a-4197-a188-104e030f31c8",
   "metadata": {},
   "outputs": [],
   "source": []
  }
 ],
 "metadata": {
  "kernelspec": {
   "display_name": "Python 3 (ipykernel)",
   "language": "python",
   "name": "python3"
  },
  "language_info": {
   "codemirror_mode": {
    "name": "ipython",
    "version": 3
   },
   "file_extension": ".py",
   "mimetype": "text/x-python",
   "name": "python",
   "nbconvert_exporter": "python",
   "pygments_lexer": "ipython3",
   "version": "3.10.8"
  }
 },
 "nbformat": 4,
 "nbformat_minor": 5
}
