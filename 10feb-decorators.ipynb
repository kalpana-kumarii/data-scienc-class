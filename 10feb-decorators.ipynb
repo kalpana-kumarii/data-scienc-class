{
 "cells": [
  {
   "cell_type": "code",
   "execution_count": 1,
   "id": "561fedac-9ccb-40b3-895a-1346808785dc",
   "metadata": {},
   "outputs": [],
   "source": [
    "def test():\n",
    "    print(\"this is the start of my function\")\n",
    "    print(\"this is my function\")\n",
    "    print(4+5)\n",
    "    print(\"this is the end of my function\")"
   ]
  },
  {
   "cell_type": "code",
   "execution_count": 2,
   "id": "b4c7d3ee-3ffe-4843-b1ca-30477be20685",
   "metadata": {},
   "outputs": [
    {
     "name": "stdout",
     "output_type": "stream",
     "text": [
      "this is the start of my function\n",
      "this is my function\n",
      "9\n",
      "this is the end of my function\n"
     ]
    }
   ],
   "source": [
    "test()"
   ]
  },
  {
   "cell_type": "code",
   "execution_count": 3,
   "id": "e8b2a89a-282f-4d6a-89c2-3a6e5b4a2bd4",
   "metadata": {},
   "outputs": [],
   "source": [
    "       def deco(func):\n",
    "        def inner_dec():\n",
    "            print(\"this is the end of my function\")\n",
    "            func()\n",
    "            print(\"this is the end of my function\")\n",
    "        return inner_dec"
   ]
  },
  {
   "cell_type": "code",
   "execution_count": 4,
   "id": "5f719991-5ed5-466f-b0b2-f939c45d004c",
   "metadata": {},
   "outputs": [],
   "source": [
    "@deco\n",
    "def test1():\n",
    "    print(6+7)"
   ]
  },
  {
   "cell_type": "code",
   "execution_count": 5,
   "id": "8f1fd1b7-d8cc-4d4d-b0fe-543933a7dc7c",
   "metadata": {},
   "outputs": [
    {
     "name": "stdout",
     "output_type": "stream",
     "text": [
      "this is the end of my function\n",
      "13\n",
      "this is the end of my function\n"
     ]
    }
   ],
   "source": [
    "test1()"
   ]
  },
  {
   "cell_type": "code",
   "execution_count": 30,
   "id": "b35b7ee3-2568-43df-8fc4-1b7b85853613",
   "metadata": {},
   "outputs": [],
   "source": [
    "import time\n",
    "\n",
    "def timer_test(func):\n",
    "    def timer_test_inner():\n",
    "        start=time.time()\n",
    "        func()\n",
    "        end=time.time()\n",
    "        print(end-start)\n",
    "    return timer_test_inner"
   ]
  },
  {
   "cell_type": "code",
   "execution_count": 31,
   "id": "bb6d9ab2-62c9-4caa-a933-f9b973a77888",
   "metadata": {},
   "outputs": [],
   "source": [
    "def test2():\n",
    "    print(465+4)"
   ]
  },
  {
   "cell_type": "code",
   "execution_count": 32,
   "id": "f2f13b46-322f-49b3-92de-74ffc8225057",
   "metadata": {},
   "outputs": [
    {
     "name": "stdout",
     "output_type": "stream",
     "text": [
      "469\n"
     ]
    }
   ],
   "source": [
    "test2()"
   ]
  },
  {
   "cell_type": "code",
   "execution_count": 33,
   "id": "71dcd43b-08f8-4f87-af31-151249d92e61",
   "metadata": {},
   "outputs": [],
   "source": [
    "@timer_test\n",
    "def test3():\n",
    "    print(465+4)"
   ]
  },
  {
   "cell_type": "code",
   "execution_count": 34,
   "id": "b948ac34-5b79-4b8c-8fa4-9ee16afce8b8",
   "metadata": {},
   "outputs": [
    {
     "name": "stdout",
     "output_type": "stream",
     "text": [
      "469\n",
      "4.76837158203125e-05\n"
     ]
    }
   ],
   "source": [
    "test3()"
   ]
  },
  {
   "cell_type": "code",
   "execution_count": 37,
   "id": "abcd3889-2566-4ea6-a347-249cffb655f7",
   "metadata": {},
   "outputs": [],
   "source": [
    "@timer_test\n",
    "def test():\n",
    "    for i in range(12000000):\n",
    "        pass"
   ]
  },
  {
   "cell_type": "code",
   "execution_count": 38,
   "id": "52df3a28-7fd8-41c0-a327-bbe6befa7bd9",
   "metadata": {},
   "outputs": [
    {
     "name": "stdout",
     "output_type": "stream",
     "text": [
      "0.29771947860717773\n"
     ]
    }
   ],
   "source": [
    "test()"
   ]
  },
  {
   "cell_type": "code",
   "execution_count": null,
   "id": "d64470e8-a556-4283-a95d-103840c5babc",
   "metadata": {},
   "outputs": [],
   "source": []
  }
 ],
 "metadata": {
  "kernelspec": {
   "display_name": "Python 3 (ipykernel)",
   "language": "python",
   "name": "python3"
  },
  "language_info": {
   "codemirror_mode": {
    "name": "ipython",
    "version": 3
   },
   "file_extension": ".py",
   "mimetype": "text/x-python",
   "name": "python",
   "nbconvert_exporter": "python",
   "pygments_lexer": "ipython3",
   "version": "3.10.8"
  }
 },
 "nbformat": 4,
 "nbformat_minor": 5
}
