{
 "cells": [
  {
   "cell_type": "code",
   "execution_count": 1,
   "id": "d594a449-4df6-4807-99e5-185d35b3543f",
   "metadata": {},
   "outputs": [],
   "source": [
    "def test(a,b):\n",
    "    return a+b"
   ]
  },
  {
   "cell_type": "code",
   "execution_count": 2,
   "id": "d3d4f5c7-4767-4301-a0cc-e777524092cd",
   "metadata": {},
   "outputs": [
    {
     "data": {
      "text/plain": [
       "9"
      ]
     },
     "execution_count": 2,
     "metadata": {},
     "output_type": "execute_result"
    }
   ],
   "source": [
    "test(4,5)"
   ]
  },
  {
   "cell_type": "code",
   "execution_count": 4,
   "id": "ab9a8bb3-4494-4fff-8ccd-3aa8e2e3be74",
   "metadata": {},
   "outputs": [
    {
     "data": {
      "text/plain": [
       "'sudh kumar'"
      ]
     },
     "execution_count": 4,
     "metadata": {},
     "output_type": "execute_result"
    }
   ],
   "source": [
    "test(\"sudh\",\" kumar\")"
   ]
  },
  {
   "cell_type": "code",
   "execution_count": 5,
   "id": "758a90cf-2fee-4f8e-a78a-fd0003fbb700",
   "metadata": {},
   "outputs": [
    {
     "data": {
      "text/plain": [
       "[1, 2, 3, 2, 3, 4]"
      ]
     },
     "execution_count": 5,
     "metadata": {},
     "output_type": "execute_result"
    }
   ],
   "source": [
    "test([1,2,3],[2,3,4])"
   ]
  },
  {
   "cell_type": "code",
   "execution_count": 16,
   "id": "6e0a3844-a78f-4d00-be60-a54f852a879a",
   "metadata": {},
   "outputs": [],
   "source": [
    "class data_science:\n",
    "    def syllabus(self):\n",
    "        print(\"this is my syllabus for data science\")"
   ]
  },
  {
   "cell_type": "code",
   "execution_count": 17,
   "id": "66b8ced4-a4e7-478a-97c8-c932cbcea0f1",
   "metadata": {},
   "outputs": [],
   "source": [
    "class web_dev:\n",
    "    def syllabus(self):\n",
    "        print(\"this is my syllabus for web dev\")"
   ]
  },
  {
   "cell_type": "code",
   "execution_count": 18,
   "id": "179d1377-358b-42e5-999d-532c825d9f5b",
   "metadata": {},
   "outputs": [],
   "source": [
    "def  class_parser(class_object):\n",
    "    for i in class_object:\n",
    "        i.syllabus()"
   ]
  },
  {
   "cell_type": "code",
   "execution_count": 19,
   "id": "e6c57397-043a-42f6-a5f7-23dc955948b0",
   "metadata": {},
   "outputs": [],
   "source": [
    "data_Science=data_science()"
   ]
  },
  {
   "cell_type": "code",
   "execution_count": 20,
   "id": "dd78184e-2f6a-44d9-ba9a-ac1fb8872348",
   "metadata": {},
   "outputs": [],
   "source": [
    "web_dv=web_dev()"
   ]
  },
  {
   "cell_type": "code",
   "execution_count": 21,
   "id": "194441d0-3cd8-4cc8-94d9-37569c312a18",
   "metadata": {},
   "outputs": [],
   "source": [
    "class_object=[data_Science,web_dv]"
   ]
  },
  {
   "cell_type": "code",
   "execution_count": 22,
   "id": "8ffce94d-95ce-4dbf-b223-49c0cb13fb08",
   "metadata": {},
   "outputs": [
    {
     "name": "stdout",
     "output_type": "stream",
     "text": [
      "this is my syllabus for data science\n",
      "this is my syllabus for web dev\n"
     ]
    }
   ],
   "source": [
    "class_parser(class_object)"
   ]
  },
  {
   "cell_type": "code",
   "execution_count": null,
   "id": "cc7b0397-c8cf-4021-9b16-ce7bafd05678",
   "metadata": {},
   "outputs": [],
   "source": []
  }
 ],
 "metadata": {
  "kernelspec": {
   "display_name": "Python 3 (ipykernel)",
   "language": "python",
   "name": "python3"
  },
  "language_info": {
   "codemirror_mode": {
    "name": "ipython",
    "version": 3
   },
   "file_extension": ".py",
   "mimetype": "text/x-python",
   "name": "python",
   "nbconvert_exporter": "python",
   "pygments_lexer": "ipython3",
   "version": "3.10.8"
  }
 },
 "nbformat": 4,
 "nbformat_minor": 5
}
