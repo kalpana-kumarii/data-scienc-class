{
 "cells": [
  {
   "cell_type": "code",
   "execution_count": 1,
   "id": "4d1a8512-0656-4455-9656-57f6df24c52c",
   "metadata": {},
   "outputs": [],
   "source": [
    "class pwskills:\n",
    "    \n",
    "    def student_details(self, name, email, number):\n",
    "        print(name, email, number)"
   ]
  },
  {
   "cell_type": "code",
   "execution_count": 2,
   "id": "5c430a6a-be9c-46cc-be2d-e15aaaf9cefb",
   "metadata": {},
   "outputs": [],
   "source": [
    "pw=pwskills()"
   ]
  },
  {
   "cell_type": "code",
   "execution_count": 3,
   "id": "f2ff965c-9f1c-45a1-acef-292287692a03",
   "metadata": {},
   "outputs": [
    {
     "name": "stdout",
     "output_type": "stream",
     "text": [
      "sudh s@gmail.com 45897564\n"
     ]
    }
   ],
   "source": [
    "pw.student_details(\"sudh\",\"s@gmail.com\",45897564)"
   ]
  },
  {
   "cell_type": "code",
   "execution_count": 9,
   "id": "8d02b959-4e45-471f-9d79-0cf68e28c1f5",
   "metadata": {},
   "outputs": [],
   "source": [
    "class pwskills1:\n",
    "    \n",
    "    def student_details(self, name, email, number):\n",
    "        print(name, email, number)\n",
    "        \n",
    "    @staticmethod\n",
    "    def mentor_class(list_mentor):\n",
    "        print(list_mentor)\n",
    "    \n",
    "    def mentor(self,mentor_list):\n",
    "        print(mentor_list)"
   ]
  },
  {
   "cell_type": "code",
   "execution_count": 10,
   "id": "ee1f2723-295e-4b04-9da5-92e183527e92",
   "metadata": {},
   "outputs": [
    {
     "name": "stdout",
     "output_type": "stream",
     "text": [
      "['sudh', 'krish']\n"
     ]
    }
   ],
   "source": [
    "pwskills1.mentor_class([\"sudh\",\"krish\"])"
   ]
  },
  {
   "cell_type": "code",
   "execution_count": 11,
   "id": "fe077151-2ccd-493e-b9c8-90bf1b9f47e7",
   "metadata": {},
   "outputs": [],
   "source": [
    "stu1=pwskills1()"
   ]
  },
  {
   "cell_type": "code",
   "execution_count": 12,
   "id": "48bdbf89-9050-4424-8247-cd22964afe2b",
   "metadata": {},
   "outputs": [],
   "source": [
    "stu2=pwskills1()"
   ]
  },
  {
   "cell_type": "code",
   "execution_count": 13,
   "id": "1644acf1-2227-44a5-bbf1-b27c692546b0",
   "metadata": {},
   "outputs": [],
   "source": [
    "stu3=pwskills1()"
   ]
  },
  {
   "cell_type": "code",
   "execution_count": 14,
   "id": "08d2bc2d-a071-4377-94bc-e7582d7de48b",
   "metadata": {},
   "outputs": [
    {
     "name": "stdout",
     "output_type": "stream",
     "text": [
      "['sudh', 'krish']\n"
     ]
    }
   ],
   "source": [
    "stu1.mentor([\"sudh\",\"krish\"])"
   ]
  },
  {
   "cell_type": "code",
   "execution_count": 20,
   "id": "8a720d3d-aec4-4362-9b00-eb9f196ca779",
   "metadata": {},
   "outputs": [
    {
     "name": "stdout",
     "output_type": "stream",
     "text": [
      "['k']\n"
     ]
    }
   ],
   "source": [
    "stu1.mentor_class([\"k\"])"
   ]
  },
  {
   "cell_type": "code",
   "execution_count": 26,
   "id": "7c1dc47f-5e62-4ead-9d72-6703e6239561",
   "metadata": {},
   "outputs": [],
   "source": [
    "class pwskills2:\n",
    "    \n",
    "    def student_details(self, name, email, number):\n",
    "        print(name, email, number)\n",
    "        \n",
    "    @staticmethod\n",
    "    def mentor_mail_id(mail_id_mentor):\n",
    "        print(mail_id_mentor)\n",
    "        \n",
    "    @staticmethod\n",
    "    def mentor_class(list_mentor):\n",
    "        pwskills2.mentor_mail_id([\"s@gmail.com\",\"k@gmail.com\"])\n",
    "        print(list_mentor)\n",
    "    \n",
    "    @classmethod\n",
    "    def class_name(cls):\n",
    "        cls.mentor_class([\"sudh\",\"krish\"])\n",
    "    \n",
    "    def mentor(self,mentor_list):\n",
    "        print(mentor_list)\n",
    "        self.mentor_class([\"a\",\"b\"])"
   ]
  },
  {
   "cell_type": "code",
   "execution_count": 23,
   "id": "36c4a2e0-4823-4bef-b241-9bcf12e85ffc",
   "metadata": {},
   "outputs": [
    {
     "name": "stdout",
     "output_type": "stream",
     "text": [
      "['s@gmail.com', 'k@gmail.com']\n",
      "['sudh', 'krish']\n"
     ]
    }
   ],
   "source": [
    "pwskills2.class_name()"
   ]
  },
  {
   "cell_type": "code",
   "execution_count": 25,
   "id": "204889e1-c6a8-44f0-8f54-16613385f3d7",
   "metadata": {},
   "outputs": [
    {
     "name": "stdout",
     "output_type": "stream",
     "text": [
      "['s@gmail.com', 'k@gmail.com']\n",
      "['sudh', 'krish']\n"
     ]
    }
   ],
   "source": [
    "pwskills2.mentor_class([\"sudh\",\"krish\"])"
   ]
  },
  {
   "cell_type": "code",
   "execution_count": 27,
   "id": "6c5bed39-f203-4b14-83c1-a02938e3ef51",
   "metadata": {},
   "outputs": [
    {
     "name": "stdout",
     "output_type": "stream",
     "text": [
      "['s@gmail.com', 'k@gmail.com']\n",
      "['sudh', 'krish']\n"
     ]
    }
   ],
   "source": [
    "pwskills2.class_name()"
   ]
  },
  {
   "cell_type": "code",
   "execution_count": 28,
   "id": "79f11395-aa69-499f-95eb-dcc4c357f00b",
   "metadata": {},
   "outputs": [],
   "source": [
    "pw=pwskills2()"
   ]
  },
  {
   "cell_type": "code",
   "execution_count": 31,
   "id": "608b7be4-d2f7-400c-b725-a34402d34a6a",
   "metadata": {},
   "outputs": [
    {
     "name": "stdout",
     "output_type": "stream",
     "text": [
      "['e', 'k']\n",
      "['s@gmail.com', 'k@gmail.com']\n",
      "['a', 'b']\n"
     ]
    }
   ],
   "source": [
    "pw.mentor([\"e\",\"k\"])"
   ]
  },
  {
   "cell_type": "code",
   "execution_count": null,
   "id": "8d941f8d-b8f9-4de7-837a-e2eb7f1dd4f0",
   "metadata": {},
   "outputs": [],
   "source": []
  }
 ],
 "metadata": {
  "kernelspec": {
   "display_name": "Python 3 (ipykernel)",
   "language": "python",
   "name": "python3"
  },
  "language_info": {
   "codemirror_mode": {
    "name": "ipython",
    "version": 3
   },
   "file_extension": ".py",
   "mimetype": "text/x-python",
   "name": "python",
   "nbconvert_exporter": "python",
   "pygments_lexer": "ipython3",
   "version": "3.10.8"
  }
 },
 "nbformat": 4,
 "nbformat_minor": 5
}
