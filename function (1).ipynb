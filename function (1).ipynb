{
 "cells": [
  {
   "cell_type": "code",
   "execution_count": 1,
   "id": "65e76b4c-8bb9-4fb8-b0da-aa444286495c",
   "metadata": {},
   "outputs": [
    {
     "name": "stdout",
     "output_type": "stream",
     "text": [
      "this is my print\n"
     ]
    }
   ],
   "source": [
    "print(\"this is my print\")"
   ]
  },
  {
   "cell_type": "code",
   "execution_count": 2,
   "id": "6d17362b-7c10-4e55-99ce-fac6f5db09b4",
   "metadata": {},
   "outputs": [],
   "source": [
    "l=[223,43,4,5,7]"
   ]
  },
  {
   "cell_type": "code",
   "execution_count": 3,
   "id": "2a51975f-e784-44fb-9da6-383ce77fd447",
   "metadata": {},
   "outputs": [
    {
     "data": {
      "text/plain": [
       "5"
      ]
     },
     "execution_count": 3,
     "metadata": {},
     "output_type": "execute_result"
    }
   ],
   "source": [
    "len(l)"
   ]
  },
  {
   "cell_type": "code",
   "execution_count": 4,
   "id": "39d6bfff-3208-4b6a-9bd9-fa32067f43b4",
   "metadata": {},
   "outputs": [
    {
     "data": {
      "text/plain": [
       "list"
      ]
     },
     "execution_count": 4,
     "metadata": {},
     "output_type": "execute_result"
    }
   ],
   "source": [
    "type(l)"
   ]
  },
  {
   "cell_type": "code",
   "execution_count": 7,
   "id": "3be07479-1788-4476-9f69-e60903560d55",
   "metadata": {},
   "outputs": [],
   "source": [
    "def test() :\n",
    "    pass"
   ]
  },
  {
   "cell_type": "code",
   "execution_count": 8,
   "id": "fc4de283-d908-4688-b1fd-6a5a6b9a66ad",
   "metadata": {},
   "outputs": [],
   "source": [
    "def test1():\n",
    "    print(\"this is my very very 1st function\")"
   ]
  },
  {
   "cell_type": "code",
   "execution_count": 10,
   "id": "c7b4076b-2e13-4dd6-ae57-c8383d128cce",
   "metadata": {},
   "outputs": [
    {
     "name": "stdout",
     "output_type": "stream",
     "text": [
      "this is my very very 1st function\n"
     ]
    }
   ],
   "source": [
    "test1()"
   ]
  },
  {
   "cell_type": "code",
   "execution_count": 11,
   "id": "70a8ffe8-9218-48c7-a19c-ffd4b17bc76b",
   "metadata": {},
   "outputs": [
    {
     "name": "stdout",
     "output_type": "stream",
     "text": [
      "this is my very very 1st function\n"
     ]
    },
    {
     "ename": "TypeError",
     "evalue": "unsupported operand type(s) for +: 'NoneType' and 'str'",
     "output_type": "error",
     "traceback": [
      "\u001b[0;31m---------------------------------------------------------------------------\u001b[0m",
      "\u001b[0;31mTypeError\u001b[0m                                 Traceback (most recent call last)",
      "Cell \u001b[0;32mIn[11], line 1\u001b[0m\n\u001b[0;32m----> 1\u001b[0m \u001b[43mtest1\u001b[49m\u001b[43m(\u001b[49m\u001b[43m)\u001b[49m\u001b[38;5;241;43m+\u001b[39;49m\u001b[38;5;124;43m\"\u001b[39;49m\u001b[38;5;124;43msudh\u001b[39;49m\u001b[38;5;124;43m\"\u001b[39;49m\n",
      "\u001b[0;31mTypeError\u001b[0m: unsupported operand type(s) for +: 'NoneType' and 'str'"
     ]
    }
   ],
   "source": [
    "test1()+\"sudh\"\n"
   ]
  },
  {
   "cell_type": "code",
   "execution_count": 15,
   "id": "1d056f03-fdc0-41cd-8988-eea35b85bb0d",
   "metadata": {},
   "outputs": [],
   "source": [
    "def test2():\n",
    "    return \"this is my very 1st return \""
   ]
  },
  {
   "cell_type": "code",
   "execution_count": 16,
   "id": "35b391a2-bd4c-49c6-af50-b1637a13eb89",
   "metadata": {},
   "outputs": [
    {
     "data": {
      "text/plain": [
       "'this is my very 1st return '"
      ]
     },
     "execution_count": 16,
     "metadata": {},
     "output_type": "execute_result"
    }
   ],
   "source": [
    "test2()"
   ]
  },
  {
   "cell_type": "code",
   "execution_count": 17,
   "id": "c42689c4-d9fa-4ed2-8db4-fd0551873c95",
   "metadata": {},
   "outputs": [
    {
     "data": {
      "text/plain": [
       "'this is my very 1st return sudh'"
      ]
     },
     "execution_count": 17,
     "metadata": {},
     "output_type": "execute_result"
    }
   ],
   "source": [
    "test2()+\"sudh\""
   ]
  },
  {
   "cell_type": "code",
   "execution_count": 18,
   "id": "c688ab91-4aa6-44e5-94ed-273381ad361e",
   "metadata": {},
   "outputs": [],
   "source": [
    "def test3():\n",
    "    return \"sudh\",23,45.56,[1,2,34]"
   ]
  },
  {
   "cell_type": "code",
   "execution_count": 19,
   "id": "8a088ee9-e413-47bd-be0a-ed87d23b5453",
   "metadata": {},
   "outputs": [
    {
     "data": {
      "text/plain": [
       "('sudh', 23, 45.56, [1, 2, 34])"
      ]
     },
     "execution_count": 19,
     "metadata": {},
     "output_type": "execute_result"
    }
   ],
   "source": [
    "test3()"
   ]
  },
  {
   "cell_type": "code",
   "execution_count": 20,
   "id": "80d91c84-c6dc-4bc8-b1c1-17af823cb76e",
   "metadata": {},
   "outputs": [],
   "source": [
    "a,b,c,d=test3()"
   ]
  },
  {
   "cell_type": "code",
   "execution_count": 21,
   "id": "220198e1-fb9c-494c-9f7b-66cdcfc807a5",
   "metadata": {},
   "outputs": [
    {
     "data": {
      "text/plain": [
       "'sudh'"
      ]
     },
     "execution_count": 21,
     "metadata": {},
     "output_type": "execute_result"
    }
   ],
   "source": [
    "a\n"
   ]
  },
  {
   "cell_type": "code",
   "execution_count": 22,
   "id": "dad1080b-314f-4bf9-aa6e-4e7c7aebaf6f",
   "metadata": {},
   "outputs": [
    {
     "data": {
      "text/plain": [
       "23"
      ]
     },
     "execution_count": 22,
     "metadata": {},
     "output_type": "execute_result"
    }
   ],
   "source": [
    "b"
   ]
  },
  {
   "cell_type": "code",
   "execution_count": 23,
   "id": "975da9c1-1a3a-4066-9b43-4e6f28667062",
   "metadata": {},
   "outputs": [
    {
     "data": {
      "text/plain": [
       "45.56"
      ]
     },
     "execution_count": 23,
     "metadata": {},
     "output_type": "execute_result"
    }
   ],
   "source": [
    "c"
   ]
  },
  {
   "cell_type": "code",
   "execution_count": 24,
   "id": "3f0f473e-c739-4134-9409-d8fd5697a634",
   "metadata": {},
   "outputs": [
    {
     "data": {
      "text/plain": [
       "[1, 2, 34]"
      ]
     },
     "execution_count": 24,
     "metadata": {},
     "output_type": "execute_result"
    }
   ],
   "source": [
    "d"
   ]
  },
  {
   "cell_type": "code",
   "execution_count": 25,
   "id": "d8941424-576f-4034-b5ac-7c8394e5bf82",
   "metadata": {},
   "outputs": [],
   "source": [
    "a,b=1,4"
   ]
  },
  {
   "cell_type": "code",
   "execution_count": 26,
   "id": "74cf23ca-471b-4c8f-bf29-c29eeecbb797",
   "metadata": {},
   "outputs": [
    {
     "data": {
      "text/plain": [
       "1"
      ]
     },
     "execution_count": 26,
     "metadata": {},
     "output_type": "execute_result"
    }
   ],
   "source": [
    "a"
   ]
  },
  {
   "cell_type": "code",
   "execution_count": 27,
   "id": "5f7bb0a6-6554-4d90-81c5-8c7fc82fc8f8",
   "metadata": {},
   "outputs": [
    {
     "data": {
      "text/plain": [
       "4"
      ]
     },
     "execution_count": 27,
     "metadata": {},
     "output_type": "execute_result"
    }
   ],
   "source": [
    "b"
   ]
  },
  {
   "cell_type": "code",
   "execution_count": 28,
   "id": "ff648a19-dad3-476e-afdc-37af55ef7ec3",
   "metadata": {},
   "outputs": [],
   "source": [
    "def test4():\n",
    "    a=5+6/7\n",
    "    return a"
   ]
  },
  {
   "cell_type": "code",
   "execution_count": 29,
   "id": "a76f9b17-a6f7-41fe-bd83-6970652aa5d0",
   "metadata": {},
   "outputs": [
    {
     "data": {
      "text/plain": [
       "5.857142857142857"
      ]
     },
     "execution_count": 29,
     "metadata": {},
     "output_type": "execute_result"
    }
   ],
   "source": [
    "test4()"
   ]
  },
  {
   "cell_type": "code",
   "execution_count": 30,
   "id": "0c35f6df-8752-468b-8d63-54a0d3539d43",
   "metadata": {},
   "outputs": [],
   "source": [
    "def test5(a,b,c):\n",
    "    d=a+b/c\n",
    "    return d\n",
    "    "
   ]
  },
  {
   "cell_type": "code",
   "execution_count": 32,
   "id": "bb845feb-3cdf-4d24-9d76-14d004ed5c5a",
   "metadata": {},
   "outputs": [
    {
     "ename": "TypeError",
     "evalue": "test5() missing 3 required positional arguments: 'a', 'b', and 'c'",
     "output_type": "error",
     "traceback": [
      "\u001b[0;31m---------------------------------------------------------------------------\u001b[0m",
      "\u001b[0;31mTypeError\u001b[0m                                 Traceback (most recent call last)",
      "Cell \u001b[0;32mIn[32], line 1\u001b[0m\n\u001b[0;32m----> 1\u001b[0m \u001b[43mtest5\u001b[49m\u001b[43m(\u001b[49m\u001b[43m)\u001b[49m\n",
      "\u001b[0;31mTypeError\u001b[0m: test5() missing 3 required positional arguments: 'a', 'b', and 'c'"
     ]
    }
   ],
   "source": [
    "test5()"
   ]
  },
  {
   "cell_type": "code",
   "execution_count": 31,
   "id": "32f538c6-aab7-4175-b037-5aefbe4d6fb7",
   "metadata": {},
   "outputs": [
    {
     "data": {
      "text/plain": [
       "5.857142857142857"
      ]
     },
     "execution_count": 31,
     "metadata": {},
     "output_type": "execute_result"
    }
   ],
   "source": [
    "test5(5,6,7)"
   ]
  },
  {
   "cell_type": "code",
   "execution_count": 33,
   "id": "95782569-5620-4914-99fe-8a41d32f379c",
   "metadata": {},
   "outputs": [],
   "source": [
    "def test6(a,b):\n",
    "    return a+b"
   ]
  },
  {
   "cell_type": "code",
   "execution_count": 34,
   "id": "30153217-c643-4588-a05c-297e112abecf",
   "metadata": {},
   "outputs": [
    {
     "data": {
      "text/plain": [
       "11"
      ]
     },
     "execution_count": 34,
     "metadata": {},
     "output_type": "execute_result"
    }
   ],
   "source": [
    "test6(5,6)"
   ]
  },
  {
   "cell_type": "code",
   "execution_count": 36,
   "id": "a24e7053-8dc8-4634-9e8c-82d05c504e49",
   "metadata": {},
   "outputs": [
    {
     "data": {
      "text/plain": [
       "'sudh kumar'"
      ]
     },
     "execution_count": 36,
     "metadata": {},
     "output_type": "execute_result"
    }
   ],
   "source": [
    "test6(\"sudh\",\" kumar\")"
   ]
  },
  {
   "cell_type": "code",
   "execution_count": 37,
   "id": "04ba055b-125c-429d-a4aa-9643d064cec2",
   "metadata": {},
   "outputs": [
    {
     "data": {
      "text/plain": [
       "[2, 3, 4, 4, 5, 67, 8]"
      ]
     },
     "execution_count": 37,
     "metadata": {},
     "output_type": "execute_result"
    }
   ],
   "source": [
    "test6([2,3,4],[4,5,67,8])"
   ]
  },
  {
   "cell_type": "code",
   "execution_count": 38,
   "id": "586cc981-d722-47f4-979c-f0cca085f71d",
   "metadata": {},
   "outputs": [],
   "source": [
    "l=[1,2,3,4,\"sudh\",\"kumar\",[2.3,4,5,6]]"
   ]
  },
  {
   "cell_type": "code",
   "execution_count": 40,
   "id": "56876834-9e45-402d-bfb6-8d6714543d37",
   "metadata": {},
   "outputs": [],
   "source": [
    "l1=[]\n",
    "for i in l:\n",
    "    if type(i)!=str :\n",
    "          l1.append(i)\n",
    "  "
   ]
  },
  {
   "cell_type": "code",
   "execution_count": 41,
   "id": "e710a110-c0ab-4509-ae07-b514d6f8aba0",
   "metadata": {},
   "outputs": [
    {
     "data": {
      "text/plain": [
       "[1, 2, 3, 4, [2.3, 4, 5, 6]]"
      ]
     },
     "execution_count": 41,
     "metadata": {},
     "output_type": "execute_result"
    }
   ],
   "source": [
    "l1"
   ]
  },
  {
   "cell_type": "code",
   "execution_count": 44,
   "id": "257890b5-99f0-4daa-8fec-1ade4aed6657",
   "metadata": {},
   "outputs": [],
   "source": [
    "def test7(l):\n",
    "    l1=[]\n",
    "    for i in l :\n",
    "        if type(i) == int or type(i) == float :\n",
    "            l1.append(i)\n",
    "    return l1"
   ]
  },
  {
   "cell_type": "code",
   "execution_count": 45,
   "id": "43c8fef8-af9d-48c3-baf5-d1279d01354c",
   "metadata": {},
   "outputs": [
    {
     "data": {
      "text/plain": [
       "[1, 2, 3, 4]"
      ]
     },
     "execution_count": 45,
     "metadata": {},
     "output_type": "execute_result"
    }
   ],
   "source": [
    "test7(l)"
   ]
  },
  {
   "cell_type": "code",
   "execution_count": 50,
   "id": "be84275c-932d-40a2-b711-72327ef6a314",
   "metadata": {},
   "outputs": [],
   "source": [
    "def test8(a):\n",
    "    l1=[]\n",
    "    for i in a :\n",
    "        if type(i) == list :\n",
    "            for j in i :\n",
    "                l1.append(j)\n",
    "        else :\n",
    "            if type(i) == int or type(i) == float :\n",
    "                 l1.append(i)                      \n",
    "            \n",
    "    return l1"
   ]
  },
  {
   "cell_type": "code",
   "execution_count": 51,
   "id": "ca8c3382-525d-4780-a7a1-85a177e2d61a",
   "metadata": {},
   "outputs": [
    {
     "data": {
      "text/plain": [
       "[1, 2, 3, 4, 2.3, 4, 5, 6]"
      ]
     },
     "execution_count": 51,
     "metadata": {},
     "output_type": "execute_result"
    }
   ],
   "source": [
    "test8(l)"
   ]
  },
  {
   "cell_type": "code",
   "execution_count": 52,
   "id": "da36251b-cb59-4ef1-9368-991a98943bc3",
   "metadata": {},
   "outputs": [
    {
     "data": {
      "text/plain": [
       "[1, 2, 3, 4, 'sudh', 'kumar', [2.3, 4, 5, 6]]"
      ]
     },
     "execution_count": 52,
     "metadata": {},
     "output_type": "execute_result"
    }
   ],
   "source": [
    "l"
   ]
  },
  {
   "cell_type": "code",
   "execution_count": 55,
   "id": "528130ad-e5b9-4d1e-a17c-578b8987d614",
   "metadata": {},
   "outputs": [],
   "source": [
    "#to check discription using shift+tab button \n",
    "def test9(a):\n",
    "    \"\"\"this is my fucntion to extract num data from list\"\"\"\n",
    "    l1=[]\n",
    "    for i in a :\n",
    "        if type(i) == list :\n",
    "            for j in i :\n",
    "                l1.append(j)\n",
    "        else :\n",
    "            if type(i) == int or type(i) == float :\n",
    "                 l1.append(i)                      \n",
    "            \n",
    "    return l1"
   ]
  },
  {
   "cell_type": "code",
   "execution_count": 56,
   "id": "7a3b3b3b-7518-4b13-9d8e-3f3aa27f39b0",
   "metadata": {},
   "outputs": [
    {
     "ename": "TypeError",
     "evalue": "test9() missing 1 required positional argument: 'a'",
     "output_type": "error",
     "traceback": [
      "\u001b[0;31m---------------------------------------------------------------------------\u001b[0m",
      "\u001b[0;31mTypeError\u001b[0m                                 Traceback (most recent call last)",
      "Cell \u001b[0;32mIn[56], line 1\u001b[0m\n\u001b[0;32m----> 1\u001b[0m \u001b[43mtest9\u001b[49m\u001b[43m(\u001b[49m\u001b[43m)\u001b[49m\n",
      "\u001b[0;31mTypeError\u001b[0m: test9() missing 1 required positional argument: 'a'"
     ]
    }
   ],
   "source": [
    "test9()"
   ]
  },
  {
   "cell_type": "code",
   "execution_count": 57,
   "id": "e0255580-c96b-40d0-9051-20dafe712623",
   "metadata": {},
   "outputs": [],
   "source": [
    "def test10(a,b):\n",
    "    return a+b"
   ]
  },
  {
   "cell_type": "code",
   "execution_count": 58,
   "id": "633765c3-3f85-48db-8103-ece716b82f6c",
   "metadata": {},
   "outputs": [],
   "source": [
    "def test11(*args):\n",
    "    return args"
   ]
  },
  {
   "cell_type": "code",
   "execution_count": 60,
   "id": "29ded84c-852e-4ebb-bee6-e56a9feb5637",
   "metadata": {},
   "outputs": [
    {
     "data": {
      "text/plain": [
       "()"
      ]
     },
     "execution_count": 60,
     "metadata": {},
     "output_type": "execute_result"
    }
   ],
   "source": [
    "test11()"
   ]
  },
  {
   "cell_type": "code",
   "execution_count": 61,
   "id": "df831007-b952-4243-a67a-33f63781db83",
   "metadata": {},
   "outputs": [
    {
     "data": {
      "text/plain": [
       "tuple"
      ]
     },
     "execution_count": 61,
     "metadata": {},
     "output_type": "execute_result"
    }
   ],
   "source": [
    "type(test11())"
   ]
  },
  {
   "cell_type": "code",
   "execution_count": 62,
   "id": "2a7dd345-5a64-49c0-a7cb-09883699fe9d",
   "metadata": {},
   "outputs": [
    {
     "data": {
      "text/plain": [
       "(2, 2, 3)"
      ]
     },
     "execution_count": 62,
     "metadata": {},
     "output_type": "execute_result"
    }
   ],
   "source": [
    "test11(2,2,3)"
   ]
  },
  {
   "cell_type": "code",
   "execution_count": 63,
   "id": "3e1c5431-63a5-4de7-8750-f0d462e7e209",
   "metadata": {},
   "outputs": [
    {
     "data": {
      "text/plain": [
       "(2, 2, 3, 'sudh', 'krish', 86.9, 46)"
      ]
     },
     "execution_count": 63,
     "metadata": {},
     "output_type": "execute_result"
    }
   ],
   "source": [
    "test11(2,2,3,\"sudh\",\"krish\",86.9,46)"
   ]
  },
  {
   "cell_type": "code",
   "execution_count": 66,
   "id": "0f5805e4-9ada-41ef-83f0-a39a0858f769",
   "metadata": {},
   "outputs": [],
   "source": [
    "def test12(*sudh):\n",
    "    return sudh"
   ]
  },
  {
   "cell_type": "code",
   "execution_count": 67,
   "id": "610b3bbe-48e0-42b9-b65d-bf719568a5e3",
   "metadata": {},
   "outputs": [
    {
     "data": {
      "text/plain": [
       "(2, 2, 3, 'sudh', 'krish', 86.9, 46)"
      ]
     },
     "execution_count": 67,
     "metadata": {},
     "output_type": "execute_result"
    }
   ],
   "source": [
    "test12(2,2,3,\"sudh\",\"krish\",86.9,46)"
   ]
  },
  {
   "cell_type": "code",
   "execution_count": 68,
   "id": "df82e890-03ec-4e99-93e7-98cf1767806c",
   "metadata": {},
   "outputs": [],
   "source": [
    "def test13(*args,a):\n",
    "    return args,a"
   ]
  },
  {
   "cell_type": "code",
   "execution_count": 71,
   "id": "6ed05deb-253e-4099-b180-aee0d6088f37",
   "metadata": {},
   "outputs": [
    {
     "ename": "TypeError",
     "evalue": "test13() missing 1 required keyword-only argument: 'a'",
     "output_type": "error",
     "traceback": [
      "\u001b[0;31m---------------------------------------------------------------------------\u001b[0m",
      "\u001b[0;31mTypeError\u001b[0m                                 Traceback (most recent call last)",
      "Cell \u001b[0;32mIn[71], line 1\u001b[0m\n\u001b[0;32m----> 1\u001b[0m \u001b[43mtest13\u001b[49m\u001b[43m(\u001b[49m\u001b[38;5;241;43m2\u001b[39;49m\u001b[43m,\u001b[49m\u001b[38;5;241;43m2\u001b[39;49m\u001b[43m,\u001b[49m\u001b[38;5;241;43m3\u001b[39;49m\u001b[43m,\u001b[49m\u001b[38;5;124;43m\"\u001b[39;49m\u001b[38;5;124;43msudh\u001b[39;49m\u001b[38;5;124;43m\"\u001b[39;49m\u001b[43m,\u001b[49m\u001b[38;5;124;43m\"\u001b[39;49m\u001b[38;5;124;43mkrish\u001b[39;49m\u001b[38;5;124;43m\"\u001b[39;49m\u001b[43m,\u001b[49m\u001b[38;5;241;43m86.9\u001b[39;49m\u001b[43m,\u001b[49m\u001b[38;5;241;43m46\u001b[39;49m\u001b[43m)\u001b[49m\n",
      "\u001b[0;31mTypeError\u001b[0m: test13() missing 1 required keyword-only argument: 'a'"
     ]
    }
   ],
   "source": [
    "test13(2,2,3,\"sudh\",\"krish\",86.9,46)"
   ]
  },
  {
   "cell_type": "code",
   "execution_count": 72,
   "id": "6af32fe8-6d2b-41e6-aae0-6a7414b3e08b",
   "metadata": {},
   "outputs": [
    {
     "data": {
      "text/plain": [
       "((2, 2, 3), 10)"
      ]
     },
     "execution_count": 72,
     "metadata": {},
     "output_type": "execute_result"
    }
   ],
   "source": [
    "test13(2,2,3,a=10)"
   ]
  },
  {
   "cell_type": "code",
   "execution_count": 73,
   "id": "b083fd81-879c-4874-8ba3-40bc04ea9ed3",
   "metadata": {},
   "outputs": [],
   "source": [
    "def test14(c,d,a=12,b=1):\n",
    "    return a,b,c,d\n",
    "    "
   ]
  },
  {
   "cell_type": "code",
   "execution_count": 74,
   "id": "a445ad2e-c045-41ee-8c4d-3aa5568ebd26",
   "metadata": {},
   "outputs": [
    {
     "ename": "TypeError",
     "evalue": "test14() missing 2 required positional arguments: 'c' and 'd'",
     "output_type": "error",
     "traceback": [
      "\u001b[0;31m---------------------------------------------------------------------------\u001b[0m",
      "\u001b[0;31mTypeError\u001b[0m                                 Traceback (most recent call last)",
      "Cell \u001b[0;32mIn[74], line 1\u001b[0m\n\u001b[0;32m----> 1\u001b[0m \u001b[43mtest14\u001b[49m\u001b[43m(\u001b[49m\u001b[43m)\u001b[49m\n",
      "\u001b[0;31mTypeError\u001b[0m: test14() missing 2 required positional arguments: 'c' and 'd'"
     ]
    }
   ],
   "source": [
    "test14()"
   ]
  },
  {
   "cell_type": "code",
   "execution_count": 75,
   "id": "65e2bc81-e65a-42b9-922b-cb631571f4b3",
   "metadata": {},
   "outputs": [
    {
     "data": {
      "text/plain": [
       "(12, 1, 2, 6)"
      ]
     },
     "execution_count": 75,
     "metadata": {},
     "output_type": "execute_result"
    }
   ],
   "source": [
    "test14(2,6)"
   ]
  },
  {
   "cell_type": "code",
   "execution_count": 76,
   "id": "efcc190f-3136-407c-b12b-388fd9ba3e2c",
   "metadata": {},
   "outputs": [
    {
     "data": {
      "text/plain": [
       "(23, 56, 2, 5)"
      ]
     },
     "execution_count": 76,
     "metadata": {},
     "output_type": "execute_result"
    }
   ],
   "source": [
    "test14(2,5,23,56)"
   ]
  },
  {
   "cell_type": "code",
   "execution_count": 78,
   "id": "b8adb0e5-c6e5-4e8c-b4f9-f19d9e7ced6c",
   "metadata": {},
   "outputs": [],
   "source": [
    "def test15(**kwargs):\n",
    "    return kwargs\n",
    "    "
   ]
  },
  {
   "cell_type": "code",
   "execution_count": 79,
   "id": "3c02286b-df40-4eeb-9e29-c49027d2192f",
   "metadata": {},
   "outputs": [
    {
     "data": {
      "text/plain": [
       "{}"
      ]
     },
     "execution_count": 79,
     "metadata": {},
     "output_type": "execute_result"
    }
   ],
   "source": [
    "test15()"
   ]
  },
  {
   "cell_type": "code",
   "execution_count": 81,
   "id": "0d5c22e5-f079-4c8a-89d6-80b1bd139ca4",
   "metadata": {},
   "outputs": [
    {
     "data": {
      "text/plain": [
       "dict"
      ]
     },
     "execution_count": 81,
     "metadata": {},
     "output_type": "execute_result"
    }
   ],
   "source": [
    "type(test15())"
   ]
  },
  {
   "cell_type": "code",
   "execution_count": 82,
   "id": "d21b13a9-df3f-442d-84c5-1e50e6e5dc9e",
   "metadata": {},
   "outputs": [
    {
     "data": {
      "text/plain": [
       "{'a': [1, 2, 3], 'b': 'sudh', 'c': 233.4}"
      ]
     },
     "execution_count": 82,
     "metadata": {},
     "output_type": "execute_result"
    }
   ],
   "source": [
    "test15(a=[1,2,3],b=\"sudh\",c=233.4)"
   ]
  },
  {
   "cell_type": "code",
   "execution_count": 84,
   "id": "33f016bc-d969-46dc-84bf-deeb9ba5876f",
   "metadata": {},
   "outputs": [
    {
     "ename": "SyntaxError",
     "evalue": "expression cannot contain assignment, perhaps you meant \"==\"? (1112437784.py, line 1)",
     "output_type": "error",
     "traceback": [
      "\u001b[0;36m  Cell \u001b[0;32mIn[84], line 1\u001b[0;36m\u001b[0m\n\u001b[0;31m    test15('ab'=[1,2,3],b=\"sudh\",c=233.4)\u001b[0m\n\u001b[0m           ^\u001b[0m\n\u001b[0;31mSyntaxError\u001b[0m\u001b[0;31m:\u001b[0m expression cannot contain assignment, perhaps you meant \"==\"?\n"
     ]
    }
   ],
   "source": [
    "test15('ab'=[1,2,3],b=\"sudh\",c=233.4)"
   ]
  },
  {
   "cell_type": "code",
   "execution_count": null,
   "id": "317be15d-fef1-4ec0-bd54-cecdc7ba70c2",
   "metadata": {},
   "outputs": [],
   "source": []
  }
 ],
 "metadata": {
  "kernelspec": {
   "display_name": "Python 3 (ipykernel)",
   "language": "python",
   "name": "python3"
  },
  "language_info": {
   "codemirror_mode": {
    "name": "ipython",
    "version": 3
   },
   "file_extension": ".py",
   "mimetype": "text/x-python",
   "name": "python",
   "nbconvert_exporter": "python",
   "pygments_lexer": "ipython3",
   "version": "3.10.8"
  }
 },
 "nbformat": 4,
 "nbformat_minor": 5
}
