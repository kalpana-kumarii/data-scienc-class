{
 "cells": [
  {
   "cell_type": "code",
   "execution_count": 2,
   "id": "967d2c60-d93d-4656-ae39-a46760579ae5",
   "metadata": {},
   "outputs": [],
   "source": [
    "a=1"
   ]
  },
  {
   "cell_type": "code",
   "execution_count": 3,
   "id": "787e622c-6eb7-468a-9e6c-56a97bc7c2d3",
   "metadata": {},
   "outputs": [
    {
     "name": "stdout",
     "output_type": "stream",
     "text": [
      "<class 'int'>\n"
     ]
    }
   ],
   "source": [
    "print(type(a))"
   ]
  },
  {
   "cell_type": "code",
   "execution_count": 4,
   "id": "8ee61354-46ef-4311-b0ea-8072cd9066e8",
   "metadata": {},
   "outputs": [
    {
     "name": "stdout",
     "output_type": "stream",
     "text": [
      "<class 'str'>\n"
     ]
    }
   ],
   "source": [
    "print(type(\"pwskills\"))"
   ]
  },
  {
   "cell_type": "code",
   "execution_count": 5,
   "id": "14623b3c-429d-4a8e-b157-b5793122cc60",
   "metadata": {},
   "outputs": [
    {
     "ename": "SyntaxError",
     "evalue": "incomplete input (2028411759.py, line 2)",
     "output_type": "error",
     "traceback": [
      "\u001b[0;36m  Cell \u001b[0;32mIn[5], line 2\u001b[0;36m\u001b[0m\n\u001b[0;31m    \u001b[0m\n\u001b[0m    ^\u001b[0m\n\u001b[0;31mSyntaxError\u001b[0m\u001b[0;31m:\u001b[0m incomplete input\n"
     ]
    }
   ],
   "source": [
    "class test :\n",
    "    "
   ]
  },
  {
   "cell_type": "code",
   "execution_count": 6,
   "id": "48032330-5b34-44dc-93e1-5e9c764fc2b1",
   "metadata": {},
   "outputs": [],
   "source": [
    "class test :\n",
    "    pass"
   ]
  },
  {
   "cell_type": "code",
   "execution_count": 7,
   "id": "cc5d2a57-049f-4fe8-b588-ea4dadb5e19e",
   "metadata": {},
   "outputs": [],
   "source": [
    "a=test()"
   ]
  },
  {
   "cell_type": "code",
   "execution_count": 8,
   "id": "2e5632eb-dcbb-43d4-9f16-c72819076daa",
   "metadata": {},
   "outputs": [
    {
     "data": {
      "text/plain": [
       "__main__.test"
      ]
     },
     "execution_count": 8,
     "metadata": {},
     "output_type": "execute_result"
    }
   ],
   "source": [
    "type(a)"
   ]
  },
  {
   "cell_type": "code",
   "execution_count": 9,
   "id": "5e6ab5a6-a444-4f9b-b8b6-9f158f706b96",
   "metadata": {},
   "outputs": [
    {
     "name": "stdout",
     "output_type": "stream",
     "text": [
      "<class '__main__.test'>\n"
     ]
    }
   ],
   "source": [
    "print(type(a))"
   ]
  },
  {
   "cell_type": "code",
   "execution_count": 15,
   "id": "b8b21b85-a02e-435c-bb1a-ea3464e6d83e",
   "metadata": {},
   "outputs": [],
   "source": [
    "class pwskills :\n",
    "    def welcome_msg(self) :\n",
    "        print(\"welcome to pw skills\")\n",
    "        "
   ]
  },
  {
   "cell_type": "code",
   "execution_count": 16,
   "id": "e6bb6346-cd6e-441c-b154-21f2e14d9415",
   "metadata": {},
   "outputs": [],
   "source": [
    "rohan=pwskills()"
   ]
  },
  {
   "cell_type": "code",
   "execution_count": 17,
   "id": "8e575fa8-a523-4f17-a568-d3f77a6fe94e",
   "metadata": {},
   "outputs": [
    {
     "data": {
      "text/plain": [
       "__main__.pwskills"
      ]
     },
     "execution_count": 17,
     "metadata": {},
     "output_type": "execute_result"
    }
   ],
   "source": [
    "type(rohan)"
   ]
  },
  {
   "cell_type": "code",
   "execution_count": 18,
   "id": "1cc272c1-c18e-4705-b7a5-b4347c54fcbc",
   "metadata": {},
   "outputs": [
    {
     "name": "stdout",
     "output_type": "stream",
     "text": [
      "<class '__main__.pwskills'>\n"
     ]
    }
   ],
   "source": [
    "print(type(rohan))"
   ]
  },
  {
   "cell_type": "code",
   "execution_count": 19,
   "id": "6e817ff3-b86e-4c6c-bd29-263c59effa33",
   "metadata": {},
   "outputs": [
    {
     "name": "stdout",
     "output_type": "stream",
     "text": [
      "welcome to pw skills\n"
     ]
    }
   ],
   "source": [
    "rohan.welcome_msg()"
   ]
  },
  {
   "cell_type": "code",
   "execution_count": 20,
   "id": "ab93c3d4-61ff-4e07-87cc-114821881f8d",
   "metadata": {},
   "outputs": [],
   "source": [
    "gaurav=pwskills()"
   ]
  },
  {
   "cell_type": "code",
   "execution_count": 21,
   "id": "c8d18fbf-1c96-4e60-9aa5-5834d09508aa",
   "metadata": {},
   "outputs": [
    {
     "name": "stdout",
     "output_type": "stream",
     "text": [
      "welcome to pw skills\n"
     ]
    }
   ],
   "source": [
    "gaurav.welcome_msg()"
   ]
  },
  {
   "cell_type": "code",
   "execution_count": 1,
   "id": "f45a3193-677a-4891-8e93-f18c903f7683",
   "metadata": {},
   "outputs": [],
   "source": [
    "class pwskillls1 :\n",
    "    def __init__(self,phone_no, email_id,student_id):\n",
    "        self.phone_no=phone_no\n",
    "        self.email_id=email_id\n",
    "        self.student_id=student_id\n",
    "    \n",
    "    def return_student_details(self) :\n",
    "        return  self.student_id,self.phone_no, self.email_id"
   ]
  },
  {
   "cell_type": "code",
   "execution_count": 2,
   "id": "83686fdf-a27a-4da0-bff6-88ab60d95605",
   "metadata": {},
   "outputs": [
    {
     "ename": "TypeError",
     "evalue": "pwskillls1.__init__() missing 3 required positional arguments: 'phone_no', 'email_id', and 'student_id'",
     "output_type": "error",
     "traceback": [
      "\u001b[0;31m---------------------------------------------------------------------------\u001b[0m",
      "\u001b[0;31mTypeError\u001b[0m                                 Traceback (most recent call last)",
      "Cell \u001b[0;32mIn[2], line 1\u001b[0m\n\u001b[0;32m----> 1\u001b[0m rohan\u001b[38;5;241m=\u001b[39m\u001b[43mpwskillls1\u001b[49m\u001b[43m(\u001b[49m\u001b[43m)\u001b[49m\n",
      "\u001b[0;31mTypeError\u001b[0m: pwskillls1.__init__() missing 3 required positional arguments: 'phone_no', 'email_id', and 'student_id'"
     ]
    }
   ],
   "source": [
    "rohan=pwskillls1()"
   ]
  },
  {
   "cell_type": "code",
   "execution_count": 3,
   "id": "f81f2572-8d18-4351-a46a-5cbda1f9abfb",
   "metadata": {},
   "outputs": [],
   "source": [
    "rohan=pwskillls1(27547643845,\"abc@gmail.com\",334)"
   ]
  },
  {
   "cell_type": "code",
   "execution_count": 11,
   "id": "8591d662-6833-4f97-b5e6-b18fdd0e4d6e",
   "metadata": {},
   "outputs": [
    {
     "data": {
      "text/plain": [
       "27547643845"
      ]
     },
     "execution_count": 11,
     "metadata": {},
     "output_type": "execute_result"
    }
   ],
   "source": [
    "rohan.phone_no"
   ]
  },
  {
   "cell_type": "code",
   "execution_count": 12,
   "id": "905b2f1f-9324-4e2b-bfc1-f500caf97c04",
   "metadata": {},
   "outputs": [
    {
     "data": {
      "text/plain": [
       "'abc@gmail.com'"
      ]
     },
     "execution_count": 12,
     "metadata": {},
     "output_type": "execute_result"
    }
   ],
   "source": [
    "rohan.email_id"
   ]
  },
  {
   "cell_type": "code",
   "execution_count": 4,
   "id": "175a37f5-0662-4992-b8d1-f34e226dce7c",
   "metadata": {},
   "outputs": [
    {
     "data": {
      "text/plain": [
       "(334, 27547643845, 'abc@gmail.com')"
      ]
     },
     "execution_count": 4,
     "metadata": {},
     "output_type": "execute_result"
    }
   ],
   "source": [
    "rohan.return_student_details()"
   ]
  },
  {
   "cell_type": "code",
   "execution_count": 5,
   "id": "c0c4371c-90cf-4537-bbe8-bb3c3b58bcb8",
   "metadata": {},
   "outputs": [],
   "source": [
    " # self- reference pointer class"
   ]
  },
  {
   "cell_type": "code",
   "execution_count": 6,
   "id": "e277c309-a7f6-48f0-977e-85b301eb7caa",
   "metadata": {},
   "outputs": [],
   "source": [
    "gaurav=pwskillls1(34574,\"gaurav@gmail.com\",567)"
   ]
  },
  {
   "cell_type": "code",
   "execution_count": 7,
   "id": "6a46fb6c-ae56-4832-ba75-c188881eddef",
   "metadata": {},
   "outputs": [
    {
     "data": {
      "text/plain": [
       "(567, 34574, 'gaurav@gmail.com')"
      ]
     },
     "execution_count": 7,
     "metadata": {},
     "output_type": "execute_result"
    }
   ],
   "source": [
    "gaurav.return_student_details()"
   ]
  },
  {
   "cell_type": "code",
   "execution_count": 16,
   "id": "65a7a027-6cdd-4fae-8fe4-dd4ed3ca8e8f",
   "metadata": {},
   "outputs": [],
   "source": [
    "class pwskillls2 :\n",
    "    def __init__(self,phone_no, email_id,student_id):\n",
    "        self.phone_no1=phone_no\n",
    "        self.email_id1=email_id\n",
    "        self.student_id1=student_id\n",
    "    \n",
    "    def return_student_details(self) :\n",
    "        return  self.student_id1,self.phone_no1, self.email_id1"
   ]
  },
  {
   "cell_type": "code",
   "execution_count": 17,
   "id": "af686376-b567-40bf-b3c5-c698f5d5bfb7",
   "metadata": {},
   "outputs": [],
   "source": [
    "sudh= pwskillls2(458787765,\"sudh@gmail.com\",586)"
   ]
  },
  {
   "cell_type": "code",
   "execution_count": 18,
   "id": "e82b452b-e1d3-49d7-a398-a1ae3a094598",
   "metadata": {},
   "outputs": [
    {
     "data": {
      "text/plain": [
       "<__main__.pwskillls2 at 0x7f47241d5e70>"
      ]
     },
     "execution_count": 18,
     "metadata": {},
     "output_type": "execute_result"
    }
   ],
   "source": [
    "sudh"
   ]
  },
  {
   "cell_type": "code",
   "execution_count": 19,
   "id": "2dc7efd1-ff3d-4252-b985-9a8586fb45ad",
   "metadata": {},
   "outputs": [
    {
     "ename": "AttributeError",
     "evalue": "'pwskillls2' object has no attribute 'phone_no'",
     "output_type": "error",
     "traceback": [
      "\u001b[0;31m---------------------------------------------------------------------------\u001b[0m",
      "\u001b[0;31mAttributeError\u001b[0m                            Traceback (most recent call last)",
      "Cell \u001b[0;32mIn[19], line 1\u001b[0m\n\u001b[0;32m----> 1\u001b[0m \u001b[43msudh\u001b[49m\u001b[38;5;241;43m.\u001b[39;49m\u001b[43mphone_no\u001b[49m\n",
      "\u001b[0;31mAttributeError\u001b[0m: 'pwskillls2' object has no attribute 'phone_no'"
     ]
    }
   ],
   "source": [
    "sudh.phone_no"
   ]
  },
  {
   "cell_type": "code",
   "execution_count": 20,
   "id": "eae09752-18ab-4ee2-aeb1-ae08b5649d00",
   "metadata": {},
   "outputs": [
    {
     "data": {
      "text/plain": [
       "458787765"
      ]
     },
     "execution_count": 20,
     "metadata": {},
     "output_type": "execute_result"
    }
   ],
   "source": [
    "sudh.phone_no1"
   ]
  },
  {
   "cell_type": "code",
   "execution_count": 21,
   "id": "561c4732-8de1-4e6e-bd3b-97cd82ad6809",
   "metadata": {},
   "outputs": [
    {
     "data": {
      "text/plain": [
       "(586, 458787765, 'sudh@gmail.com')"
      ]
     },
     "execution_count": 21,
     "metadata": {},
     "output_type": "execute_result"
    }
   ],
   "source": [
    "sudh.return_student_details()"
   ]
  },
  {
   "cell_type": "code",
   "execution_count": 34,
   "id": "56d9415b-1d3e-4a3f-9dde-bbd40946ee1a",
   "metadata": {},
   "outputs": [],
   "source": [
    "class pwskillls3 :\n",
    "    def __init__(sudh,phone_no, email_id,student_id):\n",
    "        sudh.phone_no1=phone_no\n",
    "        sudh.email_id1=email_id\n",
    "        sudh.student_id1=student_id\n",
    "    \n",
    "    def return_student_details(self) :\n",
    "        return  sudh.student_id1,sudh.phone_no1, sudh.email_id1"
   ]
  },
  {
   "cell_type": "code",
   "execution_count": 35,
   "id": "f584a384-c009-4199-ab68-d0c2811ff5d5",
   "metadata": {},
   "outputs": [],
   "source": [
    "rohann=pwskillls3(27643643,\"rohan@gmail.com\",654)"
   ]
  },
  {
   "cell_type": "code",
   "execution_count": 36,
   "id": "058970b1-f134-4019-b5a9-61d735f8e741",
   "metadata": {},
   "outputs": [
    {
     "data": {
      "text/plain": [
       "(586, 458787765, 'sudh@gmail.com')"
      ]
     },
     "execution_count": 36,
     "metadata": {},
     "output_type": "execute_result"
    }
   ],
   "source": [
    "rohann.return_student_details()"
   ]
  },
  {
   "cell_type": "code",
   "execution_count": 37,
   "id": "297eab77-9e8d-4ca8-820d-ef7692669b2a",
   "metadata": {},
   "outputs": [
    {
     "data": {
      "text/plain": [
       "27643643"
      ]
     },
     "execution_count": 37,
     "metadata": {},
     "output_type": "execute_result"
    }
   ],
   "source": [
    "rohann.phone_no1"
   ]
  },
  {
   "cell_type": "code",
   "execution_count": null,
   "id": "28930024-c7f9-4835-ae53-2c46ff02b2bb",
   "metadata": {},
   "outputs": [],
   "source": []
  }
 ],
 "metadata": {
  "kernelspec": {
   "display_name": "Python 3 (ipykernel)",
   "language": "python",
   "name": "python3"
  },
  "language_info": {
   "codemirror_mode": {
    "name": "ipython",
    "version": 3
   },
   "file_extension": ".py",
   "mimetype": "text/x-python",
   "name": "python",
   "nbconvert_exporter": "python",
   "pygments_lexer": "ipython3",
   "version": "3.10.8"
  }
 },
 "nbformat": 4,
 "nbformat_minor": 5
}
